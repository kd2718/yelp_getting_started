{
 "cells": [
  {
   "cell_type": "code",
   "execution_count": 1,
   "metadata": {},
   "outputs": [],
   "source": [
    "import pandas as pd\n",
    "import seaborn as sns\n",
    "from tqdm import tqdm_notebook as tqdm\n",
    "from tqdm import tqdm as tqdmflat\n",
    "\n",
    "import spacy\n",
    "from spacy.lang.en import English\n",
    "import os\n",
    "\n",
    "from simpletransformers.classification import ClassificationModel\n",
    "\n",
    "import logging\n"
   ]
  },
  {
   "cell_type": "code",
   "execution_count": 2,
   "metadata": {},
   "outputs": [],
   "source": [
    "PATH = 'data/'\n",
    "biz=pd.read_csv(os.path.join(PATH,\"yelp_business.csv\"))\n",
    "reviews=pd.read_csv(os.path.join(PATH,\"yelp_review.csv\"))"
   ]
  },
  {
   "cell_type": "code",
   "execution_count": 3,
   "metadata": {},
   "outputs": [],
   "source": [
    "\n",
    "\n",
    "col = ['neighborhood', 'address', 'latitude', 'longitude', 'stars']\n",
    "biz.drop(columns=col, inplace=True)    \n",
    "\n",
    "biz.categories = biz.categories.apply(lambda x: x.split(\";\"))\n",
    "\n",
    "biz = biz[\n",
    "    (biz.city == 'Cleveland') & \n",
    "    (biz.state == 'OH') & \n",
    "    (biz.is_open == 1) & \n",
    "    (biz.categories.apply(\n",
    "        lambda x: True if 'Restaurants' in x else False\n",
    "    ))]\n",
    "\n"
   ]
  },
  {
   "cell_type": "code",
   "execution_count": 4,
   "metadata": {},
   "outputs": [],
   "source": [
    "df = pd.merge(reviews, biz, how='inner', on='business_id')"
   ]
  },
  {
   "cell_type": "code",
   "execution_count": 5,
   "metadata": {},
   "outputs": [
    {
     "data": {
      "text/html": [
       "<div>\n",
       "<style scoped>\n",
       "    .dataframe tbody tr th:only-of-type {\n",
       "        vertical-align: middle;\n",
       "    }\n",
       "\n",
       "    .dataframe tbody tr th {\n",
       "        vertical-align: top;\n",
       "    }\n",
       "\n",
       "    .dataframe thead th {\n",
       "        text-align: right;\n",
       "    }\n",
       "</style>\n",
       "<table border=\"1\" class=\"dataframe\">\n",
       "  <thead>\n",
       "    <tr style=\"text-align: right;\">\n",
       "      <th></th>\n",
       "      <th>review_id</th>\n",
       "      <th>user_id</th>\n",
       "      <th>business_id</th>\n",
       "      <th>stars</th>\n",
       "      <th>date</th>\n",
       "      <th>text</th>\n",
       "      <th>useful</th>\n",
       "      <th>funny</th>\n",
       "      <th>cool</th>\n",
       "      <th>name</th>\n",
       "      <th>city</th>\n",
       "      <th>state</th>\n",
       "      <th>postal_code</th>\n",
       "      <th>review_count</th>\n",
       "      <th>is_open</th>\n",
       "      <th>categories</th>\n",
       "    </tr>\n",
       "  </thead>\n",
       "  <tbody>\n",
       "    <tr>\n",
       "      <th>0</th>\n",
       "      <td>OPZsR2jCG72uoDNjU71DQQ</td>\n",
       "      <td>qYbWTWH5leltA0bzWAOnmA</td>\n",
       "      <td>meXjqyhTNLFmknY39y2sMg</td>\n",
       "      <td>5</td>\n",
       "      <td>2014-09-11</td>\n",
       "      <td>Solid beers -- Christmas Ale defines my holida...</td>\n",
       "      <td>1</td>\n",
       "      <td>1</td>\n",
       "      <td>1</td>\n",
       "      <td>\"Great Lakes Brewing Company\"</td>\n",
       "      <td>Cleveland</td>\n",
       "      <td>OH</td>\n",
       "      <td>44113</td>\n",
       "      <td>751</td>\n",
       "      <td>1</td>\n",
       "      <td>[Breweries, Restaurants, Event Planning &amp; Serv...</td>\n",
       "    </tr>\n",
       "    <tr>\n",
       "      <th>1</th>\n",
       "      <td>fxGwEiSYDtAen8BNuVGGxg</td>\n",
       "      <td>8Az_JgEpXqAii_5EDkw2tw</td>\n",
       "      <td>meXjqyhTNLFmknY39y2sMg</td>\n",
       "      <td>3</td>\n",
       "      <td>2013-10-13</td>\n",
       "      <td>Meh.  It was OK.  A bartender the night before...</td>\n",
       "      <td>0</td>\n",
       "      <td>1</td>\n",
       "      <td>0</td>\n",
       "      <td>\"Great Lakes Brewing Company\"</td>\n",
       "      <td>Cleveland</td>\n",
       "      <td>OH</td>\n",
       "      <td>44113</td>\n",
       "      <td>751</td>\n",
       "      <td>1</td>\n",
       "      <td>[Breweries, Restaurants, Event Planning &amp; Serv...</td>\n",
       "    </tr>\n",
       "    <tr>\n",
       "      <th>2</th>\n",
       "      <td>Gweb4pADeQ26WnaiKEZ7GQ</td>\n",
       "      <td>T9tEic49JZjN4nCUcDvrRQ</td>\n",
       "      <td>meXjqyhTNLFmknY39y2sMg</td>\n",
       "      <td>4</td>\n",
       "      <td>2014-01-15</td>\n",
       "      <td>Oh Christmas Ale, oh Christmas Ale, how lovely...</td>\n",
       "      <td>1</td>\n",
       "      <td>1</td>\n",
       "      <td>1</td>\n",
       "      <td>\"Great Lakes Brewing Company\"</td>\n",
       "      <td>Cleveland</td>\n",
       "      <td>OH</td>\n",
       "      <td>44113</td>\n",
       "      <td>751</td>\n",
       "      <td>1</td>\n",
       "      <td>[Breweries, Restaurants, Event Planning &amp; Serv...</td>\n",
       "    </tr>\n",
       "    <tr>\n",
       "      <th>3</th>\n",
       "      <td>P1vhwPI56SeZEz10ywaS7w</td>\n",
       "      <td>W1p8_CFW5FISSihmQo5Qzw</td>\n",
       "      <td>meXjqyhTNLFmknY39y2sMg</td>\n",
       "      <td>3</td>\n",
       "      <td>2012-02-09</td>\n",
       "      <td>What is the big deal about this place? The foo...</td>\n",
       "      <td>2</td>\n",
       "      <td>1</td>\n",
       "      <td>1</td>\n",
       "      <td>\"Great Lakes Brewing Company\"</td>\n",
       "      <td>Cleveland</td>\n",
       "      <td>OH</td>\n",
       "      <td>44113</td>\n",
       "      <td>751</td>\n",
       "      <td>1</td>\n",
       "      <td>[Breweries, Restaurants, Event Planning &amp; Serv...</td>\n",
       "    </tr>\n",
       "    <tr>\n",
       "      <th>4</th>\n",
       "      <td>1kQvQlBX0V5_rGddBh9-rQ</td>\n",
       "      <td>Y_PP05RRdzbKRYfDCCfh8w</td>\n",
       "      <td>meXjqyhTNLFmknY39y2sMg</td>\n",
       "      <td>5</td>\n",
       "      <td>2017-04-30</td>\n",
       "      <td>Great Lakes Brewing Company is one of my favor...</td>\n",
       "      <td>0</td>\n",
       "      <td>0</td>\n",
       "      <td>0</td>\n",
       "      <td>\"Great Lakes Brewing Company\"</td>\n",
       "      <td>Cleveland</td>\n",
       "      <td>OH</td>\n",
       "      <td>44113</td>\n",
       "      <td>751</td>\n",
       "      <td>1</td>\n",
       "      <td>[Breweries, Restaurants, Event Planning &amp; Serv...</td>\n",
       "    </tr>\n",
       "    <tr>\n",
       "      <th>...</th>\n",
       "      <td>...</td>\n",
       "      <td>...</td>\n",
       "      <td>...</td>\n",
       "      <td>...</td>\n",
       "      <td>...</td>\n",
       "      <td>...</td>\n",
       "      <td>...</td>\n",
       "      <td>...</td>\n",
       "      <td>...</td>\n",
       "      <td>...</td>\n",
       "      <td>...</td>\n",
       "      <td>...</td>\n",
       "      <td>...</td>\n",
       "      <td>...</td>\n",
       "      <td>...</td>\n",
       "      <td>...</td>\n",
       "    </tr>\n",
       "    <tr>\n",
       "      <th>56905</th>\n",
       "      <td>0vzkpZuQKms6FW8VoJwwGA</td>\n",
       "      <td>pCeiu_FRmS_F_UNGfqiikg</td>\n",
       "      <td>xJfM3UbnaQkLPEMZgLNuyQ</td>\n",
       "      <td>3</td>\n",
       "      <td>2017-11-09</td>\n",
       "      <td>This Wendy's in the past was deserving of one ...</td>\n",
       "      <td>0</td>\n",
       "      <td>0</td>\n",
       "      <td>0</td>\n",
       "      <td>\"Wendy's\"</td>\n",
       "      <td>Cleveland</td>\n",
       "      <td>OH</td>\n",
       "      <td>44105</td>\n",
       "      <td>3</td>\n",
       "      <td>1</td>\n",
       "      <td>[Restaurants, Burgers, Fast Food]</td>\n",
       "    </tr>\n",
       "    <tr>\n",
       "      <th>56906</th>\n",
       "      <td>dUHdSKwCkU-pIuTGJBqt7A</td>\n",
       "      <td>aw2m9p2dPo5OXIx4pQGUPg</td>\n",
       "      <td>xJfM3UbnaQkLPEMZgLNuyQ</td>\n",
       "      <td>4</td>\n",
       "      <td>2016-10-20</td>\n",
       "      <td>I went to get a taco salad because I heard so ...</td>\n",
       "      <td>0</td>\n",
       "      <td>0</td>\n",
       "      <td>0</td>\n",
       "      <td>\"Wendy's\"</td>\n",
       "      <td>Cleveland</td>\n",
       "      <td>OH</td>\n",
       "      <td>44105</td>\n",
       "      <td>3</td>\n",
       "      <td>1</td>\n",
       "      <td>[Restaurants, Burgers, Fast Food]</td>\n",
       "    </tr>\n",
       "    <tr>\n",
       "      <th>56907</th>\n",
       "      <td>CMTHLl4s03tES0Nfskuspg</td>\n",
       "      <td>ORceu2UCCWxyRzvoElYotw</td>\n",
       "      <td>4_sXnBAHU3lGxVfPUn0CNQ</td>\n",
       "      <td>1</td>\n",
       "      <td>2017-02-13</td>\n",
       "      <td>I can't call Number 1 Kitchen the worst Chines...</td>\n",
       "      <td>0</td>\n",
       "      <td>0</td>\n",
       "      <td>0</td>\n",
       "      <td>\"Number 1 Kitchen\"</td>\n",
       "      <td>Cleveland</td>\n",
       "      <td>OH</td>\n",
       "      <td>44111</td>\n",
       "      <td>3</td>\n",
       "      <td>1</td>\n",
       "      <td>[Chinese, Restaurants]</td>\n",
       "    </tr>\n",
       "    <tr>\n",
       "      <th>56908</th>\n",
       "      <td>IP1_iBoZ9fb3Rp5WqS8uAw</td>\n",
       "      <td>bOFmXLfqyLYbvuo_52bdgQ</td>\n",
       "      <td>4_sXnBAHU3lGxVfPUn0CNQ</td>\n",
       "      <td>1</td>\n",
       "      <td>2017-03-23</td>\n",
       "      <td>My family and I have been ordering food from h...</td>\n",
       "      <td>0</td>\n",
       "      <td>0</td>\n",
       "      <td>0</td>\n",
       "      <td>\"Number 1 Kitchen\"</td>\n",
       "      <td>Cleveland</td>\n",
       "      <td>OH</td>\n",
       "      <td>44111</td>\n",
       "      <td>3</td>\n",
       "      <td>1</td>\n",
       "      <td>[Chinese, Restaurants]</td>\n",
       "    </tr>\n",
       "    <tr>\n",
       "      <th>56909</th>\n",
       "      <td>1vJ0SqQTO3P7-ZHWgHnWGA</td>\n",
       "      <td>UpjN_0JM-T9RuWAFLbTmCQ</td>\n",
       "      <td>4_sXnBAHU3lGxVfPUn0CNQ</td>\n",
       "      <td>4</td>\n",
       "      <td>2013-05-19</td>\n",
       "      <td>I usually go for the buffet from 11 am to 2 pm...</td>\n",
       "      <td>0</td>\n",
       "      <td>0</td>\n",
       "      <td>0</td>\n",
       "      <td>\"Number 1 Kitchen\"</td>\n",
       "      <td>Cleveland</td>\n",
       "      <td>OH</td>\n",
       "      <td>44111</td>\n",
       "      <td>3</td>\n",
       "      <td>1</td>\n",
       "      <td>[Chinese, Restaurants]</td>\n",
       "    </tr>\n",
       "  </tbody>\n",
       "</table>\n",
       "<p>56910 rows × 16 columns</p>\n",
       "</div>"
      ],
      "text/plain": [
       "                    review_id                 user_id             business_id  \\\n",
       "0      OPZsR2jCG72uoDNjU71DQQ  qYbWTWH5leltA0bzWAOnmA  meXjqyhTNLFmknY39y2sMg   \n",
       "1      fxGwEiSYDtAen8BNuVGGxg  8Az_JgEpXqAii_5EDkw2tw  meXjqyhTNLFmknY39y2sMg   \n",
       "2      Gweb4pADeQ26WnaiKEZ7GQ  T9tEic49JZjN4nCUcDvrRQ  meXjqyhTNLFmknY39y2sMg   \n",
       "3      P1vhwPI56SeZEz10ywaS7w  W1p8_CFW5FISSihmQo5Qzw  meXjqyhTNLFmknY39y2sMg   \n",
       "4      1kQvQlBX0V5_rGddBh9-rQ  Y_PP05RRdzbKRYfDCCfh8w  meXjqyhTNLFmknY39y2sMg   \n",
       "...                       ...                     ...                     ...   \n",
       "56905  0vzkpZuQKms6FW8VoJwwGA  pCeiu_FRmS_F_UNGfqiikg  xJfM3UbnaQkLPEMZgLNuyQ   \n",
       "56906  dUHdSKwCkU-pIuTGJBqt7A  aw2m9p2dPo5OXIx4pQGUPg  xJfM3UbnaQkLPEMZgLNuyQ   \n",
       "56907  CMTHLl4s03tES0Nfskuspg  ORceu2UCCWxyRzvoElYotw  4_sXnBAHU3lGxVfPUn0CNQ   \n",
       "56908  IP1_iBoZ9fb3Rp5WqS8uAw  bOFmXLfqyLYbvuo_52bdgQ  4_sXnBAHU3lGxVfPUn0CNQ   \n",
       "56909  1vJ0SqQTO3P7-ZHWgHnWGA  UpjN_0JM-T9RuWAFLbTmCQ  4_sXnBAHU3lGxVfPUn0CNQ   \n",
       "\n",
       "       stars        date                                               text  \\\n",
       "0          5  2014-09-11  Solid beers -- Christmas Ale defines my holida...   \n",
       "1          3  2013-10-13  Meh.  It was OK.  A bartender the night before...   \n",
       "2          4  2014-01-15  Oh Christmas Ale, oh Christmas Ale, how lovely...   \n",
       "3          3  2012-02-09  What is the big deal about this place? The foo...   \n",
       "4          5  2017-04-30  Great Lakes Brewing Company is one of my favor...   \n",
       "...      ...         ...                                                ...   \n",
       "56905      3  2017-11-09  This Wendy's in the past was deserving of one ...   \n",
       "56906      4  2016-10-20  I went to get a taco salad because I heard so ...   \n",
       "56907      1  2017-02-13  I can't call Number 1 Kitchen the worst Chines...   \n",
       "56908      1  2017-03-23  My family and I have been ordering food from h...   \n",
       "56909      4  2013-05-19  I usually go for the buffet from 11 am to 2 pm...   \n",
       "\n",
       "       useful  funny  cool                           name       city state  \\\n",
       "0           1      1     1  \"Great Lakes Brewing Company\"  Cleveland    OH   \n",
       "1           0      1     0  \"Great Lakes Brewing Company\"  Cleveland    OH   \n",
       "2           1      1     1  \"Great Lakes Brewing Company\"  Cleveland    OH   \n",
       "3           2      1     1  \"Great Lakes Brewing Company\"  Cleveland    OH   \n",
       "4           0      0     0  \"Great Lakes Brewing Company\"  Cleveland    OH   \n",
       "...       ...    ...   ...                            ...        ...   ...   \n",
       "56905       0      0     0                      \"Wendy's\"  Cleveland    OH   \n",
       "56906       0      0     0                      \"Wendy's\"  Cleveland    OH   \n",
       "56907       0      0     0             \"Number 1 Kitchen\"  Cleveland    OH   \n",
       "56908       0      0     0             \"Number 1 Kitchen\"  Cleveland    OH   \n",
       "56909       0      0     0             \"Number 1 Kitchen\"  Cleveland    OH   \n",
       "\n",
       "      postal_code  review_count  is_open  \\\n",
       "0           44113           751        1   \n",
       "1           44113           751        1   \n",
       "2           44113           751        1   \n",
       "3           44113           751        1   \n",
       "4           44113           751        1   \n",
       "...           ...           ...      ...   \n",
       "56905       44105             3        1   \n",
       "56906       44105             3        1   \n",
       "56907       44111             3        1   \n",
       "56908       44111             3        1   \n",
       "56909       44111             3        1   \n",
       "\n",
       "                                              categories  \n",
       "0      [Breweries, Restaurants, Event Planning & Serv...  \n",
       "1      [Breweries, Restaurants, Event Planning & Serv...  \n",
       "2      [Breweries, Restaurants, Event Planning & Serv...  \n",
       "3      [Breweries, Restaurants, Event Planning & Serv...  \n",
       "4      [Breweries, Restaurants, Event Planning & Serv...  \n",
       "...                                                  ...  \n",
       "56905                  [Restaurants, Burgers, Fast Food]  \n",
       "56906                  [Restaurants, Burgers, Fast Food]  \n",
       "56907                             [Chinese, Restaurants]  \n",
       "56908                             [Chinese, Restaurants]  \n",
       "56909                             [Chinese, Restaurants]  \n",
       "\n",
       "[56910 rows x 16 columns]"
      ]
     },
     "execution_count": 5,
     "metadata": {},
     "output_type": "execute_result"
    }
   ],
   "source": [
    "df"
   ]
  },
  {
   "cell_type": "code",
   "execution_count": 6,
   "metadata": {},
   "outputs": [],
   "source": [
    "df_polar = df[df.stars.isin([1,5])]\n",
    "df_polar = df_polar[['text', 'stars']]"
   ]
  },
  {
   "cell_type": "code",
   "execution_count": 7,
   "metadata": {},
   "outputs": [],
   "source": [
    "df_polar = df_polar.sample(2000,weights=1/df_polar.stars)"
   ]
  },
  {
   "cell_type": "code",
   "execution_count": 8,
   "metadata": {},
   "outputs": [
    {
     "data": {
      "image/png": "[encoded data removed]",
      "text/plain": [
       "<Figure size 432x288 with 1 Axes>"
      ]
     },
     "metadata": {
      "needs_background": "light"
     },
     "output_type": "display_data"
    }
   ],
   "source": [
    "sns.countplot(df_polar.stars);"
   ]
  },
  {
   "cell_type": "code",
   "execution_count": 9,
   "metadata": {},
   "outputs": [
    {
     "data": {
      "text/html": [
       "<div>\n",
       "<style scoped>\n",
       "    .dataframe tbody tr th:only-of-type {\n",
       "        vertical-align: middle;\n",
       "    }\n",
       "\n",
       "    .dataframe tbody tr th {\n",
       "        vertical-align: top;\n",
       "    }\n",
       "\n",
       "    .dataframe thead th {\n",
       "        text-align: right;\n",
       "    }\n",
       "</style>\n",
       "<table border=\"1\" class=\"dataframe\">\n",
       "  <thead>\n",
       "    <tr style=\"text-align: right;\">\n",
       "      <th></th>\n",
       "      <th>text</th>\n",
       "      <th>stars</th>\n",
       "    </tr>\n",
       "  </thead>\n",
       "  <tbody>\n",
       "    <tr>\n",
       "      <th>20546</th>\n",
       "      <td>Great little local coffee shop!! Not only do t...</td>\n",
       "      <td>5</td>\n",
       "    </tr>\n",
       "    <tr>\n",
       "      <th>32277</th>\n",
       "      <td>I care a tremendous amount about food and the ...</td>\n",
       "      <td>1</td>\n",
       "    </tr>\n",
       "    <tr>\n",
       "      <th>1619</th>\n",
       "      <td>The WORST comedy club experience EVER!  We go ...</td>\n",
       "      <td>1</td>\n",
       "    </tr>\n",
       "    <tr>\n",
       "      <th>32779</th>\n",
       "      <td>Firmly established as one of my favorite spots...</td>\n",
       "      <td>5</td>\n",
       "    </tr>\n",
       "    <tr>\n",
       "      <th>24416</th>\n",
       "      <td>$42 bucks for very subpar breakfast which was ...</td>\n",
       "      <td>1</td>\n",
       "    </tr>\n",
       "    <tr>\n",
       "      <th>...</th>\n",
       "      <td>...</td>\n",
       "      <td>...</td>\n",
       "    </tr>\n",
       "    <tr>\n",
       "      <th>49828</th>\n",
       "      <td>So my friend and I were on a roadtrip, I saw t...</td>\n",
       "      <td>5</td>\n",
       "    </tr>\n",
       "    <tr>\n",
       "      <th>48017</th>\n",
       "      <td>Buettner's doughnuts are the best in the Cleve...</td>\n",
       "      <td>5</td>\n",
       "    </tr>\n",
       "    <tr>\n",
       "      <th>37281</th>\n",
       "      <td>I have actually been putting off my Pura Vida ...</td>\n",
       "      <td>5</td>\n",
       "    </tr>\n",
       "    <tr>\n",
       "      <th>50073</th>\n",
       "      <td>The atmosphere was fine, that was the only thi...</td>\n",
       "      <td>1</td>\n",
       "    </tr>\n",
       "    <tr>\n",
       "      <th>20332</th>\n",
       "      <td>I LOVE this place since it opened, the quality...</td>\n",
       "      <td>5</td>\n",
       "    </tr>\n",
       "  </tbody>\n",
       "</table>\n",
       "<p>2000 rows × 2 columns</p>\n",
       "</div>"
      ],
      "text/plain": [
       "                                                    text  stars\n",
       "20546  Great little local coffee shop!! Not only do t...      5\n",
       "32277  I care a tremendous amount about food and the ...      1\n",
       "1619   The WORST comedy club experience EVER!  We go ...      1\n",
       "32779  Firmly established as one of my favorite spots...      5\n",
       "24416  $42 bucks for very subpar breakfast which was ...      1\n",
       "...                                                  ...    ...\n",
       "49828  So my friend and I were on a roadtrip, I saw t...      5\n",
       "48017  Buettner's doughnuts are the best in the Cleve...      5\n",
       "37281  I have actually been putting off my Pura Vida ...      5\n",
       "50073  The atmosphere was fine, that was the only thi...      1\n",
       "20332  I LOVE this place since it opened, the quality...      5\n",
       "\n",
       "[2000 rows x 2 columns]"
      ]
     },
     "execution_count": 9,
     "metadata": {},
     "output_type": "execute_result"
    }
   ],
   "source": [
    "df_polar"
   ]
  },
  {
   "cell_type": "code",
   "execution_count": 10,
   "metadata": {},
   "outputs": [],
   "source": [
    "\n",
    "\n",
    "\n",
    "nlp = English()  # just the language with no model\n",
    "sentencizer = nlp.create_pipe(\"sentencizer\")\n",
    "nlp.add_pipe(sentencizer)\n",
    "doc = nlp.pipe(df_polar.text, n_process=12, batch_size=100)\n",
    "#col_list = ['sents', 'score']\n",
    "#df_sents = pd.DataFrame(columns=col_list)\n",
    "#df_polar['splits'] = list(doc)\n",
    "\n",
    "\n"
   ]
  },
  {
   "cell_type": "code",
   "execution_count": 11,
   "metadata": {},
   "outputs": [
    {
     "name": "stderr",
     "output_type": "stream",
     "text": [
      "<ipython-input-11-84ec43a68edf>:2: TqdmDeprecationWarning: This function will be removed in tqdm==5.0.0\n",
      "Please use `tqdm.notebook.tqdm` instead of `tqdm.tqdm_notebook`\n",
      "  for dfp, dc in tqdm(zip(df_polar.iterrows(), doc), total=len(df_polar)):\n"
     ]
    },
    {
     "data": {
      "application/vnd.jupyter.widget-view+json": {
       "model_id": "a263c54628034f488a8b986c8f5a2688",
       "version_major": 2,
       "version_minor": 0
      },
      "text/plain": [
       "HBox(children=(FloatProgress(value=0.0, max=2000.0), HTML(value='')))"
      ]
     },
     "metadata": {},
     "output_type": "display_data"
    },
    {
     "name": "stdout",
     "output_type": "stream",
     "text": [
      "\n"
     ]
    }
   ],
   "source": [
    "df_polar_sents = pd.DataFrame(columns=['sent', 'score', 'og_text'])\n",
    "for dfp, dc in tqdm(zip(df_polar.iterrows(), doc), total=len(df_polar)):\n",
    "\n",
    "    for sent in dc.sents:\n",
    "        strr = dfp[1].stars\n",
    "        strr = 1 if strr == 5 else 0\n",
    "        snt = sent.string\n",
    "        df_temp = pd.Series({'sent': snt, 'score': strr, 'og_text':dfp[1].text })\n",
    "        df_polar_sents = df_polar_sents.append(df_temp, ignore_index=True)\n",
    "doc.close()"
   ]
  },
  {
   "cell_type": "code",
   "execution_count": 12,
   "metadata": {},
   "outputs": [],
   "source": [
    "df_polar_sents['sent'] = df_polar_sents.sent.str.strip()\n"
   ]
  },
  {
   "cell_type": "code",
   "execution_count": 13,
   "metadata": {},
   "outputs": [
    {
     "data": {
      "text/html": [
       "<div>\n",
       "<style scoped>\n",
       "    .dataframe tbody tr th:only-of-type {\n",
       "        vertical-align: middle;\n",
       "    }\n",
       "\n",
       "    .dataframe tbody tr th {\n",
       "        vertical-align: top;\n",
       "    }\n",
       "\n",
       "    .dataframe thead th {\n",
       "        text-align: right;\n",
       "    }\n",
       "</style>\n",
       "<table border=\"1\" class=\"dataframe\">\n",
       "  <thead>\n",
       "    <tr style=\"text-align: right;\">\n",
       "      <th></th>\n",
       "      <th>sent</th>\n",
       "      <th>score</th>\n",
       "      <th>og_text</th>\n",
       "    </tr>\n",
       "  </thead>\n",
       "  <tbody>\n",
       "    <tr>\n",
       "      <th>0</th>\n",
       "      <td>Great little local coffee shop!!</td>\n",
       "      <td>1</td>\n",
       "      <td>Great little local coffee shop!! Not only do t...</td>\n",
       "    </tr>\n",
       "    <tr>\n",
       "      <th>1</th>\n",
       "      <td>Not only do they have great food they also hav...</td>\n",
       "      <td>1</td>\n",
       "      <td>Great little local coffee shop!! Not only do t...</td>\n",
       "    </tr>\n",
       "    <tr>\n",
       "      <th>2</th>\n",
       "      <td>I loved the veggie sandwich with goat cheese.</td>\n",
       "      <td>1</td>\n",
       "      <td>Great little local coffee shop!! Not only do t...</td>\n",
       "    </tr>\n",
       "    <tr>\n",
       "      <th>3</th>\n",
       "      <td>I love walking up to the Gypsy bean for my cof...</td>\n",
       "      <td>1</td>\n",
       "      <td>Great little local coffee shop!! Not only do t...</td>\n",
       "    </tr>\n",
       "    <tr>\n",
       "      <th>4</th>\n",
       "      <td>I stop by at least  once a week and I am never...</td>\n",
       "      <td>1</td>\n",
       "      <td>Great little local coffee shop!! Not only do t...</td>\n",
       "    </tr>\n",
       "    <tr>\n",
       "      <th>...</th>\n",
       "      <td>...</td>\n",
       "      <td>...</td>\n",
       "      <td>...</td>\n",
       "    </tr>\n",
       "    <tr>\n",
       "      <th>16400</th>\n",
       "      <td>This is the only chinese restuarant i would go...</td>\n",
       "      <td>1</td>\n",
       "      <td>I LOVE this place since it opened, the quality...</td>\n",
       "    </tr>\n",
       "    <tr>\n",
       "      <th>16401</th>\n",
       "      <td>The restuarant was renovated recently.</td>\n",
       "      <td>1</td>\n",
       "      <td>I LOVE this place since it opened, the quality...</td>\n",
       "    </tr>\n",
       "    <tr>\n",
       "      <th>16402</th>\n",
       "      <td>The menu was updated adding lots of new dishes!</td>\n",
       "      <td>1</td>\n",
       "      <td>I LOVE this place since it opened, the quality...</td>\n",
       "    </tr>\n",
       "    <tr>\n",
       "      <th>16403</th>\n",
       "      <td>you definity should go check it out!</td>\n",
       "      <td>1</td>\n",
       "      <td>I LOVE this place since it opened, the quality...</td>\n",
       "    </tr>\n",
       "    <tr>\n",
       "      <th>16404</th>\n",
       "      <td>i would recommend lamb spine, crisp duck and c...</td>\n",
       "      <td>1</td>\n",
       "      <td>I LOVE this place since it opened, the quality...</td>\n",
       "    </tr>\n",
       "  </tbody>\n",
       "</table>\n",
       "<p>16405 rows × 3 columns</p>\n",
       "</div>"
      ],
      "text/plain": [
       "                                                    sent score  \\\n",
       "0                       Great little local coffee shop!!     1   \n",
       "1      Not only do they have great food they also hav...     1   \n",
       "2          I loved the veggie sandwich with goat cheese.     1   \n",
       "3      I love walking up to the Gypsy bean for my cof...     1   \n",
       "4      I stop by at least  once a week and I am never...     1   \n",
       "...                                                  ...   ...   \n",
       "16400  This is the only chinese restuarant i would go...     1   \n",
       "16401             The restuarant was renovated recently.     1   \n",
       "16402    The menu was updated adding lots of new dishes!     1   \n",
       "16403               you definity should go check it out!     1   \n",
       "16404  i would recommend lamb spine, crisp duck and c...     1   \n",
       "\n",
       "                                                 og_text  \n",
       "0      Great little local coffee shop!! Not only do t...  \n",
       "1      Great little local coffee shop!! Not only do t...  \n",
       "2      Great little local coffee shop!! Not only do t...  \n",
       "3      Great little local coffee shop!! Not only do t...  \n",
       "4      Great little local coffee shop!! Not only do t...  \n",
       "...                                                  ...  \n",
       "16400  I LOVE this place since it opened, the quality...  \n",
       "16401  I LOVE this place since it opened, the quality...  \n",
       "16402  I LOVE this place since it opened, the quality...  \n",
       "16403  I LOVE this place since it opened, the quality...  \n",
       "16404  I LOVE this place since it opened, the quality...  \n",
       "\n",
       "[16405 rows x 3 columns]"
      ]
     },
     "execution_count": 13,
     "metadata": {},
     "output_type": "execute_result"
    }
   ],
   "source": [
    "df_polar_sents"
   ]
  },
  {
   "cell_type": "code",
   "execution_count": 29,
   "metadata": {},
   "outputs": [],
   "source": [
    "from sklearn.model_selection import train_test_split\n",
    "\n",
    "traindf, testdf = train_test_split(df_polar_sents) #(df_polar_sents)"
   ]
  },
  {
   "cell_type": "code",
   "execution_count": 30,
   "metadata": {},
   "outputs": [
    {
     "data": {
      "text/html": [
       "<div>\n",
       "<style scoped>\n",
       "    .dataframe tbody tr th:only-of-type {\n",
       "        vertical-align: middle;\n",
       "    }\n",
       "\n",
       "    .dataframe tbody tr th {\n",
       "        vertical-align: top;\n",
       "    }\n",
       "\n",
       "    .dataframe thead th {\n",
       "        text-align: right;\n",
       "    }\n",
       "</style>\n",
       "<table border=\"1\" class=\"dataframe\">\n",
       "  <thead>\n",
       "    <tr style=\"text-align: right;\">\n",
       "      <th></th>\n",
       "      <th>sent</th>\n",
       "      <th>score</th>\n",
       "      <th>og_text</th>\n",
       "    </tr>\n",
       "  </thead>\n",
       "  <tbody>\n",
       "    <tr>\n",
       "      <th>3519</th>\n",
       "      <td>I have no idea why they still let him work the...</td>\n",
       "      <td>0</td>\n",
       "      <td>If you're a woman who likes being harassed by ...</td>\n",
       "    </tr>\n",
       "    <tr>\n",
       "      <th>4875</th>\n",
       "      <td>In short, this was the first time I've ever ha...</td>\n",
       "      <td>1</td>\n",
       "      <td>L'Albatros was stellar to say the least.\\n\\nTh...</td>\n",
       "    </tr>\n",
       "    <tr>\n",
       "      <th>16131</th>\n",
       "      <td>I was in Cleveland for a conference, staying i...</td>\n",
       "      <td>0</td>\n",
       "      <td>I was in Cleveland for a conference, staying i...</td>\n",
       "    </tr>\n",
       "    <tr>\n",
       "      <th>10363</th>\n",
       "      <td>That was awesome!</td>\n",
       "      <td>1</td>\n",
       "      <td>Don't be a fool.  If you don't ever visit the ...</td>\n",
       "    </tr>\n",
       "    <tr>\n",
       "      <th>10846</th>\n",
       "      <td>Mmm!</td>\n",
       "      <td>1</td>\n",
       "      <td>The new menu at this place is delicious!!!  Be...</td>\n",
       "    </tr>\n",
       "    <tr>\n",
       "      <th>...</th>\n",
       "      <td>...</td>\n",
       "      <td>...</td>\n",
       "      <td>...</td>\n",
       "    </tr>\n",
       "    <tr>\n",
       "      <th>15668</th>\n",
       "      <td>We had a 3.5 hour sub-par dinner that did not ...</td>\n",
       "      <td>0</td>\n",
       "      <td>Our dinner club went to Michaelangelo's with v...</td>\n",
       "    </tr>\n",
       "    <tr>\n",
       "      <th>12009</th>\n",
       "      <td>My favorite thing about Touch is that on Frida...</td>\n",
       "      <td>1</td>\n",
       "      <td>Friday, Friday, Friday!\\n\\nMy favorite thing a...</td>\n",
       "    </tr>\n",
       "    <tr>\n",
       "      <th>5576</th>\n",
       "      <td>He actually started to yell at us.</td>\n",
       "      <td>0</td>\n",
       "      <td>We had a horrible experience at touch. We had ...</td>\n",
       "    </tr>\n",
       "    <tr>\n",
       "      <th>14327</th>\n",
       "      <td>however, this food is just terrible.</td>\n",
       "      <td>0</td>\n",
       "      <td>if you don't know what good mexican food is th...</td>\n",
       "    </tr>\n",
       "    <tr>\n",
       "      <th>9243</th>\n",
       "      <td>I could understand if we came in at 1am trying...</td>\n",
       "      <td>0</td>\n",
       "      <td>I live a block away and keep trying to give Ba...</td>\n",
       "    </tr>\n",
       "  </tbody>\n",
       "</table>\n",
       "<p>4102 rows × 3 columns</p>\n",
       "</div>"
      ],
      "text/plain": [
       "                                                    sent score  \\\n",
       "3519   I have no idea why they still let him work the...     0   \n",
       "4875   In short, this was the first time I've ever ha...     1   \n",
       "16131  I was in Cleveland for a conference, staying i...     0   \n",
       "10363                                  That was awesome!     1   \n",
       "10846                                               Mmm!     1   \n",
       "...                                                  ...   ...   \n",
       "15668  We had a 3.5 hour sub-par dinner that did not ...     0   \n",
       "12009  My favorite thing about Touch is that on Frida...     1   \n",
       "5576                  He actually started to yell at us.     0   \n",
       "14327               however, this food is just terrible.     0   \n",
       "9243   I could understand if we came in at 1am trying...     0   \n",
       "\n",
       "                                                 og_text  \n",
       "3519   If you're a woman who likes being harassed by ...  \n",
       "4875   L'Albatros was stellar to say the least.\\n\\nTh...  \n",
       "16131  I was in Cleveland for a conference, staying i...  \n",
       "10363  Don't be a fool.  If you don't ever visit the ...  \n",
       "10846  The new menu at this place is delicious!!!  Be...  \n",
       "...                                                  ...  \n",
       "15668  Our dinner club went to Michaelangelo's with v...  \n",
       "12009  Friday, Friday, Friday!\\n\\nMy favorite thing a...  \n",
       "5576   We had a horrible experience at touch. We had ...  \n",
       "14327  if you don't know what good mexican food is th...  \n",
       "9243   I live a block away and keep trying to give Ba...  \n",
       "\n",
       "[4102 rows x 3 columns]"
      ]
     },
     "execution_count": 30,
     "metadata": {},
     "output_type": "execute_result"
    }
   ],
   "source": [
    "testdf"
   ]
  },
  {
   "cell_type": "code",
   "execution_count": 14,
   "metadata": {},
   "outputs": [],
   "source": [
    "model_args = {\n",
    "    \"num_train_epochs\": 2,\n",
    "    'reprocess_input_data': True, \n",
    "    'overwrite_output_dir': True,\n",
    "    \"fp16\": False,\n",
    "    'regression': True,\n",
    "    \n",
    "}\n",
    "\n",
    "# Create a ClassificationModel\n",
    "model = ClassificationModel(\n",
    "    \"roberta\", \"roberta-base\", args=model_args,  num_labels=1,\n",
    ")"
   ]
  },
  {
   "cell_type": "code",
   "execution_count": 15,
   "metadata": {},
   "outputs": [],
   "source": [
    "\n",
    "logging.basicConfig(level=logging.INFO)\n",
    "transformers_logger = logging.getLogger(\"transformers\")\n",
    "transformers_logger.setLevel(logging.WARNING)"
   ]
  },
  {
   "cell_type": "code",
   "execution_count": 16,
   "metadata": {},
   "outputs": [
    {
     "name": "stderr",
     "output_type": "stream",
     "text": [
      "C:\\tools\\miniconda3\\envs\\yelp_trch\\lib\\site-packages\\simpletransformers\\classification\\classification_model.py:250: UserWarning: Dataframe headers not specified. Falling back to using column 0 as text and column 1 as labels.\n",
      "  warnings.warn(\n",
      "INFO:simpletransformers.classification.classification_model: Converting to features started. Cache is not used.\n"
     ]
    },
    {
     "data": {
      "application/vnd.jupyter.widget-view+json": {
       "model_id": "359a85f1e16448eb93495be95b1cde61",
       "version_major": 2,
       "version_minor": 0
      },
      "text/plain": [
       "HBox(children=(FloatProgress(value=0.0, max=16405.0), HTML(value='')))"
      ]
     },
     "metadata": {},
     "output_type": "display_data"
    },
    {
     "name": "stdout",
     "output_type": "stream",
     "text": [
      "\n"
     ]
    },
    {
     "data": {
      "application/vnd.jupyter.widget-view+json": {
       "model_id": "aa1e0ac60c364a7db37385a697e91980",
       "version_major": 2,
       "version_minor": 0
      },
      "text/plain": [
       "HBox(children=(FloatProgress(value=0.0, description='Epoch', max=2.0, style=ProgressStyle(description_width='i…"
      ]
     },
     "metadata": {},
     "output_type": "display_data"
    },
    {
     "data": {
      "application/vnd.jupyter.widget-view+json": {
       "model_id": "381e6af0360346389b36e6f402936dff",
       "version_major": 2,
       "version_minor": 0
      },
      "text/plain": [
       "HBox(children=(FloatProgress(value=0.0, description='Current iteration', max=2051.0, style=ProgressStyle(descr…"
      ]
     },
     "metadata": {},
     "output_type": "display_data"
    },
    {
     "name": "stdout",
     "output_type": "stream",
     "text": [
      "\r",
      "Running loss: 0.751529"
     ]
    },
    {
     "name": "stderr",
     "output_type": "stream",
     "text": [
      "..\\torch\\csrc\\utils\\python_arg_parser.cpp:756: UserWarning: This overload of add_ is deprecated:\n",
      "\tadd_(Number alpha, Tensor other)\n",
      "Consider using one of the following signatures instead:\n",
      "\tadd_(Tensor other, *, Number alpha)\n"
     ]
    },
    {
     "name": "stdout",
     "output_type": "stream",
     "text": [
      "Running loss: 0.733976"
     ]
    },
    {
     "name": "stderr",
     "output_type": "stream",
     "text": [
      "C:\\tools\\miniconda3\\envs\\yelp_trch\\lib\\site-packages\\torch\\optim\\lr_scheduler.py:231: UserWarning: To get the last learning rate computed by the scheduler, please use `get_last_lr()`.\n",
      "  warnings.warn(\"To get the last learning rate computed by the scheduler, \"\n"
     ]
    },
    {
     "name": "stdout",
     "output_type": "stream",
     "text": [
      "Running loss: 0.525166"
     ]
    },
    {
     "name": "stderr",
     "output_type": "stream",
     "text": [
      "C:\\tools\\miniconda3\\envs\\yelp_trch\\lib\\site-packages\\torch\\optim\\lr_scheduler.py:200: UserWarning: Please also save or load the state of the optimzer when saving or loading the scheduler.\n",
      "  warnings.warn(SAVE_STATE_WARNING, UserWarning)\n"
     ]
    },
    {
     "name": "stdout",
     "output_type": "stream",
     "text": [
      "Running loss: 0.110390\n"
     ]
    },
    {
     "data": {
      "application/vnd.jupyter.widget-view+json": {
       "model_id": "2cb9fa76da92492185245d2cc07a084d",
       "version_major": 2,
       "version_minor": 0
      },
      "text/plain": [
       "HBox(children=(FloatProgress(value=0.0, description='Current iteration', max=2051.0, style=ProgressStyle(descr…"
      ]
     },
     "metadata": {},
     "output_type": "display_data"
    },
    {
     "name": "stdout",
     "output_type": "stream",
     "text": [
      "Running loss: 0.010592\n",
      "\n"
     ]
    },
    {
     "name": "stderr",
     "output_type": "stream",
     "text": [
      "INFO:simpletransformers.classification.classification_model: Training of roberta model complete. Saved to outputs/.\n"
     ]
    }
   ],
   "source": [
    "model.train_model(df_polar_sents[['sent', 'score']])"
   ]
  },
  {
   "cell_type": "code",
   "execution_count": 22,
   "metadata": {},
   "outputs": [
    {
     "name": "stderr",
     "output_type": "stream",
     "text": [
      "INFO:simpletransformers.classification.classification_model: Converting to features started. Cache is not used.\n"
     ]
    },
    {
     "data": {
      "application/vnd.jupyter.widget-view+json": {
       "model_id": "0d951ec2921a4fdb9c68a2cc56c3827a",
       "version_major": 2,
       "version_minor": 0
      },
      "text/plain": [
       "HBox(children=(FloatProgress(value=0.0, max=1.0), HTML(value='')))"
      ]
     },
     "metadata": {},
     "output_type": "display_data"
    },
    {
     "name": "stdout",
     "output_type": "stream",
     "text": [
      "\n"
     ]
    },
    {
     "data": {
      "application/vnd.jupyter.widget-view+json": {
       "model_id": "09dee6e34a414fdcb94fad6d1a528bbb",
       "version_major": 2,
       "version_minor": 0
      },
      "text/plain": [
       "HBox(children=(FloatProgress(value=0.0, max=1.0), HTML(value='')))"
      ]
     },
     "metadata": {},
     "output_type": "display_data"
    },
    {
     "name": "stdout",
     "output_type": "stream",
     "text": [
      "\n"
     ]
    },
    {
     "data": {
      "text/plain": [
       "(array([1], dtype=int64), array([[-2.7601993,  2.3073685]], dtype=float32))"
      ]
     },
     "execution_count": 22,
     "metadata": {},
     "output_type": "execute_result"
    }
   ],
   "source": [
    "model.predict(('food is so good!',))"
   ]
  },
  {
   "cell_type": "code",
   "execution_count": 19,
   "metadata": {},
   "outputs": [
    {
     "name": "stderr",
     "output_type": "stream",
     "text": [
      "INFO:simpletransformers.classification.classification_model: Converting to features started. Cache is not used.\n"
     ]
    },
    {
     "data": {
      "application/vnd.jupyter.widget-view+json": {
       "model_id": "566e8b0a1a5d4762a12243d205e4d26f",
       "version_major": 2,
       "version_minor": 0
      },
      "text/plain": [
       "HBox(children=(FloatProgress(value=0.0, max=1.0), HTML(value='')))"
      ]
     },
     "metadata": {},
     "output_type": "display_data"
    },
    {
     "name": "stdout",
     "output_type": "stream",
     "text": [
      "\n"
     ]
    },
    {
     "data": {
      "application/vnd.jupyter.widget-view+json": {
       "model_id": "fcd59ce3187a4be399ce5372e399a540",
       "version_major": 2,
       "version_minor": 0
      },
      "text/plain": [
       "HBox(children=(FloatProgress(value=0.0, max=1.0), HTML(value='')))"
      ]
     },
     "metadata": {},
     "output_type": "display_data"
    },
    {
     "name": "stdout",
     "output_type": "stream",
     "text": [
      "\n",
      "[0]\n",
      "[[ 1.770315  -1.4432509]]\n"
     ]
    }
   ],
   "source": [
    "predictions, raw_outputs = model.predict([\"I'd like to puts some CD-ROMS on my iPad, is that possible?' — Yes, but wouldn't that block the screen?\" * 25])\n",
    "print(predictions)\n",
    "print(raw_outputs)"
   ]
  },
  {
   "cell_type": "code",
   "execution_count": null,
   "metadata": {},
   "outputs": [],
   "source": []
  }
 ],
 "metadata": {
  "kernelspec": {
   "display_name": "Python 3",
   "language": "python",
   "name": "python3"
  },
  "language_info": {
   "codemirror_mode": {
    "name": "ipython",
    "version": 3
   },
   "file_extension": ".py",
   "mimetype": "text/x-python",
   "name": "python",
   "nbconvert_exporter": "python",
   "pygments_lexer": "ipython3",
   "version": "3.8.2"
  }
 },
 "nbformat": 4,
 "nbformat_minor": 2
}
