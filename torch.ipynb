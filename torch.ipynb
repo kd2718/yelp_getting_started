{
 "cells": [
  {
   "cell_type": "code",
   "execution_count": 1,
   "metadata": {},
   "outputs": [],
   "source": [
    "import pandas as pd\n",
    "import seaborn as sns\n",
    "from tqdm import tqdm_notebook as tqdm\n",
    "\n",
    "import spacy\n",
    "from spacy.lang.en import English\n",
    "\n",
    "from simpletransformers.classification import ClassificationModel\n",
    "\n",
    "import logging\n"
   ]
  },
  {
   "cell_type": "code",
   "execution_count": 2,
   "metadata": {},
   "outputs": [],
   "source": [
    "PATH = 'data/'\n",
    "biz=pd.read_csv(os.path.join(PATH,\"yelp_business.csv\"))\n",
    "reviews=pd.read_csv(os.path.join(PATH,\"yelp_review.csv\"))"
   ]
  },
  {
   "cell_type": "code",
   "execution_count": 3,
   "metadata": {},
   "outputs": [],
   "source": [
    "\n",
    "\n",
    "col = ['neighborhood', 'address', 'latitude', 'longitude', 'stars']\n",
    "biz.drop(columns=col, inplace=True)    \n",
    "\n",
    "biz.categories = biz.categories.apply(lambda x: x.split(\";\"))\n",
    "\n",
    "biz = biz[\n",
    "    (biz.city == 'Cleveland') & \n",
    "    (biz.state == 'OH') & \n",
    "    (biz.is_open == 1) & \n",
    "    (biz.categories.apply(\n",
    "        lambda x: True if 'Restaurants' in x else False\n",
    "    ))]\n",
    "\n"
   ]
  },
  {
   "cell_type": "code",
   "execution_count": 4,
   "metadata": {},
   "outputs": [],
   "source": [
    "df = pd.merge(reviews, biz, how='inner', on='business_id')"
   ]
  },
  {
   "cell_type": "code",
   "execution_count": 7,
   "metadata": {},
   "outputs": [
    {
     "output_type": "execute_result",
     "data": {
      "text/plain": "                    review_id                 user_id             business_id  \\\n0      OPZsR2jCG72uoDNjU71DQQ  qYbWTWH5leltA0bzWAOnmA  meXjqyhTNLFmknY39y2sMg   \n1      fxGwEiSYDtAen8BNuVGGxg  8Az_JgEpXqAii_5EDkw2tw  meXjqyhTNLFmknY39y2sMg   \n2      Gweb4pADeQ26WnaiKEZ7GQ  T9tEic49JZjN4nCUcDvrRQ  meXjqyhTNLFmknY39y2sMg   \n3      P1vhwPI56SeZEz10ywaS7w  W1p8_CFW5FISSihmQo5Qzw  meXjqyhTNLFmknY39y2sMg   \n4      1kQvQlBX0V5_rGddBh9-rQ  Y_PP05RRdzbKRYfDCCfh8w  meXjqyhTNLFmknY39y2sMg   \n...                       ...                     ...                     ...   \n56905  0vzkpZuQKms6FW8VoJwwGA  pCeiu_FRmS_F_UNGfqiikg  xJfM3UbnaQkLPEMZgLNuyQ   \n56906  dUHdSKwCkU-pIuTGJBqt7A  aw2m9p2dPo5OXIx4pQGUPg  xJfM3UbnaQkLPEMZgLNuyQ   \n56907  CMTHLl4s03tES0Nfskuspg  ORceu2UCCWxyRzvoElYotw  4_sXnBAHU3lGxVfPUn0CNQ   \n56908  IP1_iBoZ9fb3Rp5WqS8uAw  bOFmXLfqyLYbvuo_52bdgQ  4_sXnBAHU3lGxVfPUn0CNQ   \n56909  1vJ0SqQTO3P7-ZHWgHnWGA  UpjN_0JM-T9RuWAFLbTmCQ  4_sXnBAHU3lGxVfPUn0CNQ   \n\n       stars        date                                               text  \\\n0          5  2014-09-11  Solid beers -- Christmas Ale defines my holida...   \n1          3  2013-10-13  Meh.  It was OK.  A bartender the night before...   \n2          4  2014-01-15  Oh Christmas Ale, oh Christmas Ale, how lovely...   \n3          3  2012-02-09  What is the big deal about this place? The foo...   \n4          5  2017-04-30  Great Lakes Brewing Company is one of my favor...   \n...      ...         ...                                                ...   \n56905      3  2017-11-09  This Wendy's in the past was deserving of one ...   \n56906      4  2016-10-20  I went to get a taco salad because I heard so ...   \n56907      1  2017-02-13  I can't call Number 1 Kitchen the worst Chines...   \n56908      1  2017-03-23  My family and I have been ordering food from h...   \n56909      4  2013-05-19  I usually go for the buffet from 11 am to 2 pm...   \n\n       useful  funny  cool                           name       city state  \\\n0           1      1     1  \"Great Lakes Brewing Company\"  Cleveland    OH   \n1           0      1     0  \"Great Lakes Brewing Company\"  Cleveland    OH   \n2           1      1     1  \"Great Lakes Brewing Company\"  Cleveland    OH   \n3           2      1     1  \"Great Lakes Brewing Company\"  Cleveland    OH   \n4           0      0     0  \"Great Lakes Brewing Company\"  Cleveland    OH   \n...       ...    ...   ...                            ...        ...   ...   \n56905       0      0     0                      \"Wendy's\"  Cleveland    OH   \n56906       0      0     0                      \"Wendy's\"  Cleveland    OH   \n56907       0      0     0             \"Number 1 Kitchen\"  Cleveland    OH   \n56908       0      0     0             \"Number 1 Kitchen\"  Cleveland    OH   \n56909       0      0     0             \"Number 1 Kitchen\"  Cleveland    OH   \n\n      postal_code  review_count  is_open  \\\n0           44113           751        1   \n1           44113           751        1   \n2           44113           751        1   \n3           44113           751        1   \n4           44113           751        1   \n...           ...           ...      ...   \n56905       44105             3        1   \n56906       44105             3        1   \n56907       44111             3        1   \n56908       44111             3        1   \n56909       44111             3        1   \n\n                                              categories  \n0      [Breweries, Restaurants, Event Planning & Serv...  \n1      [Breweries, Restaurants, Event Planning & Serv...  \n2      [Breweries, Restaurants, Event Planning & Serv...  \n3      [Breweries, Restaurants, Event Planning & Serv...  \n4      [Breweries, Restaurants, Event Planning & Serv...  \n...                                                  ...  \n56905                  [Restaurants, Burgers, Fast Food]  \n56906                  [Restaurants, Burgers, Fast Food]  \n56907                             [Chinese, Restaurants]  \n56908                             [Chinese, Restaurants]  \n56909                             [Chinese, Restaurants]  \n\n[56910 rows x 16 columns]",
      "text/html": "<div>\n<style scoped>\n    .dataframe tbody tr th:only-of-type {\n        vertical-align: middle;\n    }\n\n    .dataframe tbody tr th {\n        vertical-align: top;\n    }\n\n    .dataframe thead th {\n        text-align: right;\n    }\n</style>\n<table border=\"1\" class=\"dataframe\">\n  <thead>\n    <tr style=\"text-align: right;\">\n      <th></th>\n      <th>review_id</th>\n      <th>user_id</th>\n      <th>business_id</th>\n      <th>stars</th>\n      <th>date</th>\n      <th>text</th>\n      <th>useful</th>\n      <th>funny</th>\n      <th>cool</th>\n      <th>name</th>\n      <th>city</th>\n      <th>state</th>\n      <th>postal_code</th>\n      <th>review_count</th>\n      <th>is_open</th>\n      <th>categories</th>\n    </tr>\n  </thead>\n  <tbody>\n    <tr>\n      <th>0</th>\n      <td>OPZsR2jCG72uoDNjU71DQQ</td>\n      <td>qYbWTWH5leltA0bzWAOnmA</td>\n      <td>meXjqyhTNLFmknY39y2sMg</td>\n      <td>5</td>\n      <td>2014-09-11</td>\n      <td>Solid beers -- Christmas Ale defines my holida...</td>\n      <td>1</td>\n      <td>1</td>\n      <td>1</td>\n      <td>\"Great Lakes Brewing Company\"</td>\n      <td>Cleveland</td>\n      <td>OH</td>\n      <td>44113</td>\n      <td>751</td>\n      <td>1</td>\n      <td>[Breweries, Restaurants, Event Planning &amp; Serv...</td>\n    </tr>\n    <tr>\n      <th>1</th>\n      <td>fxGwEiSYDtAen8BNuVGGxg</td>\n      <td>8Az_JgEpXqAii_5EDkw2tw</td>\n      <td>meXjqyhTNLFmknY39y2sMg</td>\n      <td>3</td>\n      <td>2013-10-13</td>\n      <td>Meh.  It was OK.  A bartender the night before...</td>\n      <td>0</td>\n      <td>1</td>\n      <td>0</td>\n      <td>\"Great Lakes Brewing Company\"</td>\n      <td>Cleveland</td>\n      <td>OH</td>\n      <td>44113</td>\n      <td>751</td>\n      <td>1</td>\n      <td>[Breweries, Restaurants, Event Planning &amp; Serv...</td>\n    </tr>\n    <tr>\n      <th>2</th>\n      <td>Gweb4pADeQ26WnaiKEZ7GQ</td>\n      <td>T9tEic49JZjN4nCUcDvrRQ</td>\n      <td>meXjqyhTNLFmknY39y2sMg</td>\n      <td>4</td>\n      <td>2014-01-15</td>\n      <td>Oh Christmas Ale, oh Christmas Ale, how lovely...</td>\n      <td>1</td>\n      <td>1</td>\n      <td>1</td>\n      <td>\"Great Lakes Brewing Company\"</td>\n      <td>Cleveland</td>\n      <td>OH</td>\n      <td>44113</td>\n      <td>751</td>\n      <td>1</td>\n      <td>[Breweries, Restaurants, Event Planning &amp; Serv...</td>\n    </tr>\n    <tr>\n      <th>3</th>\n      <td>P1vhwPI56SeZEz10ywaS7w</td>\n      <td>W1p8_CFW5FISSihmQo5Qzw</td>\n      <td>meXjqyhTNLFmknY39y2sMg</td>\n      <td>3</td>\n      <td>2012-02-09</td>\n      <td>What is the big deal about this place? The foo...</td>\n      <td>2</td>\n      <td>1</td>\n      <td>1</td>\n      <td>\"Great Lakes Brewing Company\"</td>\n      <td>Cleveland</td>\n      <td>OH</td>\n      <td>44113</td>\n      <td>751</td>\n      <td>1</td>\n      <td>[Breweries, Restaurants, Event Planning &amp; Serv...</td>\n    </tr>\n    <tr>\n      <th>4</th>\n      <td>1kQvQlBX0V5_rGddBh9-rQ</td>\n      <td>Y_PP05RRdzbKRYfDCCfh8w</td>\n      <td>meXjqyhTNLFmknY39y2sMg</td>\n      <td>5</td>\n      <td>2017-04-30</td>\n      <td>Great Lakes Brewing Company is one of my favor...</td>\n      <td>0</td>\n      <td>0</td>\n      <td>0</td>\n      <td>\"Great Lakes Brewing Company\"</td>\n      <td>Cleveland</td>\n      <td>OH</td>\n      <td>44113</td>\n      <td>751</td>\n      <td>1</td>\n      <td>[Breweries, Restaurants, Event Planning &amp; Serv...</td>\n    </tr>\n    <tr>\n      <th>...</th>\n      <td>...</td>\n      <td>...</td>\n      <td>...</td>\n      <td>...</td>\n      <td>...</td>\n      <td>...</td>\n      <td>...</td>\n      <td>...</td>\n      <td>...</td>\n      <td>...</td>\n      <td>...</td>\n      <td>...</td>\n      <td>...</td>\n      <td>...</td>\n      <td>...</td>\n      <td>...</td>\n    </tr>\n    <tr>\n      <th>56905</th>\n      <td>0vzkpZuQKms6FW8VoJwwGA</td>\n      <td>pCeiu_FRmS_F_UNGfqiikg</td>\n      <td>xJfM3UbnaQkLPEMZgLNuyQ</td>\n      <td>3</td>\n      <td>2017-11-09</td>\n      <td>This Wendy's in the past was deserving of one ...</td>\n      <td>0</td>\n      <td>0</td>\n      <td>0</td>\n      <td>\"Wendy's\"</td>\n      <td>Cleveland</td>\n      <td>OH</td>\n      <td>44105</td>\n      <td>3</td>\n      <td>1</td>\n      <td>[Restaurants, Burgers, Fast Food]</td>\n    </tr>\n    <tr>\n      <th>56906</th>\n      <td>dUHdSKwCkU-pIuTGJBqt7A</td>\n      <td>aw2m9p2dPo5OXIx4pQGUPg</td>\n      <td>xJfM3UbnaQkLPEMZgLNuyQ</td>\n      <td>4</td>\n      <td>2016-10-20</td>\n      <td>I went to get a taco salad because I heard so ...</td>\n      <td>0</td>\n      <td>0</td>\n      <td>0</td>\n      <td>\"Wendy's\"</td>\n      <td>Cleveland</td>\n      <td>OH</td>\n      <td>44105</td>\n      <td>3</td>\n      <td>1</td>\n      <td>[Restaurants, Burgers, Fast Food]</td>\n    </tr>\n    <tr>\n      <th>56907</th>\n      <td>CMTHLl4s03tES0Nfskuspg</td>\n      <td>ORceu2UCCWxyRzvoElYotw</td>\n      <td>4_sXnBAHU3lGxVfPUn0CNQ</td>\n      <td>1</td>\n      <td>2017-02-13</td>\n      <td>I can't call Number 1 Kitchen the worst Chines...</td>\n      <td>0</td>\n      <td>0</td>\n      <td>0</td>\n      <td>\"Number 1 Kitchen\"</td>\n      <td>Cleveland</td>\n      <td>OH</td>\n      <td>44111</td>\n      <td>3</td>\n      <td>1</td>\n      <td>[Chinese, Restaurants]</td>\n    </tr>\n    <tr>\n      <th>56908</th>\n      <td>IP1_iBoZ9fb3Rp5WqS8uAw</td>\n      <td>bOFmXLfqyLYbvuo_52bdgQ</td>\n      <td>4_sXnBAHU3lGxVfPUn0CNQ</td>\n      <td>1</td>\n      <td>2017-03-23</td>\n      <td>My family and I have been ordering food from h...</td>\n      <td>0</td>\n      <td>0</td>\n      <td>0</td>\n      <td>\"Number 1 Kitchen\"</td>\n      <td>Cleveland</td>\n      <td>OH</td>\n      <td>44111</td>\n      <td>3</td>\n      <td>1</td>\n      <td>[Chinese, Restaurants]</td>\n    </tr>\n    <tr>\n      <th>56909</th>\n      <td>1vJ0SqQTO3P7-ZHWgHnWGA</td>\n      <td>UpjN_0JM-T9RuWAFLbTmCQ</td>\n      <td>4_sXnBAHU3lGxVfPUn0CNQ</td>\n      <td>4</td>\n      <td>2013-05-19</td>\n      <td>I usually go for the buffet from 11 am to 2 pm...</td>\n      <td>0</td>\n      <td>0</td>\n      <td>0</td>\n      <td>\"Number 1 Kitchen\"</td>\n      <td>Cleveland</td>\n      <td>OH</td>\n      <td>44111</td>\n      <td>3</td>\n      <td>1</td>\n      <td>[Chinese, Restaurants]</td>\n    </tr>\n  </tbody>\n</table>\n<p>56910 rows × 16 columns</p>\n</div>"
     },
     "metadata": {},
     "execution_count": 7
    }
   ],
   "source": [
    "df"
   ]
  },
  {
   "cell_type": "code",
   "execution_count": 5,
   "metadata": {},
   "outputs": [],
   "source": [
    "df_polar = df[df.stars.isin([1,5])]\n",
    "df_polar = df_polar[['text', 'stars']]"
   ]
  },
  {
   "cell_type": "code",
   "execution_count": 6,
   "metadata": {},
   "outputs": [],
   "source": [
    "df_polar = df_polar.sample(2000,weights=1/df_polar.stars)"
   ]
  },
  {
   "cell_type": "code",
   "execution_count": 7,
   "metadata": {},
   "outputs": [
    {
     "output_type": "display_data",
     "data": {
      "text/plain": "<Figure size 432x288 with 1 Axes>",
      "image/svg+xml": "<?xml version=\"1.0\" encoding=\"utf-8\" standalone=\"no\"?>\n<!DOCTYPE svg PUBLIC \"-//W3C//DTD SVG 1.1//EN\"\n  \"http://www.w3.org/Graphics/SVG/1.1/DTD/svg11.dtd\">\n<!-- Created with matplotlib (https://matplotlib.org/) -->\n<svg height=\"263.709458pt\" version=\"1.1\" viewBox=\"0 0 395.328125 263.709458\" width=\"395.328125pt\" xmlns=\"http://www.w3.org/2000/svg\" xmlns:xlink=\"http://www.w3.org/1999/xlink\">\n <defs>\n  <style type=\"text/css\">\n*{stroke-linecap:butt;stroke-linejoin:round;}\n  </style>\n </defs>\n <g id=\"figure_1\">\n  <g id=\"patch_1\">\n   <path d=\"M 0 263.709458 \nL 395.328125 263.709458 \nL 395.328125 0 \nL 0 0 \nz\n\" style=\"fill:none;\"/>\n  </g>\n  <g id=\"axes_1\">\n   <g id=\"patch_2\">\n    <path d=\"M 53.328125 226.153208 \nL 388.128125 226.153208 \nL 388.128125 8.713208 \nL 53.328125 8.713208 \nz\n\" style=\"fill:#ffffff;\"/>\n   </g>\n   <g id=\"patch_3\">\n    <path clip-path=\"url(#pf1c56a02cc)\" d=\"M 70.068125 226.153208 \nL 203.988125 226.153208 \nL 203.988125 19.067493 \nL 70.068125 19.067493 \nz\n\" style=\"fill:#3274a1;\"/>\n   </g>\n   <g id=\"patch_4\">\n    <path clip-path=\"url(#pf1c56a02cc)\" d=\"M 237.468125 226.153208 \nL 371.388125 226.153208 \nL 371.388125 74.64894 \nL 237.468125 74.64894 \nz\n\" style=\"fill:#e1812c;\"/>\n   </g>\n   <g id=\"matplotlib.axis_1\">\n    <g id=\"xtick_1\">\n     <g id=\"line2d_1\">\n      <defs>\n       <path d=\"M 0 0 \nL 0 3.5 \n\" id=\"m29c8e7c48c\" style=\"stroke:#000000;stroke-width:0.8;\"/>\n      </defs>\n      <g>\n       <use style=\"stroke:#000000;stroke-width:0.8;\" x=\"137.028125\" xlink:href=\"#m29c8e7c48c\" y=\"226.153208\"/>\n      </g>\n     </g>\n     <g id=\"text_1\">\n      <!-- 1 -->\n      <defs>\n       <path d=\"M 12.40625 8.296875 \nL 28.515625 8.296875 \nL 28.515625 63.921875 \nL 10.984375 60.40625 \nL 10.984375 69.390625 \nL 28.421875 72.90625 \nL 38.28125 72.90625 \nL 38.28125 8.296875 \nL 54.390625 8.296875 \nL 54.390625 0 \nL 12.40625 0 \nz\n\" id=\"DejaVuSans-49\"/>\n      </defs>\n      <g transform=\"translate(133.846875 240.751645)scale(0.1 -0.1)\">\n       <use xlink:href=\"#DejaVuSans-49\"/>\n      </g>\n     </g>\n    </g>\n    <g id=\"xtick_2\">\n     <g id=\"line2d_2\">\n      <g>\n       <use style=\"stroke:#000000;stroke-width:0.8;\" x=\"304.428125\" xlink:href=\"#m29c8e7c48c\" y=\"226.153208\"/>\n      </g>\n     </g>\n     <g id=\"text_2\">\n      <!-- 5 -->\n      <defs>\n       <path d=\"M 10.796875 72.90625 \nL 49.515625 72.90625 \nL 49.515625 64.59375 \nL 19.828125 64.59375 \nL 19.828125 46.734375 \nQ 21.96875 47.46875 24.109375 47.828125 \nQ 26.265625 48.1875 28.421875 48.1875 \nQ 40.625 48.1875 47.75 41.5 \nQ 54.890625 34.8125 54.890625 23.390625 \nQ 54.890625 11.625 47.5625 5.09375 \nQ 40.234375 -1.421875 26.90625 -1.421875 \nQ 22.3125 -1.421875 17.546875 -0.640625 \nQ 12.796875 0.140625 7.71875 1.703125 \nL 7.71875 11.625 \nQ 12.109375 9.234375 16.796875 8.0625 \nQ 21.484375 6.890625 26.703125 6.890625 \nQ 35.15625 6.890625 40.078125 11.328125 \nQ 45.015625 15.765625 45.015625 23.390625 \nQ 45.015625 31 40.078125 35.4375 \nQ 35.15625 39.890625 26.703125 39.890625 \nQ 22.75 39.890625 18.8125 39.015625 \nQ 14.890625 38.140625 10.796875 36.28125 \nz\n\" id=\"DejaVuSans-53\"/>\n      </defs>\n      <g transform=\"translate(301.246875 240.751645)scale(0.1 -0.1)\">\n       <use xlink:href=\"#DejaVuSans-53\"/>\n      </g>\n     </g>\n    </g>\n    <g id=\"text_3\">\n     <!-- stars -->\n     <defs>\n      <path d=\"M 44.28125 53.078125 \nL 44.28125 44.578125 \nQ 40.484375 46.53125 36.375 47.5 \nQ 32.28125 48.484375 27.875 48.484375 \nQ 21.1875 48.484375 17.84375 46.4375 \nQ 14.5 44.390625 14.5 40.28125 \nQ 14.5 37.15625 16.890625 35.375 \nQ 19.28125 33.59375 26.515625 31.984375 \nL 29.59375 31.296875 \nQ 39.15625 29.25 43.1875 25.515625 \nQ 47.21875 21.78125 47.21875 15.09375 \nQ 47.21875 7.46875 41.1875 3.015625 \nQ 35.15625 -1.421875 24.609375 -1.421875 \nQ 20.21875 -1.421875 15.453125 -0.5625 \nQ 10.6875 0.296875 5.421875 2 \nL 5.421875 11.28125 \nQ 10.40625 8.6875 15.234375 7.390625 \nQ 20.0625 6.109375 24.8125 6.109375 \nQ 31.15625 6.109375 34.5625 8.28125 \nQ 37.984375 10.453125 37.984375 14.40625 \nQ 37.984375 18.0625 35.515625 20.015625 \nQ 33.0625 21.96875 24.703125 23.78125 \nL 21.578125 24.515625 \nQ 13.234375 26.265625 9.515625 29.90625 \nQ 5.8125 33.546875 5.8125 39.890625 \nQ 5.8125 47.609375 11.28125 51.796875 \nQ 16.75 56 26.8125 56 \nQ 31.78125 56 36.171875 55.265625 \nQ 40.578125 54.546875 44.28125 53.078125 \nz\n\" id=\"DejaVuSans-115\"/>\n      <path d=\"M 18.3125 70.21875 \nL 18.3125 54.6875 \nL 36.8125 54.6875 \nL 36.8125 47.703125 \nL 18.3125 47.703125 \nL 18.3125 18.015625 \nQ 18.3125 11.328125 20.140625 9.421875 \nQ 21.96875 7.515625 27.59375 7.515625 \nL 36.8125 7.515625 \nL 36.8125 0 \nL 27.59375 0 \nQ 17.1875 0 13.234375 3.875 \nQ 9.28125 7.765625 9.28125 18.015625 \nL 9.28125 47.703125 \nL 2.6875 47.703125 \nL 2.6875 54.6875 \nL 9.28125 54.6875 \nL 9.28125 70.21875 \nz\n\" id=\"DejaVuSans-116\"/>\n      <path d=\"M 34.28125 27.484375 \nQ 23.390625 27.484375 19.1875 25 \nQ 14.984375 22.515625 14.984375 16.5 \nQ 14.984375 11.71875 18.140625 8.90625 \nQ 21.296875 6.109375 26.703125 6.109375 \nQ 34.1875 6.109375 38.703125 11.40625 \nQ 43.21875 16.703125 43.21875 25.484375 \nL 43.21875 27.484375 \nz\nM 52.203125 31.203125 \nL 52.203125 0 \nL 43.21875 0 \nL 43.21875 8.296875 \nQ 40.140625 3.328125 35.546875 0.953125 \nQ 30.953125 -1.421875 24.3125 -1.421875 \nQ 15.921875 -1.421875 10.953125 3.296875 \nQ 6 8.015625 6 15.921875 \nQ 6 25.140625 12.171875 29.828125 \nQ 18.359375 34.515625 30.609375 34.515625 \nL 43.21875 34.515625 \nL 43.21875 35.40625 \nQ 43.21875 41.609375 39.140625 45 \nQ 35.0625 48.390625 27.6875 48.390625 \nQ 23 48.390625 18.546875 47.265625 \nQ 14.109375 46.140625 10.015625 43.890625 \nL 10.015625 52.203125 \nQ 14.9375 54.109375 19.578125 55.046875 \nQ 24.21875 56 28.609375 56 \nQ 40.484375 56 46.34375 49.84375 \nQ 52.203125 43.703125 52.203125 31.203125 \nz\n\" id=\"DejaVuSans-97\"/>\n      <path d=\"M 41.109375 46.296875 \nQ 39.59375 47.171875 37.8125 47.578125 \nQ 36.03125 48 33.890625 48 \nQ 26.265625 48 22.1875 43.046875 \nQ 18.109375 38.09375 18.109375 28.8125 \nL 18.109375 0 \nL 9.078125 0 \nL 9.078125 54.6875 \nL 18.109375 54.6875 \nL 18.109375 46.1875 \nQ 20.953125 51.171875 25.484375 53.578125 \nQ 30.03125 56 36.53125 56 \nQ 37.453125 56 38.578125 55.875 \nQ 39.703125 55.765625 41.0625 55.515625 \nz\n\" id=\"DejaVuSans-114\"/>\n     </defs>\n     <g transform=\"translate(208.439063 254.42977)scale(0.1 -0.1)\">\n      <use xlink:href=\"#DejaVuSans-115\"/>\n      <use x=\"52.099609\" xlink:href=\"#DejaVuSans-116\"/>\n      <use x=\"91.308594\" xlink:href=\"#DejaVuSans-97\"/>\n      <use x=\"152.587891\" xlink:href=\"#DejaVuSans-114\"/>\n      <use x=\"193.701172\" xlink:href=\"#DejaVuSans-115\"/>\n     </g>\n    </g>\n   </g>\n   <g id=\"matplotlib.axis_2\">\n    <g id=\"ytick_1\">\n     <g id=\"line2d_3\">\n      <defs>\n       <path d=\"M 0 0 \nL -3.5 0 \n\" id=\"m293002e6bc\" style=\"stroke:#000000;stroke-width:0.8;\"/>\n      </defs>\n      <g>\n       <use style=\"stroke:#000000;stroke-width:0.8;\" x=\"53.328125\" xlink:href=\"#m293002e6bc\" y=\"226.153208\"/>\n      </g>\n     </g>\n     <g id=\"text_4\">\n      <!-- 0 -->\n      <defs>\n       <path d=\"M 31.78125 66.40625 \nQ 24.171875 66.40625 20.328125 58.90625 \nQ 16.5 51.421875 16.5 36.375 \nQ 16.5 21.390625 20.328125 13.890625 \nQ 24.171875 6.390625 31.78125 6.390625 \nQ 39.453125 6.390625 43.28125 13.890625 \nQ 47.125 21.390625 47.125 36.375 \nQ 47.125 51.421875 43.28125 58.90625 \nQ 39.453125 66.40625 31.78125 66.40625 \nz\nM 31.78125 74.21875 \nQ 44.046875 74.21875 50.515625 64.515625 \nQ 56.984375 54.828125 56.984375 36.375 \nQ 56.984375 17.96875 50.515625 8.265625 \nQ 44.046875 -1.421875 31.78125 -1.421875 \nQ 19.53125 -1.421875 13.0625 8.265625 \nQ 6.59375 17.96875 6.59375 36.375 \nQ 6.59375 54.828125 13.0625 64.515625 \nQ 19.53125 74.21875 31.78125 74.21875 \nz\n\" id=\"DejaVuSans-48\"/>\n      </defs>\n      <g transform=\"translate(39.965625 229.952426)scale(0.1 -0.1)\">\n       <use xlink:href=\"#DejaVuSans-48\"/>\n      </g>\n     </g>\n    </g>\n    <g id=\"ytick_2\">\n     <g id=\"line2d_4\">\n      <g>\n       <use style=\"stroke:#000000;stroke-width:0.8;\" x=\"53.328125\" xlink:href=\"#m293002e6bc\" y=\"190.294209\"/>\n      </g>\n     </g>\n     <g id=\"text_5\">\n      <!-- 200 -->\n      <defs>\n       <path d=\"M 19.1875 8.296875 \nL 53.609375 8.296875 \nL 53.609375 0 \nL 7.328125 0 \nL 7.328125 8.296875 \nQ 12.9375 14.109375 22.625 23.890625 \nQ 32.328125 33.6875 34.8125 36.53125 \nQ 39.546875 41.84375 41.421875 45.53125 \nQ 43.3125 49.21875 43.3125 52.78125 \nQ 43.3125 58.59375 39.234375 62.25 \nQ 35.15625 65.921875 28.609375 65.921875 \nQ 23.96875 65.921875 18.8125 64.3125 \nQ 13.671875 62.703125 7.8125 59.421875 \nL 7.8125 69.390625 \nQ 13.765625 71.78125 18.9375 73 \nQ 24.125 74.21875 28.421875 74.21875 \nQ 39.75 74.21875 46.484375 68.546875 \nQ 53.21875 62.890625 53.21875 53.421875 \nQ 53.21875 48.921875 51.53125 44.890625 \nQ 49.859375 40.875 45.40625 35.40625 \nQ 44.1875 33.984375 37.640625 27.21875 \nQ 31.109375 20.453125 19.1875 8.296875 \nz\n\" id=\"DejaVuSans-50\"/>\n      </defs>\n      <g transform=\"translate(27.240625 194.093428)scale(0.1 -0.1)\">\n       <use xlink:href=\"#DejaVuSans-50\"/>\n       <use x=\"63.623047\" xlink:href=\"#DejaVuSans-48\"/>\n       <use x=\"127.246094\" xlink:href=\"#DejaVuSans-48\"/>\n      </g>\n     </g>\n    </g>\n    <g id=\"ytick_3\">\n     <g id=\"line2d_5\">\n      <g>\n       <use style=\"stroke:#000000;stroke-width:0.8;\" x=\"53.328125\" xlink:href=\"#m293002e6bc\" y=\"154.435211\"/>\n      </g>\n     </g>\n     <g id=\"text_6\">\n      <!-- 400 -->\n      <defs>\n       <path d=\"M 37.796875 64.3125 \nL 12.890625 25.390625 \nL 37.796875 25.390625 \nz\nM 35.203125 72.90625 \nL 47.609375 72.90625 \nL 47.609375 25.390625 \nL 58.015625 25.390625 \nL 58.015625 17.1875 \nL 47.609375 17.1875 \nL 47.609375 0 \nL 37.796875 0 \nL 37.796875 17.1875 \nL 4.890625 17.1875 \nL 4.890625 26.703125 \nz\n\" id=\"DejaVuSans-52\"/>\n      </defs>\n      <g transform=\"translate(27.240625 158.23443)scale(0.1 -0.1)\">\n       <use xlink:href=\"#DejaVuSans-52\"/>\n       <use x=\"63.623047\" xlink:href=\"#DejaVuSans-48\"/>\n       <use x=\"127.246094\" xlink:href=\"#DejaVuSans-48\"/>\n      </g>\n     </g>\n    </g>\n    <g id=\"ytick_4\">\n     <g id=\"line2d_6\">\n      <g>\n       <use style=\"stroke:#000000;stroke-width:0.8;\" x=\"53.328125\" xlink:href=\"#m293002e6bc\" y=\"118.576213\"/>\n      </g>\n     </g>\n     <g id=\"text_7\">\n      <!-- 600 -->\n      <defs>\n       <path d=\"M 33.015625 40.375 \nQ 26.375 40.375 22.484375 35.828125 \nQ 18.609375 31.296875 18.609375 23.390625 \nQ 18.609375 15.53125 22.484375 10.953125 \nQ 26.375 6.390625 33.015625 6.390625 \nQ 39.65625 6.390625 43.53125 10.953125 \nQ 47.40625 15.53125 47.40625 23.390625 \nQ 47.40625 31.296875 43.53125 35.828125 \nQ 39.65625 40.375 33.015625 40.375 \nz\nM 52.59375 71.296875 \nL 52.59375 62.3125 \nQ 48.875 64.0625 45.09375 64.984375 \nQ 41.3125 65.921875 37.59375 65.921875 \nQ 27.828125 65.921875 22.671875 59.328125 \nQ 17.53125 52.734375 16.796875 39.40625 \nQ 19.671875 43.65625 24.015625 45.921875 \nQ 28.375 48.1875 33.59375 48.1875 \nQ 44.578125 48.1875 50.953125 41.515625 \nQ 57.328125 34.859375 57.328125 23.390625 \nQ 57.328125 12.15625 50.6875 5.359375 \nQ 44.046875 -1.421875 33.015625 -1.421875 \nQ 20.359375 -1.421875 13.671875 8.265625 \nQ 6.984375 17.96875 6.984375 36.375 \nQ 6.984375 53.65625 15.1875 63.9375 \nQ 23.390625 74.21875 37.203125 74.21875 \nQ 40.921875 74.21875 44.703125 73.484375 \nQ 48.484375 72.75 52.59375 71.296875 \nz\n\" id=\"DejaVuSans-54\"/>\n      </defs>\n      <g transform=\"translate(27.240625 122.375432)scale(0.1 -0.1)\">\n       <use xlink:href=\"#DejaVuSans-54\"/>\n       <use x=\"63.623047\" xlink:href=\"#DejaVuSans-48\"/>\n       <use x=\"127.246094\" xlink:href=\"#DejaVuSans-48\"/>\n      </g>\n     </g>\n    </g>\n    <g id=\"ytick_5\">\n     <g id=\"line2d_7\">\n      <g>\n       <use style=\"stroke:#000000;stroke-width:0.8;\" x=\"53.328125\" xlink:href=\"#m293002e6bc\" y=\"82.717215\"/>\n      </g>\n     </g>\n     <g id=\"text_8\">\n      <!-- 800 -->\n      <defs>\n       <path d=\"M 31.78125 34.625 \nQ 24.75 34.625 20.71875 30.859375 \nQ 16.703125 27.09375 16.703125 20.515625 \nQ 16.703125 13.921875 20.71875 10.15625 \nQ 24.75 6.390625 31.78125 6.390625 \nQ 38.8125 6.390625 42.859375 10.171875 \nQ 46.921875 13.96875 46.921875 20.515625 \nQ 46.921875 27.09375 42.890625 30.859375 \nQ 38.875 34.625 31.78125 34.625 \nz\nM 21.921875 38.8125 \nQ 15.578125 40.375 12.03125 44.71875 \nQ 8.5 49.078125 8.5 55.328125 \nQ 8.5 64.0625 14.71875 69.140625 \nQ 20.953125 74.21875 31.78125 74.21875 \nQ 42.671875 74.21875 48.875 69.140625 \nQ 55.078125 64.0625 55.078125 55.328125 \nQ 55.078125 49.078125 51.53125 44.71875 \nQ 48 40.375 41.703125 38.8125 \nQ 48.828125 37.15625 52.796875 32.3125 \nQ 56.78125 27.484375 56.78125 20.515625 \nQ 56.78125 9.90625 50.3125 4.234375 \nQ 43.84375 -1.421875 31.78125 -1.421875 \nQ 19.734375 -1.421875 13.25 4.234375 \nQ 6.78125 9.90625 6.78125 20.515625 \nQ 6.78125 27.484375 10.78125 32.3125 \nQ 14.796875 37.15625 21.921875 38.8125 \nz\nM 18.3125 54.390625 \nQ 18.3125 48.734375 21.84375 45.5625 \nQ 25.390625 42.390625 31.78125 42.390625 \nQ 38.140625 42.390625 41.71875 45.5625 \nQ 45.3125 48.734375 45.3125 54.390625 \nQ 45.3125 60.0625 41.71875 63.234375 \nQ 38.140625 66.40625 31.78125 66.40625 \nQ 25.390625 66.40625 21.84375 63.234375 \nQ 18.3125 60.0625 18.3125 54.390625 \nz\n\" id=\"DejaVuSans-56\"/>\n      </defs>\n      <g transform=\"translate(27.240625 86.516434)scale(0.1 -0.1)\">\n       <use xlink:href=\"#DejaVuSans-56\"/>\n       <use x=\"63.623047\" xlink:href=\"#DejaVuSans-48\"/>\n       <use x=\"127.246094\" xlink:href=\"#DejaVuSans-48\"/>\n      </g>\n     </g>\n    </g>\n    <g id=\"ytick_6\">\n     <g id=\"line2d_8\">\n      <g>\n       <use style=\"stroke:#000000;stroke-width:0.8;\" x=\"53.328125\" xlink:href=\"#m293002e6bc\" y=\"46.858217\"/>\n      </g>\n     </g>\n     <g id=\"text_9\">\n      <!-- 1000 -->\n      <g transform=\"translate(20.878125 50.657436)scale(0.1 -0.1)\">\n       <use xlink:href=\"#DejaVuSans-49\"/>\n       <use x=\"63.623047\" xlink:href=\"#DejaVuSans-48\"/>\n       <use x=\"127.246094\" xlink:href=\"#DejaVuSans-48\"/>\n       <use x=\"190.869141\" xlink:href=\"#DejaVuSans-48\"/>\n      </g>\n     </g>\n    </g>\n    <g id=\"ytick_7\">\n     <g id=\"line2d_9\">\n      <g>\n       <use style=\"stroke:#000000;stroke-width:0.8;\" x=\"53.328125\" xlink:href=\"#m293002e6bc\" y=\"10.999219\"/>\n      </g>\n     </g>\n     <g id=\"text_10\">\n      <!-- 1200 -->\n      <g transform=\"translate(20.878125 14.798437)scale(0.1 -0.1)\">\n       <use xlink:href=\"#DejaVuSans-49\"/>\n       <use x=\"63.623047\" xlink:href=\"#DejaVuSans-50\"/>\n       <use x=\"127.246094\" xlink:href=\"#DejaVuSans-48\"/>\n       <use x=\"190.869141\" xlink:href=\"#DejaVuSans-48\"/>\n      </g>\n     </g>\n    </g>\n    <g id=\"text_11\">\n     <!-- count -->\n     <defs>\n      <path d=\"M 48.78125 52.59375 \nL 48.78125 44.1875 \nQ 44.96875 46.296875 41.140625 47.34375 \nQ 37.3125 48.390625 33.40625 48.390625 \nQ 24.65625 48.390625 19.8125 42.84375 \nQ 14.984375 37.3125 14.984375 27.296875 \nQ 14.984375 17.28125 19.8125 11.734375 \nQ 24.65625 6.203125 33.40625 6.203125 \nQ 37.3125 6.203125 41.140625 7.25 \nQ 44.96875 8.296875 48.78125 10.40625 \nL 48.78125 2.09375 \nQ 45.015625 0.34375 40.984375 -0.53125 \nQ 36.96875 -1.421875 32.421875 -1.421875 \nQ 20.0625 -1.421875 12.78125 6.34375 \nQ 5.515625 14.109375 5.515625 27.296875 \nQ 5.515625 40.671875 12.859375 48.328125 \nQ 20.21875 56 33.015625 56 \nQ 37.15625 56 41.109375 55.140625 \nQ 45.0625 54.296875 48.78125 52.59375 \nz\n\" id=\"DejaVuSans-99\"/>\n      <path d=\"M 30.609375 48.390625 \nQ 23.390625 48.390625 19.1875 42.75 \nQ 14.984375 37.109375 14.984375 27.296875 \nQ 14.984375 17.484375 19.15625 11.84375 \nQ 23.34375 6.203125 30.609375 6.203125 \nQ 37.796875 6.203125 41.984375 11.859375 \nQ 46.1875 17.53125 46.1875 27.296875 \nQ 46.1875 37.015625 41.984375 42.703125 \nQ 37.796875 48.390625 30.609375 48.390625 \nz\nM 30.609375 56 \nQ 42.328125 56 49.015625 48.375 \nQ 55.71875 40.765625 55.71875 27.296875 \nQ 55.71875 13.875 49.015625 6.21875 \nQ 42.328125 -1.421875 30.609375 -1.421875 \nQ 18.84375 -1.421875 12.171875 6.21875 \nQ 5.515625 13.875 5.515625 27.296875 \nQ 5.515625 40.765625 12.171875 48.375 \nQ 18.84375 56 30.609375 56 \nz\n\" id=\"DejaVuSans-111\"/>\n      <path d=\"M 8.5 21.578125 \nL 8.5 54.6875 \nL 17.484375 54.6875 \nL 17.484375 21.921875 \nQ 17.484375 14.15625 20.5 10.265625 \nQ 23.53125 6.390625 29.59375 6.390625 \nQ 36.859375 6.390625 41.078125 11.03125 \nQ 45.3125 15.671875 45.3125 23.6875 \nL 45.3125 54.6875 \nL 54.296875 54.6875 \nL 54.296875 0 \nL 45.3125 0 \nL 45.3125 8.40625 \nQ 42.046875 3.421875 37.71875 1 \nQ 33.40625 -1.421875 27.6875 -1.421875 \nQ 18.265625 -1.421875 13.375 4.4375 \nQ 8.5 10.296875 8.5 21.578125 \nz\nM 31.109375 56 \nz\n\" id=\"DejaVuSans-117\"/>\n      <path d=\"M 54.890625 33.015625 \nL 54.890625 0 \nL 45.90625 0 \nL 45.90625 32.71875 \nQ 45.90625 40.484375 42.875 44.328125 \nQ 39.84375 48.1875 33.796875 48.1875 \nQ 26.515625 48.1875 22.3125 43.546875 \nQ 18.109375 38.921875 18.109375 30.90625 \nL 18.109375 0 \nL 9.078125 0 \nL 9.078125 54.6875 \nL 18.109375 54.6875 \nL 18.109375 46.1875 \nQ 21.34375 51.125 25.703125 53.5625 \nQ 30.078125 56 35.796875 56 \nQ 45.21875 56 50.046875 50.171875 \nQ 54.890625 44.34375 54.890625 33.015625 \nz\n\" id=\"DejaVuSans-110\"/>\n     </defs>\n     <g transform=\"translate(14.798438 131.539458)rotate(-90)scale(0.1 -0.1)\">\n      <use xlink:href=\"#DejaVuSans-99\"/>\n      <use x=\"54.980469\" xlink:href=\"#DejaVuSans-111\"/>\n      <use x=\"116.162109\" xlink:href=\"#DejaVuSans-117\"/>\n      <use x=\"179.541016\" xlink:href=\"#DejaVuSans-110\"/>\n      <use x=\"242.919922\" xlink:href=\"#DejaVuSans-116\"/>\n     </g>\n    </g>\n   </g>\n   <g id=\"patch_5\">\n    <path d=\"M 53.328125 226.153208 \nL 53.328125 8.713208 \n\" style=\"fill:none;stroke:#000000;stroke-linecap:square;stroke-linejoin:miter;stroke-width:0.8;\"/>\n   </g>\n   <g id=\"patch_6\">\n    <path d=\"M 388.128125 226.153208 \nL 388.128125 8.713208 \n\" style=\"fill:none;stroke:#000000;stroke-linecap:square;stroke-linejoin:miter;stroke-width:0.8;\"/>\n   </g>\n   <g id=\"patch_7\">\n    <path d=\"M 53.328125 226.153208 \nL 388.128125 226.153208 \n\" style=\"fill:none;stroke:#000000;stroke-linecap:square;stroke-linejoin:miter;stroke-width:0.8;\"/>\n   </g>\n   <g id=\"patch_8\">\n    <path d=\"M 53.328125 8.713208 \nL 388.128125 8.713208 \n\" style=\"fill:none;stroke:#000000;stroke-linecap:square;stroke-linejoin:miter;stroke-width:0.8;\"/>\n   </g>\n  </g>\n </g>\n <defs>\n  <clipPath id=\"pf1c56a02cc\">\n   <rect height=\"217.44\" width=\"334.8\" x=\"53.328125\" y=\"8.713208\"/>\n  </clipPath>\n </defs>\n</svg>\n",
      "image/png": "[encoded data removed]"
     },
     "metadata": {
      "needs_background": "light"
     }
    }
   ],
   "source": [
    "sns.countplot(df_polar.stars);"
   ]
  },
  {
   "cell_type": "code",
   "execution_count": 8,
   "metadata": {},
   "outputs": [
    {
     "output_type": "execute_result",
     "data": {
      "text/plain": "                                                    text  stars\n27779  Almost 3 years since my initial review and I s...      5\n56092  Can't find anything nice to say. When I walked...      1\n32087  Food selection was just okay! Everything was p...      1\n10356  This is hands down the best BBQ in all of Ohio...      5\n15691  I love Momocho. What a gem. And right here in ...      5\n...                                                  ...    ...\n56808  I order a delivery of one medium pizza online ...      1\n15552  Don't bother coming here without reservations....      1\n5950   Incredible meal and service.  Arranged a chef'...      5\n6703   Waited too long for my pizza to arrive and man...      1\n49651  Impeccable service and the eggplant rollup was...      5\n\n[2000 rows x 2 columns]",
      "text/html": "<div>\n<style scoped>\n    .dataframe tbody tr th:only-of-type {\n        vertical-align: middle;\n    }\n\n    .dataframe tbody tr th {\n        vertical-align: top;\n    }\n\n    .dataframe thead th {\n        text-align: right;\n    }\n</style>\n<table border=\"1\" class=\"dataframe\">\n  <thead>\n    <tr style=\"text-align: right;\">\n      <th></th>\n      <th>text</th>\n      <th>stars</th>\n    </tr>\n  </thead>\n  <tbody>\n    <tr>\n      <th>27779</th>\n      <td>Almost 3 years since my initial review and I s...</td>\n      <td>5</td>\n    </tr>\n    <tr>\n      <th>56092</th>\n      <td>Can't find anything nice to say. When I walked...</td>\n      <td>1</td>\n    </tr>\n    <tr>\n      <th>32087</th>\n      <td>Food selection was just okay! Everything was p...</td>\n      <td>1</td>\n    </tr>\n    <tr>\n      <th>10356</th>\n      <td>This is hands down the best BBQ in all of Ohio...</td>\n      <td>5</td>\n    </tr>\n    <tr>\n      <th>15691</th>\n      <td>I love Momocho. What a gem. And right here in ...</td>\n      <td>5</td>\n    </tr>\n    <tr>\n      <th>...</th>\n      <td>...</td>\n      <td>...</td>\n    </tr>\n    <tr>\n      <th>56808</th>\n      <td>I order a delivery of one medium pizza online ...</td>\n      <td>1</td>\n    </tr>\n    <tr>\n      <th>15552</th>\n      <td>Don't bother coming here without reservations....</td>\n      <td>1</td>\n    </tr>\n    <tr>\n      <th>5950</th>\n      <td>Incredible meal and service.  Arranged a chef'...</td>\n      <td>5</td>\n    </tr>\n    <tr>\n      <th>6703</th>\n      <td>Waited too long for my pizza to arrive and man...</td>\n      <td>1</td>\n    </tr>\n    <tr>\n      <th>49651</th>\n      <td>Impeccable service and the eggplant rollup was...</td>\n      <td>5</td>\n    </tr>\n  </tbody>\n</table>\n<p>2000 rows × 2 columns</p>\n</div>"
     },
     "metadata": {},
     "execution_count": 8
    }
   ],
   "source": [
    "df_polar"
   ]
  },
  {
   "cell_type": "code",
   "execution_count": 9,
   "metadata": {},
   "outputs": [],
   "source": [
    "\n",
    "\n",
    "\n",
    "nlp = English()  # just the language with no model\n",
    "sentencizer = nlp.create_pipe(\"sentencizer\")\n",
    "nlp.add_pipe(sentencizer)\n",
    "doc = nlp.pipe(df_polar.text, n_process=12, batch_size=100)\n",
    "#col_list = ['sents', 'score']\n",
    "#df_sents = pd.DataFrame(columns=col_list)\n",
    "#df_polar['splits'] = list(doc)\n",
    "\n",
    "\n"
   ]
  },
  {
   "cell_type": "code",
   "execution_count": 10,
   "metadata": {},
   "outputs": [
    {
     "output_type": "display_data",
     "data": {
      "text/plain": "HBox(children=(FloatProgress(value=0.0, max=2000.0), HTML(value='')))",
      "application/vnd.jupyter.widget-view+json": {
       "version_major": 2,
       "version_minor": 0,
       "model_id": "ff5d9b12e5f6410897f35350e4b5d2c1"
      }
     },
     "metadata": {}
    },
    {
     "output_type": "stream",
     "name": "stdout",
     "text": "\n"
    }
   ],
   "source": [
    "df_polar_sents = pd.DataFrame(columns=['sent', 'score', 'og_text'])\n",
    "for dfp, dc in tqdm(zip(df_polar.iterrows(), doc), total=len(df_polar)):\n",
    "\n",
    "    for sent in dc.sents:\n",
    "        strr = dfp[1].stars\n",
    "        strr = 1 if strr == 5 else 0\n",
    "        snt = sent.string\n",
    "        df_temp = pd.Series({'sent': snt, 'score': strr, 'og_text':dfp[1].text })\n",
    "        df_polar_sents = df_polar_sents.append(df_temp, ignore_index=True)\n",
    "doc.close()"
   ]
  },
  {
   "cell_type": "code",
   "execution_count": 12,
   "metadata": {},
   "outputs": [],
   "source": [
    "df_polar_sents['sent'] = df_polar_sents.sent.str.strip()\n"
   ]
  },
  {
   "cell_type": "code",
   "execution_count": 13,
   "metadata": {},
   "outputs": [
    {
     "output_type": "execute_result",
     "data": {
      "text/plain": "                                                    sent score  \\\n0      Almost 3 years since my initial review and I s...     1   \n1      A craving tends to pop up for me that I just c...     1   \n2      I've taken so many friends and family over the...     1   \n3      A few updates since last time: \\n\\n- There are...     1   \n4      Both are decorated simply, yet pretty and invi...     1   \n...                                                  ...   ...   \n16306  Waited too long for my pizza to arrive and man...     0   \n16307  If you want to wait 2.5 hours for your order a...     0   \n16308  Impeccable service and the eggplant rollup was...     1   \n16309  The only thing better was the Christmas Ale ic...     1   \n16310   P.S. They also have their own small parking lot.     1   \n\n                                                 og_text  \n0      Almost 3 years since my initial review and I s...  \n1      Almost 3 years since my initial review and I s...  \n2      Almost 3 years since my initial review and I s...  \n3      Almost 3 years since my initial review and I s...  \n4      Almost 3 years since my initial review and I s...  \n...                                                  ...  \n16306  Waited too long for my pizza to arrive and man...  \n16307  Waited too long for my pizza to arrive and man...  \n16308  Impeccable service and the eggplant rollup was...  \n16309  Impeccable service and the eggplant rollup was...  \n16310  Impeccable service and the eggplant rollup was...  \n\n[16311 rows x 3 columns]",
      "text/html": "<div>\n<style scoped>\n    .dataframe tbody tr th:only-of-type {\n        vertical-align: middle;\n    }\n\n    .dataframe tbody tr th {\n        vertical-align: top;\n    }\n\n    .dataframe thead th {\n        text-align: right;\n    }\n</style>\n<table border=\"1\" class=\"dataframe\">\n  <thead>\n    <tr style=\"text-align: right;\">\n      <th></th>\n      <th>sent</th>\n      <th>score</th>\n      <th>og_text</th>\n    </tr>\n  </thead>\n  <tbody>\n    <tr>\n      <th>0</th>\n      <td>Almost 3 years since my initial review and I s...</td>\n      <td>1</td>\n      <td>Almost 3 years since my initial review and I s...</td>\n    </tr>\n    <tr>\n      <th>1</th>\n      <td>A craving tends to pop up for me that I just c...</td>\n      <td>1</td>\n      <td>Almost 3 years since my initial review and I s...</td>\n    </tr>\n    <tr>\n      <th>2</th>\n      <td>I've taken so many friends and family over the...</td>\n      <td>1</td>\n      <td>Almost 3 years since my initial review and I s...</td>\n    </tr>\n    <tr>\n      <th>3</th>\n      <td>A few updates since last time: \\n\\n- There are...</td>\n      <td>1</td>\n      <td>Almost 3 years since my initial review and I s...</td>\n    </tr>\n    <tr>\n      <th>4</th>\n      <td>Both are decorated simply, yet pretty and invi...</td>\n      <td>1</td>\n      <td>Almost 3 years since my initial review and I s...</td>\n    </tr>\n    <tr>\n      <th>...</th>\n      <td>...</td>\n      <td>...</td>\n      <td>...</td>\n    </tr>\n    <tr>\n      <th>16306</th>\n      <td>Waited too long for my pizza to arrive and man...</td>\n      <td>0</td>\n      <td>Waited too long for my pizza to arrive and man...</td>\n    </tr>\n    <tr>\n      <th>16307</th>\n      <td>If you want to wait 2.5 hours for your order a...</td>\n      <td>0</td>\n      <td>Waited too long for my pizza to arrive and man...</td>\n    </tr>\n    <tr>\n      <th>16308</th>\n      <td>Impeccable service and the eggplant rollup was...</td>\n      <td>1</td>\n      <td>Impeccable service and the eggplant rollup was...</td>\n    </tr>\n    <tr>\n      <th>16309</th>\n      <td>The only thing better was the Christmas Ale ic...</td>\n      <td>1</td>\n      <td>Impeccable service and the eggplant rollup was...</td>\n    </tr>\n    <tr>\n      <th>16310</th>\n      <td>P.S. They also have their own small parking lot.</td>\n      <td>1</td>\n      <td>Impeccable service and the eggplant rollup was...</td>\n    </tr>\n  </tbody>\n</table>\n<p>16311 rows × 3 columns</p>\n</div>"
     },
     "metadata": {},
     "execution_count": 13
    }
   ],
   "source": [
    "df_polar_sents"
   ]
  },
  {
   "cell_type": "code",
   "execution_count": 17,
   "metadata": {},
   "outputs": [],
   "source": [
    "model_args = {\n",
    "    \"num_train_epochs\": 2,\n",
    "}\n",
    "\n",
    "# Create a ClassificationModel\n",
    "model = ClassificationModel(\n",
    "    \"roberta\", \"roberta-base\", args=model_args\n",
    ")"
   ]
  },
  {
   "cell_type": "code",
   "execution_count": 18,
   "metadata": {},
   "outputs": [],
   "source": [
    "\n",
    "logging.basicConfig(level=logging.INFO)\n",
    "transformers_logger = logging.getLogger(\"transformers\")\n",
    "transformers_logger.setLevel(logging.WARNING)"
   ]
  },
  {
   "cell_type": "code",
   "execution_count": 20,
   "metadata": {},
   "outputs": [
    {
     "output_type": "stream",
     "name": "stderr",
     "text": "INFO:simpletransformers.classification.classification_model: Converting to features started. Cache is not used.\n100%|██████████| 100/100 [00:00<00:00, 1270.97it/s]\nEpoch:   0%|          | 0/2 [00:00<?, ?it/s]\nCurrent iteration:   0%|          | 0/13 [00:00<?, ?it/s]\u001b[ASelected optimization level O1:  Insert automatic casts around Pytorch functions and Tensor methods.\n\nDefaults for this optimization level are:\nenabled                : True\nopt_level              : O1\ncast_model_type        : None\npatch_torch_functions  : True\nkeep_batchnorm_fp32    : None\nmaster_weights         : None\nloss_scale             : dynamic\nProcessing user overrides (additional kwargs that are not None)...\nAfter processing overrides, optimization options are:\nenabled                : True\nopt_level              : O1\ncast_model_type        : None\npatch_torch_functions  : True\nkeep_batchnorm_fp32    : None\nmaster_weights         : None\nloss_scale             : dynamic\nRunning loss: 0.719671\nRunning loss: 0.704027\nRunning loss: 0.727700\nRunning loss: 0.687399\nRunning loss: 0.716179\nRunning loss: 0.689016\nRunning loss: 0.690061\nRunning loss: 0.687706\nRunning loss: 0.674715\nRunning loss: 0.723419\nRunning loss: 0.620568\nRunning loss: 0.725835\nRunning loss: 0.695617\nCurrent iteration: 100%|██████████| 13/13 [00:14<00:00,  1.11s/it]\nEpoch:  50%|█████     | 1/2 [00:15<00:15, 15.52s/it]\nRunning loss: 0.646808\nRunning loss: 0.677621\nRunning loss: 0.794748\nRunning loss: 0.695785\nRunning loss: 0.640389\nRunning loss: 0.589416\nRunning loss: 0.769344\nRunning loss: 0.531627\nRunning loss: 0.620670\nRunning loss: 0.602184\nRunning loss: 0.671012\nRunning loss: 0.779763\nRunning loss: 0.614290\nCurrent iteration: 100%|██████████| 13/13 [00:14<00:00,  1.11s/it]\nEpoch: 100%|██████████| 2/2 [00:31<00:00, 15.55s/it]\nINFO:simpletransformers.classification.classification_model: Training of roberta model complete. Saved to outputs/.\n"
    }
   ],
   "source": [
    "model.train_model(df_polar_sents[['sent', 'score']].sample(100))"
   ]
  },
  {
   "cell_type": "code",
   "execution_count": 62,
   "metadata": {},
   "outputs": [
    {
     "output_type": "execute_result",
     "data": {
      "text/plain": "22498"
     },
     "metadata": {},
     "execution_count": 62
    }
   ],
   "source": [
    "import gc\n",
    "del model\n",
    "gc.collect()"
   ]
  },
  {
   "cell_type": "code",
   "execution_count": null,
   "metadata": {},
   "outputs": [],
   "source": []
  }
 ],
 "metadata": {
  "language_info": {
   "codemirror_mode": {
    "name": "ipython",
    "version": 3
   },
   "file_extension": ".py",
   "mimetype": "text/x-python",
   "name": "python",
   "nbconvert_exporter": "python",
   "pygments_lexer": "ipython3",
   "version": "3.7.7-final"
  },
  "orig_nbformat": 2,
  "kernelspec": {
   "name": "python37764bityelpcondaa94490cf09d448ff98cce07bb2e1986f",
   "display_name": "Python 3.7.7 64-bit ('yelp': conda)"
  }
 },
 "nbformat": 4,
 "nbformat_minor": 2
}