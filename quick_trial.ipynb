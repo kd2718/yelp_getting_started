{
 "cells": [
  {
   "cell_type": "code",
   "execution_count": 6,
   "metadata": {},
   "outputs": [],
   "source": [
    "import numpy as np\n",
    "import pandas as pd\n",
    "import matplotlib.pyplot as plt\n",
    "import seaborn as sns \n",
    "from collections import Counter\n",
    "from IPython.display import display_html\n",
    "import os\n",
    "import warnings\n",
    "\n",
    "warnings.filterwarnings('ignore', category=FutureWarning)\n",
    "sns.set(style=\"whitegrid\")\n",
    "\n",
    "# supervised learning models\n",
    "from sklearn import ensemble\n",
    "from sklearn import tree\n",
    "from sklearn.linear_model import LogisticRegression\n",
    "from sklearn.linear_model import SGDClassifier\n",
    "from sklearn.naive_bayes import MultinomialNB\n",
    "\n",
    "from sklearn.metrics import classification_report\n",
    "from sklearn.metrics import confusion_matrix\n",
    "from sklearn.metrics import f1_score\n",
    "from sklearn.metrics import roc_curve\n",
    "from sklearn.metrics import auc\n",
    "from sklearn.model_selection import cross_val_score\n",
    "from sklearn.model_selection import GridSearchCV\n",
    "from sklearn.model_selection import train_test_split\n",
    "from sklearn.model_selection import StratifiedKFold\n",
    "from sklearn.pipeline import make_pipeline\n",
    "from sklearn.preprocessing import Normalizer\n",
    "\n",
    "# deep neutral network\n",
    "import tensorflow as tf\n",
    "from tensorflow.keras import layers\n",
    "from tensorflow.keras.models import Sequential\n",
    "from tensorflow.keras.layers import LSTM\n",
    "from tensorflow.keras.layers import Dense\n",
    "from tensorflow.keras.layers import Dropout\n",
    "from tensorflow.keras.layers import SpatialDropout1D\n",
    "from tensorflow.keras.layers import Embedding\n",
    "from tensorflow.keras.preprocessing.text import Tokenizer\n",
    "from tensorflow.keras.preprocessing.sequence import pad_sequences\n",
    "\n",
    "# text manipulation tools\n",
    "from sklearn.feature_extraction.text import TfidfVectorizer\n",
    "from sklearn.feature_extraction.text import CountVectorizer\n",
    "from sklearn.decomposition import TruncatedSVD\n",
    "from sklearn.decomposition import LatentDirichletAllocation as LDA\n",
    "from sklearn.decomposition import NMF\n",
    "import spacy\n",
    "#import wordcould"
   ]
  },
  {
   "cell_type": "code",
   "execution_count": 7,
   "metadata": {},
   "outputs": [],
   "source": [
    "PATH = 'data/'\n",
    "biz=pd.read_csv(os.path.join(PATH,\"yelp_business.csv\"))\n",
    "reviews=pd.read_csv(os.path.join(PATH,\"yelp_review.csv\"))"
   ]
  },
  {
   "cell_type": "code",
   "execution_count": 8,
   "metadata": {},
   "outputs": [],
   "source": [
    "col = ['neighborhood', 'address', 'latitude', 'longitude', 'stars']\n",
    "biz.drop(columns=col, inplace=True)    \n",
    "\n",
    "biz.categories = biz.categories.apply(lambda x: x.split(\";\"))\n",
    "\n",
    "biz = biz[\n",
    "    (biz.city == 'Cleveland') & \n",
    "    (biz.state == 'OH') & \n",
    "    (biz.is_open == 1) & \n",
    "    (biz.categories.apply(\n",
    "        lambda x: True if 'Restaurants' in x else False\n",
    "    ))]"
   ]
  },
  {
   "cell_type": "code",
   "execution_count": 9,
   "metadata": {},
   "outputs": [
    {
     "output_type": "execute_result",
     "data": {
      "text/plain": "                review_id                 user_id             business_id  \\\n0  OPZsR2jCG72uoDNjU71DQQ  qYbWTWH5leltA0bzWAOnmA  meXjqyhTNLFmknY39y2sMg   \n1  fxGwEiSYDtAen8BNuVGGxg  8Az_JgEpXqAii_5EDkw2tw  meXjqyhTNLFmknY39y2sMg   \n2  Gweb4pADeQ26WnaiKEZ7GQ  T9tEic49JZjN4nCUcDvrRQ  meXjqyhTNLFmknY39y2sMg   \n3  P1vhwPI56SeZEz10ywaS7w  W1p8_CFW5FISSihmQo5Qzw  meXjqyhTNLFmknY39y2sMg   \n4  1kQvQlBX0V5_rGddBh9-rQ  Y_PP05RRdzbKRYfDCCfh8w  meXjqyhTNLFmknY39y2sMg   \n\n   stars        date                                               text  \\\n0      5  2014-09-11  Solid beers -- Christmas Ale defines my holida...   \n1      3  2013-10-13  Meh.  It was OK.  A bartender the night before...   \n2      4  2014-01-15  Oh Christmas Ale, oh Christmas Ale, how lovely...   \n3      3  2012-02-09  What is the big deal about this place? The foo...   \n4      5  2017-04-30  Great Lakes Brewing Company is one of my favor...   \n\n   useful  funny  cool                           name       city state  \\\n0       1      1     1  \"Great Lakes Brewing Company\"  Cleveland    OH   \n1       0      1     0  \"Great Lakes Brewing Company\"  Cleveland    OH   \n2       1      1     1  \"Great Lakes Brewing Company\"  Cleveland    OH   \n3       2      1     1  \"Great Lakes Brewing Company\"  Cleveland    OH   \n4       0      0     0  \"Great Lakes Brewing Company\"  Cleveland    OH   \n\n  postal_code  review_count  is_open  \\\n0       44113           751        1   \n1       44113           751        1   \n2       44113           751        1   \n3       44113           751        1   \n4       44113           751        1   \n\n                                          categories  \n0  [Breweries, Restaurants, Event Planning & Serv...  \n1  [Breweries, Restaurants, Event Planning & Serv...  \n2  [Breweries, Restaurants, Event Planning & Serv...  \n3  [Breweries, Restaurants, Event Planning & Serv...  \n4  [Breweries, Restaurants, Event Planning & Serv...  ",
      "text/html": "<div>\n<style scoped>\n    .dataframe tbody tr th:only-of-type {\n        vertical-align: middle;\n    }\n\n    .dataframe tbody tr th {\n        vertical-align: top;\n    }\n\n    .dataframe thead th {\n        text-align: right;\n    }\n</style>\n<table border=\"1\" class=\"dataframe\">\n  <thead>\n    <tr style=\"text-align: right;\">\n      <th></th>\n      <th>review_id</th>\n      <th>user_id</th>\n      <th>business_id</th>\n      <th>stars</th>\n      <th>date</th>\n      <th>text</th>\n      <th>useful</th>\n      <th>funny</th>\n      <th>cool</th>\n      <th>name</th>\n      <th>city</th>\n      <th>state</th>\n      <th>postal_code</th>\n      <th>review_count</th>\n      <th>is_open</th>\n      <th>categories</th>\n    </tr>\n  </thead>\n  <tbody>\n    <tr>\n      <th>0</th>\n      <td>OPZsR2jCG72uoDNjU71DQQ</td>\n      <td>qYbWTWH5leltA0bzWAOnmA</td>\n      <td>meXjqyhTNLFmknY39y2sMg</td>\n      <td>5</td>\n      <td>2014-09-11</td>\n      <td>Solid beers -- Christmas Ale defines my holida...</td>\n      <td>1</td>\n      <td>1</td>\n      <td>1</td>\n      <td>\"Great Lakes Brewing Company\"</td>\n      <td>Cleveland</td>\n      <td>OH</td>\n      <td>44113</td>\n      <td>751</td>\n      <td>1</td>\n      <td>[Breweries, Restaurants, Event Planning &amp; Serv...</td>\n    </tr>\n    <tr>\n      <th>1</th>\n      <td>fxGwEiSYDtAen8BNuVGGxg</td>\n      <td>8Az_JgEpXqAii_5EDkw2tw</td>\n      <td>meXjqyhTNLFmknY39y2sMg</td>\n      <td>3</td>\n      <td>2013-10-13</td>\n      <td>Meh.  It was OK.  A bartender the night before...</td>\n      <td>0</td>\n      <td>1</td>\n      <td>0</td>\n      <td>\"Great Lakes Brewing Company\"</td>\n      <td>Cleveland</td>\n      <td>OH</td>\n      <td>44113</td>\n      <td>751</td>\n      <td>1</td>\n      <td>[Breweries, Restaurants, Event Planning &amp; Serv...</td>\n    </tr>\n    <tr>\n      <th>2</th>\n      <td>Gweb4pADeQ26WnaiKEZ7GQ</td>\n      <td>T9tEic49JZjN4nCUcDvrRQ</td>\n      <td>meXjqyhTNLFmknY39y2sMg</td>\n      <td>4</td>\n      <td>2014-01-15</td>\n      <td>Oh Christmas Ale, oh Christmas Ale, how lovely...</td>\n      <td>1</td>\n      <td>1</td>\n      <td>1</td>\n      <td>\"Great Lakes Brewing Company\"</td>\n      <td>Cleveland</td>\n      <td>OH</td>\n      <td>44113</td>\n      <td>751</td>\n      <td>1</td>\n      <td>[Breweries, Restaurants, Event Planning &amp; Serv...</td>\n    </tr>\n    <tr>\n      <th>3</th>\n      <td>P1vhwPI56SeZEz10ywaS7w</td>\n      <td>W1p8_CFW5FISSihmQo5Qzw</td>\n      <td>meXjqyhTNLFmknY39y2sMg</td>\n      <td>3</td>\n      <td>2012-02-09</td>\n      <td>What is the big deal about this place? The foo...</td>\n      <td>2</td>\n      <td>1</td>\n      <td>1</td>\n      <td>\"Great Lakes Brewing Company\"</td>\n      <td>Cleveland</td>\n      <td>OH</td>\n      <td>44113</td>\n      <td>751</td>\n      <td>1</td>\n      <td>[Breweries, Restaurants, Event Planning &amp; Serv...</td>\n    </tr>\n    <tr>\n      <th>4</th>\n      <td>1kQvQlBX0V5_rGddBh9-rQ</td>\n      <td>Y_PP05RRdzbKRYfDCCfh8w</td>\n      <td>meXjqyhTNLFmknY39y2sMg</td>\n      <td>5</td>\n      <td>2017-04-30</td>\n      <td>Great Lakes Brewing Company is one of my favor...</td>\n      <td>0</td>\n      <td>0</td>\n      <td>0</td>\n      <td>\"Great Lakes Brewing Company\"</td>\n      <td>Cleveland</td>\n      <td>OH</td>\n      <td>44113</td>\n      <td>751</td>\n      <td>1</td>\n      <td>[Breweries, Restaurants, Event Planning &amp; Serv...</td>\n    </tr>\n  </tbody>\n</table>\n</div>"
     },
     "metadata": {},
     "execution_count": 9
    }
   ],
   "source": [
    "\n",
    "\n",
    "df = pd.merge(reviews, biz, how='inner', on='business_id')\n",
    "df.head()\n",
    "\n"
   ]
  },
  {
   "cell_type": "code",
   "execution_count": 5,
   "metadata": {},
   "outputs": [],
   "source": [
    "# removes punctation, stops words, and lemmatizes\n",
    "def lemma(text):\n",
    "    lem_text = []\n",
    "    \n",
    "    for token in text:\n",
    "        if (not token.is_punct and \n",
    "            not token.is_stop and \n",
    "            not token.like_email and\n",
    "            not token.like_url and\n",
    "            token.lemma not in nlp.Defaults.stop_words): \n",
    "            lem_text.append(token.lemma_.lower())\n",
    "    \n",
    "    return \" \".join(lem_text)"
   ]
  },
  {
   "cell_type": "code",
   "execution_count": 6,
   "metadata": {},
   "outputs": [
    {
     "name": "stdout",
     "output_type": "stream",
     "text": [
      "Requirement already satisfied: en_core_web_sm==2.2.5 from https://github.com/explosion/spacy-models/releases/download/en_core_web_sm-2.2.5/en_core_web_sm-2.2.5.tar.gz#egg=en_core_web_sm==2.2.5 in c:\\tools\\miniconda3\\envs\\yelp\\lib\\site-packages (2.2.5)\n",
      "Requirement already satisfied: spacy>=2.2.2 in c:\\tools\\miniconda3\\envs\\yelp\\lib\\site-packages (from en_core_web_sm==2.2.5) (2.2.4)\n",
      "Requirement already satisfied: cymem<2.1.0,>=2.0.2 in c:\\tools\\miniconda3\\envs\\yelp\\lib\\site-packages (from spacy>=2.2.2->en_core_web_sm==2.2.5) (2.0.3)\n",
      "Requirement already satisfied: requests<3.0.0,>=2.13.0 in c:\\tools\\miniconda3\\envs\\yelp\\lib\\site-packages (from spacy>=2.2.2->en_core_web_sm==2.2.5) (2.23.0)\n",
      "Requirement already satisfied: blis<0.5.0,>=0.4.0 in c:\\tools\\miniconda3\\envs\\yelp\\lib\\site-packages (from spacy>=2.2.2->en_core_web_sm==2.2.5) (0.4.1)\n",
      "Requirement already satisfied: setuptools in c:\\tools\\miniconda3\\envs\\yelp\\lib\\site-packages (from spacy>=2.2.2->en_core_web_sm==2.2.5) (46.2.0.post20200511)\n",
      "Requirement already satisfied: preshed<3.1.0,>=3.0.2 in c:\\tools\\miniconda3\\envs\\yelp\\lib\\site-packages (from spacy>=2.2.2->en_core_web_sm==2.2.5) (3.0.2)\n",
      "Requirement already satisfied: plac<1.2.0,>=0.9.6 in c:\\tools\\miniconda3\\envs\\yelp\\lib\\site-packages (from spacy>=2.2.2->en_core_web_sm==2.2.5) (0.9.6)\n",
      "Requirement already satisfied: thinc==7.4.0 in c:\\tools\\miniconda3\\envs\\yelp\\lib\\site-packages (from spacy>=2.2.2->en_core_web_sm==2.2.5) (7.4.0)\n",
      "Requirement already satisfied: catalogue<1.1.0,>=0.0.7 in c:\\tools\\miniconda3\\envs\\yelp\\lib\\site-packages (from spacy>=2.2.2->en_core_web_sm==2.2.5) (1.0.0)\n",
      "Requirement already satisfied: srsly<1.1.0,>=1.0.2 in c:\\tools\\miniconda3\\envs\\yelp\\lib\\site-packages (from spacy>=2.2.2->en_core_web_sm==2.2.5) (1.0.2)\n",
      "Requirement already satisfied: murmurhash<1.1.0,>=0.28.0 in c:\\tools\\miniconda3\\envs\\yelp\\lib\\site-packages (from spacy>=2.2.2->en_core_web_sm==2.2.5) (1.0.0)\n",
      "Requirement already satisfied: tqdm<5.0.0,>=4.38.0 in c:\\tools\\miniconda3\\envs\\yelp\\lib\\site-packages (from spacy>=2.2.2->en_core_web_sm==2.2.5) (4.46.0)\n",
      "Requirement already satisfied: wasabi<1.1.0,>=0.4.0 in c:\\tools\\miniconda3\\envs\\yelp\\lib\\site-packages (from spacy>=2.2.2->en_core_web_sm==2.2.5) (0.6.0)\n",
      "Requirement already satisfied: numpy>=1.15.0 in c:\\tools\\miniconda3\\envs\\yelp\\lib\\site-packages (from spacy>=2.2.2->en_core_web_sm==2.2.5) (1.18.1)\n",
      "Requirement already satisfied: idna<3,>=2.5 in c:\\tools\\miniconda3\\envs\\yelp\\lib\\site-packages (from requests<3.0.0,>=2.13.0->spacy>=2.2.2->en_core_web_sm==2.2.5) (2.9)\n",
      "Requirement already satisfied: chardet<4,>=3.0.2 in c:\\tools\\miniconda3\\envs\\yelp\\lib\\site-packages (from requests<3.0.0,>=2.13.0->spacy>=2.2.2->en_core_web_sm==2.2.5) (3.0.4)\n",
      "Requirement already satisfied: certifi>=2017.4.17 in c:\\tools\\miniconda3\\envs\\yelp\\lib\\site-packages (from requests<3.0.0,>=2.13.0->spacy>=2.2.2->en_core_web_sm==2.2.5) (2020.4.5.1)\n",
      "Requirement already satisfied: urllib3!=1.25.0,!=1.25.1,<1.26,>=1.21.1 in c:\\tools\\miniconda3\\envs\\yelp\\lib\\site-packages (from requests<3.0.0,>=2.13.0->spacy>=2.2.2->en_core_web_sm==2.2.5) (1.25.8)\n",
      "Requirement already satisfied: importlib-metadata>=0.20; python_version < \"3.8\" in c:\\tools\\miniconda3\\envs\\yelp\\lib\\site-packages (from catalogue<1.1.0,>=0.0.7->spacy>=2.2.2->en_core_web_sm==2.2.5) (1.6.0)\n",
      "Requirement already satisfied: zipp>=0.5 in c:\\tools\\miniconda3\\envs\\yelp\\lib\\site-packages (from importlib-metadata>=0.20; python_version < \"3.8\"->catalogue<1.1.0,>=0.0.7->spacy>=2.2.2->en_core_web_sm==2.2.5) (3.1.0)\n",
      "\u001b[38;5;2m[+] Download and installation successful\u001b[0m\n",
      "You can now load the model via spacy.load('en_core_web_sm')\n"
     ]
    }
   ],
   "source": [
    "# i never have this installed\n",
    "!python -m spacy download en_core_web_sm\n",
    "nlp = spacy.load(\"en_core_web_sm\")"
   ]
  },
  {
   "cell_type": "markdown",
   "metadata": {},
   "source": [
    "## Super Slow Way"
   ]
  },
  {
   "cell_type": "code",
   "execution_count": 12,
   "metadata": {},
   "outputs": [
    {
     "name": "stdout",
     "output_type": "stream",
     "text": [
      "Wall time: 21min 18s\n"
     ]
    },
    {
     "data": {
      "text/html": [
       "<div>\n",
       "<style scoped>\n",
       "    .dataframe tbody tr th:only-of-type {\n",
       "        vertical-align: middle;\n",
       "    }\n",
       "\n",
       "    .dataframe tbody tr th {\n",
       "        vertical-align: top;\n",
       "    }\n",
       "\n",
       "    .dataframe thead th {\n",
       "        text-align: right;\n",
       "    }\n",
       "</style>\n",
       "<table border=\"1\" class=\"dataframe\">\n",
       "  <thead>\n",
       "    <tr style=\"text-align: right;\">\n",
       "      <th></th>\n",
       "      <th>review_id</th>\n",
       "      <th>user_id</th>\n",
       "      <th>business_id</th>\n",
       "      <th>stars</th>\n",
       "      <th>date</th>\n",
       "      <th>text</th>\n",
       "      <th>useful</th>\n",
       "      <th>funny</th>\n",
       "      <th>cool</th>\n",
       "      <th>name</th>\n",
       "      <th>city</th>\n",
       "      <th>state</th>\n",
       "      <th>postal_code</th>\n",
       "      <th>review_count</th>\n",
       "      <th>is_open</th>\n",
       "      <th>categories</th>\n",
       "      <th>proc</th>\n",
       "      <th>lem_join_kd</th>\n",
       "      <th>lem_join</th>\n",
       "    </tr>\n",
       "  </thead>\n",
       "  <tbody>\n",
       "    <tr>\n",
       "      <th>0</th>\n",
       "      <td>OPZsR2jCG72uoDNjU71DQQ</td>\n",
       "      <td>qYbWTWH5leltA0bzWAOnmA</td>\n",
       "      <td>meXjqyhTNLFmknY39y2sMg</td>\n",
       "      <td>5</td>\n",
       "      <td>2014-09-11</td>\n",
       "      <td>Solid beers -- Christmas Ale defines my holida...</td>\n",
       "      <td>1</td>\n",
       "      <td>1</td>\n",
       "      <td>1</td>\n",
       "      <td>\"Great Lakes Brewing Company\"</td>\n",
       "      <td>Cleveland</td>\n",
       "      <td>OH</td>\n",
       "      <td>44113</td>\n",
       "      <td>751</td>\n",
       "      <td>1</td>\n",
       "      <td>[Breweries, Restaurants, Event Planning &amp; Serv...</td>\n",
       "      <td>(Solid, beers, --, Christmas, Ale, defines, my...</td>\n",
       "      <td>solid beer christmas ale define holiday season...</td>\n",
       "      <td>solid beer christmas ale define holiday season...</td>\n",
       "    </tr>\n",
       "    <tr>\n",
       "      <th>1</th>\n",
       "      <td>fxGwEiSYDtAen8BNuVGGxg</td>\n",
       "      <td>8Az_JgEpXqAii_5EDkw2tw</td>\n",
       "      <td>meXjqyhTNLFmknY39y2sMg</td>\n",
       "      <td>3</td>\n",
       "      <td>2013-10-13</td>\n",
       "      <td>Meh.  It was OK.  A bartender the night before...</td>\n",
       "      <td>0</td>\n",
       "      <td>1</td>\n",
       "      <td>0</td>\n",
       "      <td>\"Great Lakes Brewing Company\"</td>\n",
       "      <td>Cleveland</td>\n",
       "      <td>OH</td>\n",
       "      <td>44113</td>\n",
       "      <td>751</td>\n",
       "      <td>1</td>\n",
       "      <td>[Breweries, Restaurants, Event Planning &amp; Serv...</td>\n",
       "      <td>(Meh, .,  , It, was, OK, .,  , A, bartender, t...</td>\n",
       "      <td>meh   ok   bartender night tell cleveland eat ...</td>\n",
       "      <td>meh   ok   bartender night tell cleveland eat ...</td>\n",
       "    </tr>\n",
       "    <tr>\n",
       "      <th>2</th>\n",
       "      <td>Gweb4pADeQ26WnaiKEZ7GQ</td>\n",
       "      <td>T9tEic49JZjN4nCUcDvrRQ</td>\n",
       "      <td>meXjqyhTNLFmknY39y2sMg</td>\n",
       "      <td>4</td>\n",
       "      <td>2014-01-15</td>\n",
       "      <td>Oh Christmas Ale, oh Christmas Ale, how lovely...</td>\n",
       "      <td>1</td>\n",
       "      <td>1</td>\n",
       "      <td>1</td>\n",
       "      <td>\"Great Lakes Brewing Company\"</td>\n",
       "      <td>Cleveland</td>\n",
       "      <td>OH</td>\n",
       "      <td>44113</td>\n",
       "      <td>751</td>\n",
       "      <td>1</td>\n",
       "      <td>[Breweries, Restaurants, Event Planning &amp; Serv...</td>\n",
       "      <td>(Oh, Christmas, Ale, ,, oh, Christmas, Ale, ,,...</td>\n",
       "      <td>oh christmas ale oh christmas ale lovely taste...</td>\n",
       "      <td>oh christmas ale oh christmas ale lovely taste...</td>\n",
       "    </tr>\n",
       "    <tr>\n",
       "      <th>3</th>\n",
       "      <td>P1vhwPI56SeZEz10ywaS7w</td>\n",
       "      <td>W1p8_CFW5FISSihmQo5Qzw</td>\n",
       "      <td>meXjqyhTNLFmknY39y2sMg</td>\n",
       "      <td>3</td>\n",
       "      <td>2012-02-09</td>\n",
       "      <td>What is the big deal about this place? The foo...</td>\n",
       "      <td>2</td>\n",
       "      <td>1</td>\n",
       "      <td>1</td>\n",
       "      <td>\"Great Lakes Brewing Company\"</td>\n",
       "      <td>Cleveland</td>\n",
       "      <td>OH</td>\n",
       "      <td>44113</td>\n",
       "      <td>751</td>\n",
       "      <td>1</td>\n",
       "      <td>[Breweries, Restaurants, Event Planning &amp; Serv...</td>\n",
       "      <td>(What, is, the, big, deal, about, this, place,...</td>\n",
       "      <td>big deal place food overprice beer</td>\n",
       "      <td>big deal place food overprice beer</td>\n",
       "    </tr>\n",
       "    <tr>\n",
       "      <th>4</th>\n",
       "      <td>1kQvQlBX0V5_rGddBh9-rQ</td>\n",
       "      <td>Y_PP05RRdzbKRYfDCCfh8w</td>\n",
       "      <td>meXjqyhTNLFmknY39y2sMg</td>\n",
       "      <td>5</td>\n",
       "      <td>2017-04-30</td>\n",
       "      <td>Great Lakes Brewing Company is one of my favor...</td>\n",
       "      <td>0</td>\n",
       "      <td>0</td>\n",
       "      <td>0</td>\n",
       "      <td>\"Great Lakes Brewing Company\"</td>\n",
       "      <td>Cleveland</td>\n",
       "      <td>OH</td>\n",
       "      <td>44113</td>\n",
       "      <td>751</td>\n",
       "      <td>1</td>\n",
       "      <td>[Breweries, Restaurants, Event Planning &amp; Serv...</td>\n",
       "      <td>(Great, Lakes, Brewing, Company, is, one, of, ...</td>\n",
       "      <td>great lakes brewing company favorite place wor...</td>\n",
       "      <td>great lakes brewing company favorite place wor...</td>\n",
       "    </tr>\n",
       "  </tbody>\n",
       "</table>\n",
       "</div>"
      ],
      "text/plain": [
       "                review_id                 user_id             business_id  \\\n",
       "0  OPZsR2jCG72uoDNjU71DQQ  qYbWTWH5leltA0bzWAOnmA  meXjqyhTNLFmknY39y2sMg   \n",
       "1  fxGwEiSYDtAen8BNuVGGxg  8Az_JgEpXqAii_5EDkw2tw  meXjqyhTNLFmknY39y2sMg   \n",
       "2  Gweb4pADeQ26WnaiKEZ7GQ  T9tEic49JZjN4nCUcDvrRQ  meXjqyhTNLFmknY39y2sMg   \n",
       "3  P1vhwPI56SeZEz10ywaS7w  W1p8_CFW5FISSihmQo5Qzw  meXjqyhTNLFmknY39y2sMg   \n",
       "4  1kQvQlBX0V5_rGddBh9-rQ  Y_PP05RRdzbKRYfDCCfh8w  meXjqyhTNLFmknY39y2sMg   \n",
       "\n",
       "   stars        date                                               text  \\\n",
       "0      5  2014-09-11  Solid beers -- Christmas Ale defines my holida...   \n",
       "1      3  2013-10-13  Meh.  It was OK.  A bartender the night before...   \n",
       "2      4  2014-01-15  Oh Christmas Ale, oh Christmas Ale, how lovely...   \n",
       "3      3  2012-02-09  What is the big deal about this place? The foo...   \n",
       "4      5  2017-04-30  Great Lakes Brewing Company is one of my favor...   \n",
       "\n",
       "   useful  funny  cool                           name       city state  \\\n",
       "0       1      1     1  \"Great Lakes Brewing Company\"  Cleveland    OH   \n",
       "1       0      1     0  \"Great Lakes Brewing Company\"  Cleveland    OH   \n",
       "2       1      1     1  \"Great Lakes Brewing Company\"  Cleveland    OH   \n",
       "3       2      1     1  \"Great Lakes Brewing Company\"  Cleveland    OH   \n",
       "4       0      0     0  \"Great Lakes Brewing Company\"  Cleveland    OH   \n",
       "\n",
       "  postal_code  review_count  is_open  \\\n",
       "0       44113           751        1   \n",
       "1       44113           751        1   \n",
       "2       44113           751        1   \n",
       "3       44113           751        1   \n",
       "4       44113           751        1   \n",
       "\n",
       "                                          categories  \\\n",
       "0  [Breweries, Restaurants, Event Planning & Serv...   \n",
       "1  [Breweries, Restaurants, Event Planning & Serv...   \n",
       "2  [Breweries, Restaurants, Event Planning & Serv...   \n",
       "3  [Breweries, Restaurants, Event Planning & Serv...   \n",
       "4  [Breweries, Restaurants, Event Planning & Serv...   \n",
       "\n",
       "                                                proc  \\\n",
       "0  (Solid, beers, --, Christmas, Ale, defines, my...   \n",
       "1  (Meh, .,  , It, was, OK, .,  , A, bartender, t...   \n",
       "2  (Oh, Christmas, Ale, ,, oh, Christmas, Ale, ,,...   \n",
       "3  (What, is, the, big, deal, about, this, place,...   \n",
       "4  (Great, Lakes, Brewing, Company, is, one, of, ...   \n",
       "\n",
       "                                         lem_join_kd  \\\n",
       "0  solid beer christmas ale define holiday season...   \n",
       "1  meh   ok   bartender night tell cleveland eat ...   \n",
       "2  oh christmas ale oh christmas ale lovely taste...   \n",
       "3                 big deal place food overprice beer   \n",
       "4  great lakes brewing company favorite place wor...   \n",
       "\n",
       "                                            lem_join  \n",
       "0  solid beer christmas ale define holiday season...  \n",
       "1  meh   ok   bartender night tell cleveland eat ...  \n",
       "2  oh christmas ale oh christmas ale lovely taste...  \n",
       "3                 big deal place food overprice beer  \n",
       "4  great lakes brewing company favorite place wor...  "
      ]
     },
     "execution_count": 12,
     "metadata": {},
     "output_type": "execute_result"
    }
   ],
   "source": [
    "%%time\n",
    "\n",
    "# let's create lemmatized sentences\n",
    "\n",
    "df['lem_join'] = df.text.apply(lambda x: lemma(nlp(x)))\n",
    "\n",
    "df.head()\n",
    "\n"
   ]
  },
  {
   "cell_type": "code",
   "execution_count": 12,
   "metadata": {},
   "outputs": [],
   "source": [
    "# we can't have lists in feather format\n",
    "#df.drop(columns='categories', inplace=True)  \n",
    "\n",
    "# create feather backup\n",
    "df.reset_index(drop=True).to_feather('yelp_reviews.feather')"
   ]
  },
  {
   "cell_type": "markdown",
   "metadata": {},
   "source": [
    "## super fast way\n",
    "\n",
    "This is almost 5 times faster. My computer has 12 cores and 32 GB of ram. You may need to adjust `n_process` and `bach_size` so you can fit your computer"
   ]
  },
  {
   "cell_type": "code",
   "execution_count": 10,
   "metadata": {},
   "outputs": [
    {
     "name": "stdout",
     "output_type": "stream",
     "text": [
      "Wall time: 4min 36s\n"
     ]
    }
   ],
   "source": [
    "%%time\n",
    "df['proc'] = list(nlp.pipe(iter(df.text), n_process=12, batch_size=1000))\n",
    "df['lem_join_kd'] = df.proc.apply(lambda x: lemma(x))\n",
    "\n",
    "# save it here"
   ]
  },
  {
   "cell_type": "code",
   "execution_count": 11,
   "metadata": {},
   "outputs": [
    {
     "data": {
      "text/html": [
       "<div>\n",
       "<style scoped>\n",
       "    .dataframe tbody tr th:only-of-type {\n",
       "        vertical-align: middle;\n",
       "    }\n",
       "\n",
       "    .dataframe tbody tr th {\n",
       "        vertical-align: top;\n",
       "    }\n",
       "\n",
       "    .dataframe thead th {\n",
       "        text-align: right;\n",
       "    }\n",
       "</style>\n",
       "<table border=\"1\" class=\"dataframe\">\n",
       "  <thead>\n",
       "    <tr style=\"text-align: right;\">\n",
       "      <th></th>\n",
       "      <th>review_id</th>\n",
       "      <th>user_id</th>\n",
       "      <th>business_id</th>\n",
       "      <th>stars</th>\n",
       "      <th>date</th>\n",
       "      <th>text</th>\n",
       "      <th>useful</th>\n",
       "      <th>funny</th>\n",
       "      <th>cool</th>\n",
       "      <th>name</th>\n",
       "      <th>city</th>\n",
       "      <th>state</th>\n",
       "      <th>postal_code</th>\n",
       "      <th>review_count</th>\n",
       "      <th>is_open</th>\n",
       "      <th>categories</th>\n",
       "      <th>proc</th>\n",
       "      <th>lem_join_kd</th>\n",
       "    </tr>\n",
       "  </thead>\n",
       "  <tbody>\n",
       "    <tr>\n",
       "      <th>0</th>\n",
       "      <td>OPZsR2jCG72uoDNjU71DQQ</td>\n",
       "      <td>qYbWTWH5leltA0bzWAOnmA</td>\n",
       "      <td>meXjqyhTNLFmknY39y2sMg</td>\n",
       "      <td>5</td>\n",
       "      <td>2014-09-11</td>\n",
       "      <td>Solid beers -- Christmas Ale defines my holida...</td>\n",
       "      <td>1</td>\n",
       "      <td>1</td>\n",
       "      <td>1</td>\n",
       "      <td>\"Great Lakes Brewing Company\"</td>\n",
       "      <td>Cleveland</td>\n",
       "      <td>OH</td>\n",
       "      <td>44113</td>\n",
       "      <td>751</td>\n",
       "      <td>1</td>\n",
       "      <td>[Breweries, Restaurants, Event Planning &amp; Serv...</td>\n",
       "      <td>(Solid, beers, --, Christmas, Ale, defines, my...</td>\n",
       "      <td>solid beer christmas ale define holiday season...</td>\n",
       "    </tr>\n",
       "    <tr>\n",
       "      <th>1</th>\n",
       "      <td>fxGwEiSYDtAen8BNuVGGxg</td>\n",
       "      <td>8Az_JgEpXqAii_5EDkw2tw</td>\n",
       "      <td>meXjqyhTNLFmknY39y2sMg</td>\n",
       "      <td>3</td>\n",
       "      <td>2013-10-13</td>\n",
       "      <td>Meh.  It was OK.  A bartender the night before...</td>\n",
       "      <td>0</td>\n",
       "      <td>1</td>\n",
       "      <td>0</td>\n",
       "      <td>\"Great Lakes Brewing Company\"</td>\n",
       "      <td>Cleveland</td>\n",
       "      <td>OH</td>\n",
       "      <td>44113</td>\n",
       "      <td>751</td>\n",
       "      <td>1</td>\n",
       "      <td>[Breweries, Restaurants, Event Planning &amp; Serv...</td>\n",
       "      <td>(Meh, .,  , It, was, OK, .,  , A, bartender, t...</td>\n",
       "      <td>meh   ok   bartender night tell cleveland eat ...</td>\n",
       "    </tr>\n",
       "    <tr>\n",
       "      <th>2</th>\n",
       "      <td>Gweb4pADeQ26WnaiKEZ7GQ</td>\n",
       "      <td>T9tEic49JZjN4nCUcDvrRQ</td>\n",
       "      <td>meXjqyhTNLFmknY39y2sMg</td>\n",
       "      <td>4</td>\n",
       "      <td>2014-01-15</td>\n",
       "      <td>Oh Christmas Ale, oh Christmas Ale, how lovely...</td>\n",
       "      <td>1</td>\n",
       "      <td>1</td>\n",
       "      <td>1</td>\n",
       "      <td>\"Great Lakes Brewing Company\"</td>\n",
       "      <td>Cleveland</td>\n",
       "      <td>OH</td>\n",
       "      <td>44113</td>\n",
       "      <td>751</td>\n",
       "      <td>1</td>\n",
       "      <td>[Breweries, Restaurants, Event Planning &amp; Serv...</td>\n",
       "      <td>(Oh, Christmas, Ale, ,, oh, Christmas, Ale, ,,...</td>\n",
       "      <td>oh christmas ale oh christmas ale lovely taste...</td>\n",
       "    </tr>\n",
       "    <tr>\n",
       "      <th>3</th>\n",
       "      <td>P1vhwPI56SeZEz10ywaS7w</td>\n",
       "      <td>W1p8_CFW5FISSihmQo5Qzw</td>\n",
       "      <td>meXjqyhTNLFmknY39y2sMg</td>\n",
       "      <td>3</td>\n",
       "      <td>2012-02-09</td>\n",
       "      <td>What is the big deal about this place? The foo...</td>\n",
       "      <td>2</td>\n",
       "      <td>1</td>\n",
       "      <td>1</td>\n",
       "      <td>\"Great Lakes Brewing Company\"</td>\n",
       "      <td>Cleveland</td>\n",
       "      <td>OH</td>\n",
       "      <td>44113</td>\n",
       "      <td>751</td>\n",
       "      <td>1</td>\n",
       "      <td>[Breweries, Restaurants, Event Planning &amp; Serv...</td>\n",
       "      <td>(What, is, the, big, deal, about, this, place,...</td>\n",
       "      <td>big deal place food overprice beer</td>\n",
       "    </tr>\n",
       "    <tr>\n",
       "      <th>4</th>\n",
       "      <td>1kQvQlBX0V5_rGddBh9-rQ</td>\n",
       "      <td>Y_PP05RRdzbKRYfDCCfh8w</td>\n",
       "      <td>meXjqyhTNLFmknY39y2sMg</td>\n",
       "      <td>5</td>\n",
       "      <td>2017-04-30</td>\n",
       "      <td>Great Lakes Brewing Company is one of my favor...</td>\n",
       "      <td>0</td>\n",
       "      <td>0</td>\n",
       "      <td>0</td>\n",
       "      <td>\"Great Lakes Brewing Company\"</td>\n",
       "      <td>Cleveland</td>\n",
       "      <td>OH</td>\n",
       "      <td>44113</td>\n",
       "      <td>751</td>\n",
       "      <td>1</td>\n",
       "      <td>[Breweries, Restaurants, Event Planning &amp; Serv...</td>\n",
       "      <td>(Great, Lakes, Brewing, Company, is, one, of, ...</td>\n",
       "      <td>great lakes brewing company favorite place wor...</td>\n",
       "    </tr>\n",
       "  </tbody>\n",
       "</table>\n",
       "</div>"
      ],
      "text/plain": [
       "                review_id                 user_id             business_id  \\\n",
       "0  OPZsR2jCG72uoDNjU71DQQ  qYbWTWH5leltA0bzWAOnmA  meXjqyhTNLFmknY39y2sMg   \n",
       "1  fxGwEiSYDtAen8BNuVGGxg  8Az_JgEpXqAii_5EDkw2tw  meXjqyhTNLFmknY39y2sMg   \n",
       "2  Gweb4pADeQ26WnaiKEZ7GQ  T9tEic49JZjN4nCUcDvrRQ  meXjqyhTNLFmknY39y2sMg   \n",
       "3  P1vhwPI56SeZEz10ywaS7w  W1p8_CFW5FISSihmQo5Qzw  meXjqyhTNLFmknY39y2sMg   \n",
       "4  1kQvQlBX0V5_rGddBh9-rQ  Y_PP05RRdzbKRYfDCCfh8w  meXjqyhTNLFmknY39y2sMg   \n",
       "\n",
       "   stars        date                                               text  \\\n",
       "0      5  2014-09-11  Solid beers -- Christmas Ale defines my holida...   \n",
       "1      3  2013-10-13  Meh.  It was OK.  A bartender the night before...   \n",
       "2      4  2014-01-15  Oh Christmas Ale, oh Christmas Ale, how lovely...   \n",
       "3      3  2012-02-09  What is the big deal about this place? The foo...   \n",
       "4      5  2017-04-30  Great Lakes Brewing Company is one of my favor...   \n",
       "\n",
       "   useful  funny  cool                           name       city state  \\\n",
       "0       1      1     1  \"Great Lakes Brewing Company\"  Cleveland    OH   \n",
       "1       0      1     0  \"Great Lakes Brewing Company\"  Cleveland    OH   \n",
       "2       1      1     1  \"Great Lakes Brewing Company\"  Cleveland    OH   \n",
       "3       2      1     1  \"Great Lakes Brewing Company\"  Cleveland    OH   \n",
       "4       0      0     0  \"Great Lakes Brewing Company\"  Cleveland    OH   \n",
       "\n",
       "  postal_code  review_count  is_open  \\\n",
       "0       44113           751        1   \n",
       "1       44113           751        1   \n",
       "2       44113           751        1   \n",
       "3       44113           751        1   \n",
       "4       44113           751        1   \n",
       "\n",
       "                                          categories  \\\n",
       "0  [Breweries, Restaurants, Event Planning & Serv...   \n",
       "1  [Breweries, Restaurants, Event Planning & Serv...   \n",
       "2  [Breweries, Restaurants, Event Planning & Serv...   \n",
       "3  [Breweries, Restaurants, Event Planning & Serv...   \n",
       "4  [Breweries, Restaurants, Event Planning & Serv...   \n",
       "\n",
       "                                                proc  \\\n",
       "0  (Solid, beers, --, Christmas, Ale, defines, my...   \n",
       "1  (Meh, .,  , It, was, OK, .,  , A, bartender, t...   \n",
       "2  (Oh, Christmas, Ale, ,, oh, Christmas, Ale, ,,...   \n",
       "3  (What, is, the, big, deal, about, this, place,...   \n",
       "4  (Great, Lakes, Brewing, Company, is, one, of, ...   \n",
       "\n",
       "                                         lem_join_kd  \n",
       "0  solid beer christmas ale define holiday season...  \n",
       "1  meh   ok   bartender night tell cleveland eat ...  \n",
       "2  oh christmas ale oh christmas ale lovely taste...  \n",
       "3                 big deal place food overprice beer  \n",
       "4  great lakes brewing company favorite place wor...  "
      ]
     },
     "execution_count": 11,
     "metadata": {},
     "output_type": "execute_result"
    }
   ],
   "source": [
    "df.head()"
   ]
  },
  {
   "cell_type": "markdown",
   "metadata": {},
   "source": [
    "## Stuck Notebook\n",
    "\n",
    "I just copied and pasted a lot of this until the last few cells"
   ]
  },
  {
   "cell_type": "code",
   "execution_count": 14,
   "metadata": {},
   "outputs": [],
   "source": [
    "\n",
    "\n",
    "df = pd.read_feather('yelp_reviews.feather')\n",
    "df['target'] = df['stars'].apply(lambda x: 'positive' if x >= 4 else 'negative')\n",
    "\n"
   ]
  },
  {
   "cell_type": "code",
   "execution_count": 15,
   "metadata": {},
   "outputs": [],
   "source": [
    "\n",
    "\n",
    "# declare X & Y\n",
    "Y = df['target']\n",
    "X = df['lem_join']\n",
    "\n",
    "# let's stratify the data so we get a fair balance\n",
    "X_train, X_test, y_train, y_test = train_test_split(\n",
    "    X, Y, test_size=0.25, random_state=42, stratify=Y\n",
    ")\n",
    "\n"
   ]
  },
  {
   "cell_type": "code",
   "execution_count": 16,
   "metadata": {},
   "outputs": [],
   "source": [
    "\n",
    "\n",
    "def BoW_generator(text):\n",
    "    \n",
    "    # get the top 2000 words\n",
    "    n_top_words = 2000\n",
    "    count_vec = CountVectorizer(max_features=n_top_words)\n",
    "    mask = count_vec.fit_transform(text)\n",
    "    \n",
    "    # create a dataframe\n",
    "    word_counts = pd.DataFrame(\n",
    "        mask.toarray().reshape(-1, n_top_words), \n",
    "        columns=count_vec.get_feature_names()\n",
    "    )  \n",
    "    \n",
    "    return word_counts\n",
    "\n"
   ]
  },
  {
   "cell_type": "code",
   "execution_count": 17,
   "metadata": {},
   "outputs": [],
   "source": [
    "\n",
    "\n",
    "# get the top 2000 words\n",
    "n_top_words = 2000\n",
    "count_vec = CountVectorizer(max_features=n_top_words)\n",
    "\n",
    "# apply to X values\n",
    "X_train_bow = count_vec.fit_transform(X_train)\n",
    "X_test_bow = count_vec.transform(X_test)\n",
    "\n"
   ]
  },
  {
   "cell_type": "code",
   "execution_count": 18,
   "metadata": {},
   "outputs": [],
   "source": [
    "tfidf_vec = TfidfVectorizer(\n",
    "    max_df=0.5, \n",
    "    min_df=2,\n",
    "    stop_words='english', \n",
    "    lowercase=True,\n",
    "    use_idf=True,\n",
    "    norm=u'l2',\n",
    "    smooth_idf=True\n",
    ")"
   ]
  },
  {
   "cell_type": "code",
   "execution_count": 19,
   "metadata": {},
   "outputs": [],
   "source": [
    "\n",
    "\n",
    "# applying to X values\n",
    "X_train_tfidf=tfidf_vec.fit_transform(X_train)\n",
    "X_test_tfidf=tfidf_vec.transform(X_test)\n",
    "\n"
   ]
  },
  {
   "cell_type": "code",
   "execution_count": 20,
   "metadata": {},
   "outputs": [],
   "source": [
    "def model_metrics(model, X, y):\n",
    "    model_sum = {}\n",
    "    \n",
    "    # get cross validation score & mean of CV score\n",
    "    cv_score = cross_val_score(model, X, y, cv=10, n_jobs=-1)\n",
    "    \n",
    "    model_sum['cv_scores'] = list(cv_score)\n",
    "    model_sum['cv_mean'] = np.mean(cv_score)\n",
    "    \n",
    "    # get confusion matrix metrics\n",
    "    y_pred = model.predict(X)\n",
    "    tn, fp, fn, tp = confusion_matrix(y, y_pred).ravel()\n",
    "    \n",
    "    model_sum['true negatives'] = tn\n",
    "    model_sum['false positives'] = fp\n",
    "    model_sum['false negatives'] = fn\n",
    "    model_sum['true positives'] = tp\n",
    "    model_sum['accuracy'] = (tp+tn)/len(y_pred)\n",
    "    model_sum['f1 score'] = 2*tp/(2*tp+fp+fn)\n",
    "    model_sum['class_report'] = classification_report(y, y_pred)\n",
    "    \n",
    "    return model_sum"
   ]
  },
  {
   "cell_type": "code",
   "execution_count": 21,
   "metadata": {},
   "outputs": [],
   "source": [
    "def format_metrics(model_sum):\n",
    "    # print cross-validation scores\n",
    "    print(\"Cross Validation Scores\\n\" + 23*\"=\" + \"\\n{}\\n\".format(model_sum['cv_scores']))\n",
    "    print(\"Average CV = {}\\n\".format(model_sum['cv_mean']))\n",
    "    \n",
    "    # print classification report\n",
    "    print(\"Classification Report\\n\" + 21*\"=\" + \"\\n\" + model_sum['class_report'])\n",
    "    \n",
    "    # print confusion matrix results\n",
    "    print(\"Confusion Matrix\\n\" + 16*\"=\" + '\\nTrue Positives = {}\\nTrue Negatives'\\\n",
    "          '= {}\\nFalse Positives = {}\\nFalse Negatives = {}'\\\n",
    "          .format(model_sum['true positives'], \n",
    "                  model_sum['true negatives'], \n",
    "                  model_sum['false positives'], \n",
    "                  model_sum['false negatives']))"
   ]
  },
  {
   "cell_type": "code",
   "execution_count": 22,
   "metadata": {},
   "outputs": [
    {
     "name": "stdout",
     "output_type": "stream",
     "text": [
      "2.1.0\n",
      "True\n"
     ]
    }
   ],
   "source": [
    "print(tf.__version__)\n",
    "print(tf.executing_eagerly())"
   ]
  },
  {
   "cell_type": "markdown",
   "metadata": {},
   "source": [
    "### Warning!!!!\n",
    "You had version of 1.13 of TF. This is pretty old. You should be using version 2.x. \n",
    "\n",
    "I made an `environment.yml` file with my conda install. I ran this entire notebook on windows 10 with it. There were no installation issues.\n",
    "\n",
    "This repo should have everything you need in it. Clone it and create an environment with my build. See instructions here:\n",
    "https://docs.conda.io/projects/conda/en/latest/user-guide/tasks/manage-environments.html#creating-an-environment-from-an-environment-yml-file\n",
    "\n",
    "#### TLDR: \n",
    "```\n",
    "git clone git@github.com:kd2718/yelp_getting_started.git\n",
    "cd yelp_getting_started\n",
    "conda env create -f environment.yml -n yelp\n",
    "```"
   ]
  },
  {
   "cell_type": "code",
   "execution_count": 31,
   "metadata": {},
   "outputs": [],
   "source": [
    "# Modified your function. X is more generic\n",
    "def create_keras(X):\n",
    "    input_dim = X.shape[1]\n",
    "    model = Sequential()\n",
    "    model.add(layers.Dense(10, input_dim=input_dim, activation='relu'))\n",
    "    model.add(layers.Dense(1, activation='sigmoid'))\n",
    "    model.compile(loss='binary_crossentropy', \n",
    "                         optimizer='adam', \n",
    "                         metrics=['accuracy'], \n",
    "                  run_eagerly=True)\n",
    "    \n",
    "    #print(model.summary())\n",
    "    return model\n",
    "\n",
    "# partials will always call the function with the designated input\n",
    "from functools import partial\n",
    "\n",
    "bow_keras = partial(create_keras, X_train_bow)\n",
    "tfidf_keras = partial(create_keras,X_train_tfidf)"
   ]
  },
  {
   "cell_type": "code",
   "execution_count": 35,
   "metadata": {},
   "outputs": [
    {
     "data": {
      "text/plain": [
       "array([0.8547231 , 0.8533774 , 0.84887892])"
      ]
     },
     "execution_count": 35,
     "metadata": {},
     "output_type": "execute_result"
    }
   ],
   "source": [
    "from tensorflow.keras.wrappers.scikit_learn import KerasClassifier\n",
    "\n",
    "# just running 2 epochs for speed\n",
    "keras_model1 = KerasClassifier(\n",
    "    build_fn=bow_keras, \n",
    "    epochs=2, \n",
    "    batch_size=1000, \n",
    "    verbose=0)\n",
    "\n",
    "cross_val_score(keras_model1, X_train_bow.toarray(), y_train.factorize()[0], cv=3)"
   ]
  },
  {
   "cell_type": "code",
   "execution_count": 36,
   "metadata": {},
   "outputs": [
    {
     "data": {
      "text/plain": [
       "array([0.84038514, 0.84866804, 0.85696208])"
      ]
     },
     "execution_count": 36,
     "metadata": {},
     "output_type": "execute_result"
    }
   ],
   "source": [
    "from tensorflow.keras.wrappers.scikit_learn import KerasClassifier\n",
    "keras_model2 = KerasClassifier(\n",
    "    build_fn=tfidf_keras, \n",
    "    epochs=2, \n",
    "    batch_size=1000, \n",
    "    verbose=0)\n",
    "\n",
    "cross_val_score(keras_model1, X_train_bow.toarray(), y_train.factorize()[0], cv=3)"
   ]
  },
  {
   "cell_type": "code",
   "execution_count": 14,
   "metadata": {},
   "outputs": [],
   "source": [
    "from ernie import SentenceClassifier, Models"
   ]
  },
  {
   "cell_type": "code",
   "execution_count": 12,
   "metadata": {},
   "outputs": [],
   "source": [
    "from transformers import TFAutoModel"
   ]
  },
  {
   "cell_type": "code",
   "execution_count": 13,
   "metadata": {},
   "outputs": [
    {
     "output_type": "stream",
     "name": "stdout",
     "text": "/home/koryd/miniconda3/bin/python\n"
    }
   ],
   "source": [
    "!which python"
   ]
  },
  {
   "cell_type": "code",
   "execution_count": 27,
   "metadata": {},
   "outputs": [],
   "source": [
    "classifier = SentenceClassifier(model_name=Models.BertBaseUncased, max_length=64, labels_no=2)"
   ]
  },
  {
   "cell_type": "code",
   "execution_count": 21,
   "metadata": {},
   "outputs": [
    {
     "output_type": "error",
     "ename": "AttributeError",
     "evalue": "'Series' object has no attribute 'columns'",
     "traceback": [
      "\u001b[0;31m---------------------------------------------------------------------------\u001b[0m",
      "\u001b[0;31mAttributeError\u001b[0m                            Traceback (most recent call last)",
      "\u001b[0;32m<ipython-input-21-56af483452f5>\u001b[0m in \u001b[0;36m<module>\u001b[0;34m\u001b[0m\n\u001b[0;32m----> 1\u001b[0;31m \u001b[0mclassifier\u001b[0m\u001b[0;34m.\u001b[0m\u001b[0mload_dataset\u001b[0m\u001b[0;34m(\u001b[0m\u001b[0mdf\u001b[0m\u001b[0;34m.\u001b[0m\u001b[0mtext\u001b[0m\u001b[0;34m,\u001b[0m \u001b[0mvalidation_split\u001b[0m\u001b[0;34m=\u001b[0m\u001b[0;36m0.2\u001b[0m\u001b[0;34m)\u001b[0m\u001b[0;34m\u001b[0m\u001b[0;34m\u001b[0m\u001b[0m\n\u001b[0m",
      "\u001b[0;32m~/miniconda3/envs/yelp3/lib/python3.7/site-packages/ernie/ernie.py\u001b[0m in \u001b[0;36mload_dataset\u001b[0;34m(self, dataframe, csv_path, validation_split)\u001b[0m\n\u001b[1;32m     69\u001b[0m             \u001b[0;32mraise\u001b[0m \u001b[0mNotImplementedError\u001b[0m\u001b[0;34m\u001b[0m\u001b[0;34m\u001b[0m\u001b[0m\n\u001b[1;32m     70\u001b[0m \u001b[0;34m\u001b[0m\u001b[0m\n\u001b[0;32m---> 71\u001b[0;31m         \u001b[0msentences\u001b[0m \u001b[0;34m=\u001b[0m \u001b[0mlist\u001b[0m\u001b[0;34m(\u001b[0m\u001b[0mdataframe\u001b[0m\u001b[0;34m[\u001b[0m\u001b[0mdataframe\u001b[0m\u001b[0;34m.\u001b[0m\u001b[0mcolumns\u001b[0m\u001b[0;34m[\u001b[0m\u001b[0;36m0\u001b[0m\u001b[0;34m]\u001b[0m\u001b[0;34m]\u001b[0m\u001b[0;34m)\u001b[0m\u001b[0;34m\u001b[0m\u001b[0;34m\u001b[0m\u001b[0m\n\u001b[0m\u001b[1;32m     72\u001b[0m         \u001b[0mlabels\u001b[0m \u001b[0;34m=\u001b[0m \u001b[0mdataframe\u001b[0m\u001b[0;34m[\u001b[0m\u001b[0mdataframe\u001b[0m\u001b[0;34m.\u001b[0m\u001b[0mcolumns\u001b[0m\u001b[0;34m[\u001b[0m\u001b[0;36m1\u001b[0m\u001b[0;34m]\u001b[0m\u001b[0;34m]\u001b[0m\u001b[0;34m.\u001b[0m\u001b[0mvalues\u001b[0m\u001b[0;34m\u001b[0m\u001b[0;34m\u001b[0m\u001b[0m\n\u001b[1;32m     73\u001b[0m \u001b[0;34m\u001b[0m\u001b[0m\n",
      "\u001b[0;32m~/miniconda3/envs/yelp3/lib/python3.7/site-packages/pandas/core/generic.py\u001b[0m in \u001b[0;36m__getattr__\u001b[0;34m(self, name)\u001b[0m\n\u001b[1;32m   5268\u001b[0m             \u001b[0;32mor\u001b[0m \u001b[0mname\u001b[0m \u001b[0;32min\u001b[0m \u001b[0mself\u001b[0m\u001b[0;34m.\u001b[0m\u001b[0m_accessors\u001b[0m\u001b[0;34m\u001b[0m\u001b[0;34m\u001b[0m\u001b[0m\n\u001b[1;32m   5269\u001b[0m         ):\n\u001b[0;32m-> 5270\u001b[0;31m             \u001b[0;32mreturn\u001b[0m \u001b[0mobject\u001b[0m\u001b[0;34m.\u001b[0m\u001b[0m__getattribute__\u001b[0m\u001b[0;34m(\u001b[0m\u001b[0mself\u001b[0m\u001b[0;34m,\u001b[0m \u001b[0mname\u001b[0m\u001b[0;34m)\u001b[0m\u001b[0;34m\u001b[0m\u001b[0;34m\u001b[0m\u001b[0m\n\u001b[0m\u001b[1;32m   5271\u001b[0m         \u001b[0;32melse\u001b[0m\u001b[0;34m:\u001b[0m\u001b[0;34m\u001b[0m\u001b[0;34m\u001b[0m\u001b[0m\n\u001b[1;32m   5272\u001b[0m             \u001b[0;32mif\u001b[0m \u001b[0mself\u001b[0m\u001b[0;34m.\u001b[0m\u001b[0m_info_axis\u001b[0m\u001b[0;34m.\u001b[0m\u001b[0m_can_hold_identifiers_and_holds_name\u001b[0m\u001b[0;34m(\u001b[0m\u001b[0mname\u001b[0m\u001b[0;34m)\u001b[0m\u001b[0;34m:\u001b[0m\u001b[0;34m\u001b[0m\u001b[0;34m\u001b[0m\u001b[0m\n",
      "\u001b[0;31mAttributeError\u001b[0m: 'Series' object has no attribute 'columns'"
     ]
    }
   ],
   "source": [
    "classifier.load_dataset(df.text, validation_split=0.2)"
   ]
  },
  {
   "cell_type": "code",
   "execution_count": 73,
   "metadata": {},
   "outputs": [],
   "source": [
    "df_polar = df[df.stars.isin( [1,5])][['text', 'stars']]\n",
    "\n",
    "df_polar = df_polar.sample(1000)"
   ]
  },
  {
   "cell_type": "code",
   "execution_count": 53,
   "metadata": {},
   "outputs": [],
   "source": [
    "from spacy.pipeline import SentenceSegmenter\n",
    "sent = SentenceSegmenter('english')"
   ]
  },
  {
   "cell_type": "code",
   "execution_count": 179,
   "metadata": {},
   "outputs": [],
   "source": [
    "import spacy\n",
    "from spacy.lang.en import English\n",
    "\n",
    "nlp = English()  # just the language with no model\n",
    "sentencizer = nlp.create_pipe(\"sentencizer\")\n",
    "nlp.add_pipe(sentencizer)\n",
    "doc = nlp.pipe(df_polar.text, n_process=12, batch_size=100)\n",
    "#col_list = ['sents', 'score']\n",
    "#df_sents = pd.DataFrame(columns=col_list)\n",
    "#df_polar['splits'] = list(doc)\n",
    "\n",
    "\n",
    "\n",
    "\n",
    "\n",
    "#next(doc).sents\n",
    "#for sent in doc.sents:\n",
    "#    print(sent.text)"
   ]
  },
  {
   "cell_type": "code",
   "execution_count": 180,
   "metadata": {},
   "outputs": [],
   "source": [
    "df_polar_sents = pd.DataFrame(columns=['sent', 'score', 'og_text'])\n",
    "for dfp, dc in zip(df_polar.iterrows(), doc):\n",
    "\n",
    "    for sent in dc.sents:\n",
    "        strr = dfp[1].stars\n",
    "        strr = 1 if strr == 5 else 0\n",
    "        snt = sent.string\n",
    "        df_temp = pd.Series({'sent': snt, 'score': strr, 'og_text':dfp[1].text })\n",
    "        df_polar_sents = df_polar_sents.append(df_temp, ignore_index=True)\n",
    "doc.close()"
   ]
  },
  {
   "cell_type": "code",
   "execution_count": 181,
   "metadata": {},
   "outputs": [
    {
     "output_type": "execute_result",
     "data": {
      "text/plain": "                                                   sent score  \\\n0     We visited the restaurant for my birthday on S...     0   \n1                           We were seated in the bar.      0   \n2      Our server was not friendly or attentative du...     0   \n3      \\nAs far as the food, some of our food came c...     0   \n4                                My food was inedible.      0   \n...                                                 ...   ...   \n7522  \\nJodi Rae, who owns and runs Daily Press is a...     1   \n7523       She is always friendly and happy to see us.      1   \n7524        I always enjoy seeing her cute little dog.      1   \n7525  \\nThanks for opening up in our neighborhood Jo...     1   \n7526                            \\nHope to come in soon.     1   \n\n                                                og_text  \n0     We visited the restaurant for my birthday on S...  \n1     We visited the restaurant for my birthday on S...  \n2     We visited the restaurant for my birthday on S...  \n3     We visited the restaurant for my birthday on S...  \n4     We visited the restaurant for my birthday on S...  \n...                                                 ...  \n7522  I come here several times a month and always l...  \n7523  I come here several times a month and always l...  \n7524  I come here several times a month and always l...  \n7525  I come here several times a month and always l...  \n7526  I come here several times a month and always l...  \n\n[7527 rows x 3 columns]",
      "text/html": "<div>\n<style scoped>\n    .dataframe tbody tr th:only-of-type {\n        vertical-align: middle;\n    }\n\n    .dataframe tbody tr th {\n        vertical-align: top;\n    }\n\n    .dataframe thead th {\n        text-align: right;\n    }\n</style>\n<table border=\"1\" class=\"dataframe\">\n  <thead>\n    <tr style=\"text-align: right;\">\n      <th></th>\n      <th>sent</th>\n      <th>score</th>\n      <th>og_text</th>\n    </tr>\n  </thead>\n  <tbody>\n    <tr>\n      <th>0</th>\n      <td>We visited the restaurant for my birthday on S...</td>\n      <td>0</td>\n      <td>We visited the restaurant for my birthday on S...</td>\n    </tr>\n    <tr>\n      <th>1</th>\n      <td>We were seated in the bar.</td>\n      <td>0</td>\n      <td>We visited the restaurant for my birthday on S...</td>\n    </tr>\n    <tr>\n      <th>2</th>\n      <td>Our server was not friendly or attentative du...</td>\n      <td>0</td>\n      <td>We visited the restaurant for my birthday on S...</td>\n    </tr>\n    <tr>\n      <th>3</th>\n      <td>\\nAs far as the food, some of our food came c...</td>\n      <td>0</td>\n      <td>We visited the restaurant for my birthday on S...</td>\n    </tr>\n    <tr>\n      <th>4</th>\n      <td>My food was inedible.</td>\n      <td>0</td>\n      <td>We visited the restaurant for my birthday on S...</td>\n    </tr>\n    <tr>\n      <th>...</th>\n      <td>...</td>\n      <td>...</td>\n      <td>...</td>\n    </tr>\n    <tr>\n      <th>7522</th>\n      <td>\\nJodi Rae, who owns and runs Daily Press is a...</td>\n      <td>1</td>\n      <td>I come here several times a month and always l...</td>\n    </tr>\n    <tr>\n      <th>7523</th>\n      <td>She is always friendly and happy to see us.</td>\n      <td>1</td>\n      <td>I come here several times a month and always l...</td>\n    </tr>\n    <tr>\n      <th>7524</th>\n      <td>I always enjoy seeing her cute little dog.</td>\n      <td>1</td>\n      <td>I come here several times a month and always l...</td>\n    </tr>\n    <tr>\n      <th>7525</th>\n      <td>\\nThanks for opening up in our neighborhood Jo...</td>\n      <td>1</td>\n      <td>I come here several times a month and always l...</td>\n    </tr>\n    <tr>\n      <th>7526</th>\n      <td>\\nHope to come in soon.</td>\n      <td>1</td>\n      <td>I come here several times a month and always l...</td>\n    </tr>\n  </tbody>\n</table>\n<p>7527 rows × 3 columns</p>\n</div>"
     },
     "metadata": {},
     "execution_count": 181
    }
   ],
   "source": [
    "df_polar_sents"
   ]
  },
  {
   "cell_type": "code",
   "execution_count": 182,
   "metadata": {},
   "outputs": [],
   "source": [
    "classifier.load_dataset(df_polar_sents[['sent', 'score']], validation_split=0.2)"
   ]
  },
  {
   "cell_type": "code",
   "execution_count": 183,
   "metadata": {},
   "outputs": [
    {
     "output_type": "stream",
     "name": "stdout",
     "text": "Train for 188 steps, validate for 23 steps\n 30/188 [===>..........................] - ETA: 17:51 - loss: 0.5633 - accuracy: 0.7478"
    },
    {
     "output_type": "error",
     "ename": "KeyboardInterrupt",
     "evalue": "",
     "traceback": [
      "\u001b[0;31m---------------------------------------------------------------------------\u001b[0m",
      "\u001b[0;31mKeyboardInterrupt\u001b[0m                         Traceback (most recent call last)",
      "\u001b[0;32m<ipython-input-183-d20c1366c3b0>\u001b[0m in \u001b[0;36m<module>\u001b[0;34m\u001b[0m\n\u001b[0;32m----> 1\u001b[0;31m \u001b[0mclassifier\u001b[0m\u001b[0;34m.\u001b[0m\u001b[0mfine_tune\u001b[0m\u001b[0;34m(\u001b[0m\u001b[0mepochs\u001b[0m\u001b[0;34m=\u001b[0m\u001b[0;36m4\u001b[0m\u001b[0;34m,\u001b[0m \u001b[0mlearning_rate\u001b[0m\u001b[0;34m=\u001b[0m\u001b[0;36m2e-5\u001b[0m\u001b[0;34m,\u001b[0m \u001b[0mtraining_batch_size\u001b[0m\u001b[0;34m=\u001b[0m\u001b[0;36m32\u001b[0m\u001b[0;34m,\u001b[0m \u001b[0mvalidation_batch_size\u001b[0m\u001b[0;34m=\u001b[0m\u001b[0;36m64\u001b[0m\u001b[0;34m)\u001b[0m\u001b[0;34m\u001b[0m\u001b[0;34m\u001b[0m\u001b[0m\n\u001b[0m",
      "\u001b[0;32m~/miniconda3/envs/yelp3/lib/python3.7/site-packages/ernie/ernie.py\u001b[0m in \u001b[0;36mfine_tune\u001b[0;34m(self, epochs, learning_rate, epsilon, clipnorm, optimizer_function, optimizer_kwargs, loss_function, loss_kwargs, accuracy_function, accuracy_kwargs, training_batch_size, validation_batch_size, **kwargs)\u001b[0m\n\u001b[1;32m    138\u001b[0m                             \u001b[0msteps_per_epoch\u001b[0m\u001b[0;34m=\u001b[0m\u001b[0mtraining_steps\u001b[0m\u001b[0;34m,\u001b[0m\u001b[0;34m\u001b[0m\u001b[0;34m\u001b[0m\u001b[0m\n\u001b[1;32m    139\u001b[0m                             \u001b[0mvalidation_steps\u001b[0m\u001b[0;34m=\u001b[0m\u001b[0mvalidation_steps\u001b[0m\u001b[0;34m,\u001b[0m\u001b[0;34m\u001b[0m\u001b[0;34m\u001b[0m\u001b[0m\n\u001b[0;32m--> 140\u001b[0;31m                             **kwargs)\n\u001b[0m\u001b[1;32m    141\u001b[0m \u001b[0;34m\u001b[0m\u001b[0m\n\u001b[1;32m    142\u001b[0m         \u001b[0;31m# The fine-tuned model does not have the same input interface after being\u001b[0m\u001b[0;34m\u001b[0m\u001b[0;34m\u001b[0m\u001b[0;34m\u001b[0m\u001b[0m\n",
      "\u001b[0;32m~/miniconda3/envs/yelp3/lib/python3.7/site-packages/tensorflow_core/python/keras/engine/training.py\u001b[0m in \u001b[0;36mfit\u001b[0;34m(self, x, y, batch_size, epochs, verbose, callbacks, validation_split, validation_data, shuffle, class_weight, sample_weight, initial_epoch, steps_per_epoch, validation_steps, validation_freq, max_queue_size, workers, use_multiprocessing, **kwargs)\u001b[0m\n\u001b[1;32m    817\u001b[0m         \u001b[0mmax_queue_size\u001b[0m\u001b[0;34m=\u001b[0m\u001b[0mmax_queue_size\u001b[0m\u001b[0;34m,\u001b[0m\u001b[0;34m\u001b[0m\u001b[0;34m\u001b[0m\u001b[0m\n\u001b[1;32m    818\u001b[0m         \u001b[0mworkers\u001b[0m\u001b[0;34m=\u001b[0m\u001b[0mworkers\u001b[0m\u001b[0;34m,\u001b[0m\u001b[0;34m\u001b[0m\u001b[0;34m\u001b[0m\u001b[0m\n\u001b[0;32m--> 819\u001b[0;31m         use_multiprocessing=use_multiprocessing)\n\u001b[0m\u001b[1;32m    820\u001b[0m \u001b[0;34m\u001b[0m\u001b[0m\n\u001b[1;32m    821\u001b[0m   def evaluate(self,\n",
      "\u001b[0;32m~/miniconda3/envs/yelp3/lib/python3.7/site-packages/tensorflow_core/python/keras/engine/training_v2.py\u001b[0m in \u001b[0;36mfit\u001b[0;34m(self, model, x, y, batch_size, epochs, verbose, callbacks, validation_split, validation_data, shuffle, class_weight, sample_weight, initial_epoch, steps_per_epoch, validation_steps, validation_freq, max_queue_size, workers, use_multiprocessing, **kwargs)\u001b[0m\n\u001b[1;32m    340\u001b[0m                 \u001b[0mmode\u001b[0m\u001b[0;34m=\u001b[0m\u001b[0mModeKeys\u001b[0m\u001b[0;34m.\u001b[0m\u001b[0mTRAIN\u001b[0m\u001b[0;34m,\u001b[0m\u001b[0;34m\u001b[0m\u001b[0;34m\u001b[0m\u001b[0m\n\u001b[1;32m    341\u001b[0m                 \u001b[0mtraining_context\u001b[0m\u001b[0;34m=\u001b[0m\u001b[0mtraining_context\u001b[0m\u001b[0;34m,\u001b[0m\u001b[0;34m\u001b[0m\u001b[0;34m\u001b[0m\u001b[0m\n\u001b[0;32m--> 342\u001b[0;31m                 total_epochs=epochs)\n\u001b[0m\u001b[1;32m    343\u001b[0m             \u001b[0mcbks\u001b[0m\u001b[0;34m.\u001b[0m\u001b[0mmake_logs\u001b[0m\u001b[0;34m(\u001b[0m\u001b[0mmodel\u001b[0m\u001b[0;34m,\u001b[0m \u001b[0mepoch_logs\u001b[0m\u001b[0;34m,\u001b[0m \u001b[0mtraining_result\u001b[0m\u001b[0;34m,\u001b[0m \u001b[0mModeKeys\u001b[0m\u001b[0;34m.\u001b[0m\u001b[0mTRAIN\u001b[0m\u001b[0;34m)\u001b[0m\u001b[0;34m\u001b[0m\u001b[0;34m\u001b[0m\u001b[0m\n\u001b[1;32m    344\u001b[0m \u001b[0;34m\u001b[0m\u001b[0m\n",
      "\u001b[0;32m~/miniconda3/envs/yelp3/lib/python3.7/site-packages/tensorflow_core/python/keras/engine/training_v2.py\u001b[0m in \u001b[0;36mrun_one_epoch\u001b[0;34m(model, iterator, execution_function, dataset_size, batch_size, strategy, steps_per_epoch, num_samples, mode, training_context, total_epochs)\u001b[0m\n\u001b[1;32m    126\u001b[0m         step=step, mode=mode, size=current_batch_size) as batch_logs:\n\u001b[1;32m    127\u001b[0m       \u001b[0;32mtry\u001b[0m\u001b[0;34m:\u001b[0m\u001b[0;34m\u001b[0m\u001b[0;34m\u001b[0m\u001b[0m\n\u001b[0;32m--> 128\u001b[0;31m         \u001b[0mbatch_outs\u001b[0m \u001b[0;34m=\u001b[0m \u001b[0mexecution_function\u001b[0m\u001b[0;34m(\u001b[0m\u001b[0miterator\u001b[0m\u001b[0;34m)\u001b[0m\u001b[0;34m\u001b[0m\u001b[0;34m\u001b[0m\u001b[0m\n\u001b[0m\u001b[1;32m    129\u001b[0m       \u001b[0;32mexcept\u001b[0m \u001b[0;34m(\u001b[0m\u001b[0mStopIteration\u001b[0m\u001b[0;34m,\u001b[0m \u001b[0merrors\u001b[0m\u001b[0;34m.\u001b[0m\u001b[0mOutOfRangeError\u001b[0m\u001b[0;34m)\u001b[0m\u001b[0;34m:\u001b[0m\u001b[0;34m\u001b[0m\u001b[0;34m\u001b[0m\u001b[0m\n\u001b[1;32m    130\u001b[0m         \u001b[0;31m# TODO(kaftan): File bug about tf function and errors.OutOfRangeError?\u001b[0m\u001b[0;34m\u001b[0m\u001b[0;34m\u001b[0m\u001b[0;34m\u001b[0m\u001b[0m\n",
      "\u001b[0;32m~/miniconda3/envs/yelp3/lib/python3.7/site-packages/tensorflow_core/python/keras/engine/training_v2_utils.py\u001b[0m in \u001b[0;36mexecution_function\u001b[0;34m(input_fn)\u001b[0m\n\u001b[1;32m     96\u001b[0m     \u001b[0;31m# `numpy` translates Tensors to values in Eager mode.\u001b[0m\u001b[0;34m\u001b[0m\u001b[0;34m\u001b[0m\u001b[0;34m\u001b[0m\u001b[0m\n\u001b[1;32m     97\u001b[0m     return nest.map_structure(_non_none_constant_value,\n\u001b[0;32m---> 98\u001b[0;31m                               distributed_function(input_fn))\n\u001b[0m\u001b[1;32m     99\u001b[0m \u001b[0;34m\u001b[0m\u001b[0m\n\u001b[1;32m    100\u001b[0m   \u001b[0;32mreturn\u001b[0m \u001b[0mexecution_function\u001b[0m\u001b[0;34m\u001b[0m\u001b[0;34m\u001b[0m\u001b[0m\n",
      "\u001b[0;32m~/miniconda3/envs/yelp3/lib/python3.7/site-packages/tensorflow_core/python/eager/def_function.py\u001b[0m in \u001b[0;36m__call__\u001b[0;34m(self, *args, **kwds)\u001b[0m\n\u001b[1;32m    566\u001b[0m         \u001b[0mxla_context\u001b[0m\u001b[0;34m.\u001b[0m\u001b[0mExit\u001b[0m\u001b[0;34m(\u001b[0m\u001b[0;34m)\u001b[0m\u001b[0;34m\u001b[0m\u001b[0;34m\u001b[0m\u001b[0m\n\u001b[1;32m    567\u001b[0m     \u001b[0;32melse\u001b[0m\u001b[0;34m:\u001b[0m\u001b[0;34m\u001b[0m\u001b[0;34m\u001b[0m\u001b[0m\n\u001b[0;32m--> 568\u001b[0;31m       \u001b[0mresult\u001b[0m \u001b[0;34m=\u001b[0m \u001b[0mself\u001b[0m\u001b[0;34m.\u001b[0m\u001b[0m_call\u001b[0m\u001b[0;34m(\u001b[0m\u001b[0;34m*\u001b[0m\u001b[0margs\u001b[0m\u001b[0;34m,\u001b[0m \u001b[0;34m**\u001b[0m\u001b[0mkwds\u001b[0m\u001b[0;34m)\u001b[0m\u001b[0;34m\u001b[0m\u001b[0;34m\u001b[0m\u001b[0m\n\u001b[0m\u001b[1;32m    569\u001b[0m \u001b[0;34m\u001b[0m\u001b[0m\n\u001b[1;32m    570\u001b[0m     \u001b[0;32mif\u001b[0m \u001b[0mtracing_count\u001b[0m \u001b[0;34m==\u001b[0m \u001b[0mself\u001b[0m\u001b[0;34m.\u001b[0m\u001b[0m_get_tracing_count\u001b[0m\u001b[0;34m(\u001b[0m\u001b[0;34m)\u001b[0m\u001b[0;34m:\u001b[0m\u001b[0;34m\u001b[0m\u001b[0;34m\u001b[0m\u001b[0m\n",
      "\u001b[0;32m~/miniconda3/envs/yelp3/lib/python3.7/site-packages/tensorflow_core/python/eager/def_function.py\u001b[0m in \u001b[0;36m_call\u001b[0;34m(self, *args, **kwds)\u001b[0m\n\u001b[1;32m    597\u001b[0m       \u001b[0;31m# In this case we have created variables on the first call, so we run the\u001b[0m\u001b[0;34m\u001b[0m\u001b[0;34m\u001b[0m\u001b[0;34m\u001b[0m\u001b[0m\n\u001b[1;32m    598\u001b[0m       \u001b[0;31m# defunned version which is guaranteed to never create variables.\u001b[0m\u001b[0;34m\u001b[0m\u001b[0;34m\u001b[0m\u001b[0;34m\u001b[0m\u001b[0m\n\u001b[0;32m--> 599\u001b[0;31m       \u001b[0;32mreturn\u001b[0m \u001b[0mself\u001b[0m\u001b[0;34m.\u001b[0m\u001b[0m_stateless_fn\u001b[0m\u001b[0;34m(\u001b[0m\u001b[0;34m*\u001b[0m\u001b[0margs\u001b[0m\u001b[0;34m,\u001b[0m \u001b[0;34m**\u001b[0m\u001b[0mkwds\u001b[0m\u001b[0;34m)\u001b[0m  \u001b[0;31m# pylint: disable=not-callable\u001b[0m\u001b[0;34m\u001b[0m\u001b[0;34m\u001b[0m\u001b[0m\n\u001b[0m\u001b[1;32m    600\u001b[0m     \u001b[0;32melif\u001b[0m \u001b[0mself\u001b[0m\u001b[0;34m.\u001b[0m\u001b[0m_stateful_fn\u001b[0m \u001b[0;32mis\u001b[0m \u001b[0;32mnot\u001b[0m \u001b[0;32mNone\u001b[0m\u001b[0;34m:\u001b[0m\u001b[0;34m\u001b[0m\u001b[0;34m\u001b[0m\u001b[0m\n\u001b[1;32m    601\u001b[0m       \u001b[0;31m# Release the lock early so that multiple threads can perform the call\u001b[0m\u001b[0;34m\u001b[0m\u001b[0;34m\u001b[0m\u001b[0;34m\u001b[0m\u001b[0m\n",
      "\u001b[0;32m~/miniconda3/envs/yelp3/lib/python3.7/site-packages/tensorflow_core/python/eager/function.py\u001b[0m in \u001b[0;36m__call__\u001b[0;34m(self, *args, **kwargs)\u001b[0m\n\u001b[1;32m   2361\u001b[0m     \u001b[0;32mwith\u001b[0m \u001b[0mself\u001b[0m\u001b[0;34m.\u001b[0m\u001b[0m_lock\u001b[0m\u001b[0;34m:\u001b[0m\u001b[0;34m\u001b[0m\u001b[0;34m\u001b[0m\u001b[0m\n\u001b[1;32m   2362\u001b[0m       \u001b[0mgraph_function\u001b[0m\u001b[0;34m,\u001b[0m \u001b[0margs\u001b[0m\u001b[0;34m,\u001b[0m \u001b[0mkwargs\u001b[0m \u001b[0;34m=\u001b[0m \u001b[0mself\u001b[0m\u001b[0;34m.\u001b[0m\u001b[0m_maybe_define_function\u001b[0m\u001b[0;34m(\u001b[0m\u001b[0margs\u001b[0m\u001b[0;34m,\u001b[0m \u001b[0mkwargs\u001b[0m\u001b[0;34m)\u001b[0m\u001b[0;34m\u001b[0m\u001b[0;34m\u001b[0m\u001b[0m\n\u001b[0;32m-> 2363\u001b[0;31m     \u001b[0;32mreturn\u001b[0m \u001b[0mgraph_function\u001b[0m\u001b[0;34m.\u001b[0m\u001b[0m_filtered_call\u001b[0m\u001b[0;34m(\u001b[0m\u001b[0margs\u001b[0m\u001b[0;34m,\u001b[0m \u001b[0mkwargs\u001b[0m\u001b[0;34m)\u001b[0m  \u001b[0;31m# pylint: disable=protected-access\u001b[0m\u001b[0;34m\u001b[0m\u001b[0;34m\u001b[0m\u001b[0m\n\u001b[0m\u001b[1;32m   2364\u001b[0m \u001b[0;34m\u001b[0m\u001b[0m\n\u001b[1;32m   2365\u001b[0m   \u001b[0;34m@\u001b[0m\u001b[0mproperty\u001b[0m\u001b[0;34m\u001b[0m\u001b[0;34m\u001b[0m\u001b[0m\n",
      "\u001b[0;32m~/miniconda3/envs/yelp3/lib/python3.7/site-packages/tensorflow_core/python/eager/function.py\u001b[0m in \u001b[0;36m_filtered_call\u001b[0;34m(self, args, kwargs)\u001b[0m\n\u001b[1;32m   1609\u001b[0m          if isinstance(t, (ops.Tensor,\n\u001b[1;32m   1610\u001b[0m                            resource_variable_ops.BaseResourceVariable))),\n\u001b[0;32m-> 1611\u001b[0;31m         self.captured_inputs)\n\u001b[0m\u001b[1;32m   1612\u001b[0m \u001b[0;34m\u001b[0m\u001b[0m\n\u001b[1;32m   1613\u001b[0m   \u001b[0;32mdef\u001b[0m \u001b[0m_call_flat\u001b[0m\u001b[0;34m(\u001b[0m\u001b[0mself\u001b[0m\u001b[0;34m,\u001b[0m \u001b[0margs\u001b[0m\u001b[0;34m,\u001b[0m \u001b[0mcaptured_inputs\u001b[0m\u001b[0;34m,\u001b[0m \u001b[0mcancellation_manager\u001b[0m\u001b[0;34m=\u001b[0m\u001b[0;32mNone\u001b[0m\u001b[0;34m)\u001b[0m\u001b[0;34m:\u001b[0m\u001b[0;34m\u001b[0m\u001b[0;34m\u001b[0m\u001b[0m\n",
      "\u001b[0;32m~/miniconda3/envs/yelp3/lib/python3.7/site-packages/tensorflow_core/python/eager/function.py\u001b[0m in \u001b[0;36m_call_flat\u001b[0;34m(self, args, captured_inputs, cancellation_manager)\u001b[0m\n\u001b[1;32m   1690\u001b[0m       \u001b[0;31m# No tape is watching; skip to running the function.\u001b[0m\u001b[0;34m\u001b[0m\u001b[0;34m\u001b[0m\u001b[0;34m\u001b[0m\u001b[0m\n\u001b[1;32m   1691\u001b[0m       return self._build_call_outputs(self._inference_function.call(\n\u001b[0;32m-> 1692\u001b[0;31m           ctx, args, cancellation_manager=cancellation_manager))\n\u001b[0m\u001b[1;32m   1693\u001b[0m     forward_backward = self._select_forward_and_backward_functions(\n\u001b[1;32m   1694\u001b[0m         \u001b[0margs\u001b[0m\u001b[0;34m,\u001b[0m\u001b[0;34m\u001b[0m\u001b[0;34m\u001b[0m\u001b[0m\n",
      "\u001b[0;32m~/miniconda3/envs/yelp3/lib/python3.7/site-packages/tensorflow_core/python/eager/function.py\u001b[0m in \u001b[0;36mcall\u001b[0;34m(self, ctx, args, cancellation_manager)\u001b[0m\n\u001b[1;32m    543\u001b[0m               \u001b[0minputs\u001b[0m\u001b[0;34m=\u001b[0m\u001b[0margs\u001b[0m\u001b[0;34m,\u001b[0m\u001b[0;34m\u001b[0m\u001b[0;34m\u001b[0m\u001b[0m\n\u001b[1;32m    544\u001b[0m               \u001b[0mattrs\u001b[0m\u001b[0;34m=\u001b[0m\u001b[0;34m(\u001b[0m\u001b[0;34m\"executor_type\"\u001b[0m\u001b[0;34m,\u001b[0m \u001b[0mexecutor_type\u001b[0m\u001b[0;34m,\u001b[0m \u001b[0;34m\"config_proto\"\u001b[0m\u001b[0;34m,\u001b[0m \u001b[0mconfig\u001b[0m\u001b[0;34m)\u001b[0m\u001b[0;34m,\u001b[0m\u001b[0;34m\u001b[0m\u001b[0;34m\u001b[0m\u001b[0m\n\u001b[0;32m--> 545\u001b[0;31m               ctx=ctx)\n\u001b[0m\u001b[1;32m    546\u001b[0m         \u001b[0;32melse\u001b[0m\u001b[0;34m:\u001b[0m\u001b[0;34m\u001b[0m\u001b[0;34m\u001b[0m\u001b[0m\n\u001b[1;32m    547\u001b[0m           outputs = execute.execute_with_cancellation(\n",
      "\u001b[0;32m~/miniconda3/envs/yelp3/lib/python3.7/site-packages/tensorflow_core/python/eager/execute.py\u001b[0m in \u001b[0;36mquick_execute\u001b[0;34m(op_name, num_outputs, inputs, attrs, ctx, name)\u001b[0m\n\u001b[1;32m     59\u001b[0m     tensors = pywrap_tensorflow.TFE_Py_Execute(ctx._handle, device_name,\n\u001b[1;32m     60\u001b[0m                                                \u001b[0mop_name\u001b[0m\u001b[0;34m,\u001b[0m \u001b[0minputs\u001b[0m\u001b[0;34m,\u001b[0m \u001b[0mattrs\u001b[0m\u001b[0;34m,\u001b[0m\u001b[0;34m\u001b[0m\u001b[0;34m\u001b[0m\u001b[0m\n\u001b[0;32m---> 61\u001b[0;31m                                                num_outputs)\n\u001b[0m\u001b[1;32m     62\u001b[0m   \u001b[0;32mexcept\u001b[0m \u001b[0mcore\u001b[0m\u001b[0;34m.\u001b[0m\u001b[0m_NotOkStatusException\u001b[0m \u001b[0;32mas\u001b[0m \u001b[0me\u001b[0m\u001b[0;34m:\u001b[0m\u001b[0;34m\u001b[0m\u001b[0;34m\u001b[0m\u001b[0m\n\u001b[1;32m     63\u001b[0m     \u001b[0;32mif\u001b[0m \u001b[0mname\u001b[0m \u001b[0;32mis\u001b[0m \u001b[0;32mnot\u001b[0m \u001b[0;32mNone\u001b[0m\u001b[0;34m:\u001b[0m\u001b[0;34m\u001b[0m\u001b[0;34m\u001b[0m\u001b[0m\n",
      "\u001b[0;31mKeyboardInterrupt\u001b[0m: "
     ]
    }
   ],
   "source": [
    "classifier.fine_tune(epochs=4, learning_rate=2e-5, training_batch_size=32, validation_batch_size=64)"
   ]
  },
  {
   "cell_type": "code",
   "execution_count": null,
   "metadata": {},
   "outputs": [],
   "source": []
  }
 ],
 "metadata": {
  "kernelspec": {
   "display_name": "Python 3",
   "language": "python",
   "name": "python3"
  },
  "language_info": {
   "codemirror_mode": {
    "name": "ipython",
    "version": 3
   },
   "file_extension": ".py",
   "mimetype": "text/x-python",
   "name": "python",
   "nbconvert_exporter": "python",
   "pygments_lexer": "ipython3",
   "version": "3.7.7-final"
  }
 },
 "nbformat": 4,
 "nbformat_minor": 4
}