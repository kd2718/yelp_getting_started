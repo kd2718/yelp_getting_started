{
 "cells": [
  {
   "cell_type": "code",
   "execution_count": 54,
   "metadata": {},
   "outputs": [
    {
     "name": "stdout",
     "output_type": "stream",
     "text": [
      "Version:  2.1.0\n",
      "Eager mode:  True\n",
      "Hub version:  0.8.0\n",
      "GPU is NOT AVAILABLE\n"
     ]
    }
   ],
   "source": [
    "import pandas as pd\n",
    "import seaborn as sns\n",
    "from tqdm import tqdm_notebook as tqdm\n",
    "from tqdm import tqdm as tqdmflat\n",
    "\n",
    "import spacy\n",
    "from spacy.lang.en import English\n",
    "import os\n",
    "\n",
    "#from simpletransformers.classification import ClassificationModel\n",
    "\n",
    "import logging\n",
    "from sklearn.model_selection import train_test_split\n",
    "\n",
    "from sklearn.model_selection import train_test_split, StratifiedKFold\n",
    "\n",
    "import numpy as np\n",
    "\n",
    "import tensorflow as tf\n",
    "\n",
    "!pip install -q tensorflow-hub\n",
    "!pip install -q tfds-nightly\n",
    "import tensorflow_hub as hub\n",
    "import tensorflow_datasets as tfds\n",
    "\n",
    "print(\"Version: \", tf.__version__)\n",
    "print(\"Eager mode: \", tf.executing_eagerly())\n",
    "print(\"Hub version: \", hub.__version__)\n",
    "print(\"GPU is\", \"available\" if tf.config.experimental.list_physical_devices(\"GPU\") else \"NOT AVAILABLE\")\n",
    "\n",
    "\n"
   ]
  },
  {
   "cell_type": "code",
   "execution_count": 3,
   "metadata": {},
   "outputs": [],
   "source": [
    "PATH = 'data/'\n",
    "biz=pd.read_csv(os.path.join(PATH,\"yelp_business.csv\"))\n",
    "reviews=pd.read_csv(os.path.join(PATH,\"yelp_review.csv\"))"
   ]
  },
  {
   "cell_type": "code",
   "execution_count": 4,
   "metadata": {},
   "outputs": [],
   "source": [
    "\n",
    "col = ['neighborhood', 'address', 'latitude', 'longitude', 'stars']\n",
    "biz.drop(columns=col, inplace=True)    \n",
    "\n",
    "biz.categories = biz.categories.apply(lambda x: x.split(\";\"))\n",
    "\n",
    "biz = biz[\n",
    "    (biz.city == 'Cleveland') & \n",
    "    (biz.state == 'OH') & \n",
    "    (biz.is_open == 1) & \n",
    "    (biz.categories.apply(\n",
    "        lambda x: True if 'Restaurants' in x else False\n",
    "    ))]\n"
   ]
  },
  {
   "cell_type": "code",
   "execution_count": 5,
   "metadata": {},
   "outputs": [],
   "source": [
    "df = pd.merge(reviews, biz, how='inner', on='business_id')"
   ]
  },
  {
   "cell_type": "code",
   "execution_count": 6,
   "metadata": {},
   "outputs": [
    {
     "data": {
      "text/html": [
       "<div>\n",
       "<style scoped>\n",
       "    .dataframe tbody tr th:only-of-type {\n",
       "        vertical-align: middle;\n",
       "    }\n",
       "\n",
       "    .dataframe tbody tr th {\n",
       "        vertical-align: top;\n",
       "    }\n",
       "\n",
       "    .dataframe thead th {\n",
       "        text-align: right;\n",
       "    }\n",
       "</style>\n",
       "<table border=\"1\" class=\"dataframe\">\n",
       "  <thead>\n",
       "    <tr style=\"text-align: right;\">\n",
       "      <th></th>\n",
       "      <th>review_id</th>\n",
       "      <th>user_id</th>\n",
       "      <th>business_id</th>\n",
       "      <th>stars</th>\n",
       "      <th>date</th>\n",
       "      <th>text</th>\n",
       "      <th>useful</th>\n",
       "      <th>funny</th>\n",
       "      <th>cool</th>\n",
       "      <th>name</th>\n",
       "      <th>city</th>\n",
       "      <th>state</th>\n",
       "      <th>postal_code</th>\n",
       "      <th>review_count</th>\n",
       "      <th>is_open</th>\n",
       "      <th>categories</th>\n",
       "    </tr>\n",
       "  </thead>\n",
       "  <tbody>\n",
       "    <tr>\n",
       "      <th>0</th>\n",
       "      <td>OPZsR2jCG72uoDNjU71DQQ</td>\n",
       "      <td>qYbWTWH5leltA0bzWAOnmA</td>\n",
       "      <td>meXjqyhTNLFmknY39y2sMg</td>\n",
       "      <td>5</td>\n",
       "      <td>2014-09-11</td>\n",
       "      <td>Solid beers -- Christmas Ale defines my holida...</td>\n",
       "      <td>1</td>\n",
       "      <td>1</td>\n",
       "      <td>1</td>\n",
       "      <td>\"Great Lakes Brewing Company\"</td>\n",
       "      <td>Cleveland</td>\n",
       "      <td>OH</td>\n",
       "      <td>44113</td>\n",
       "      <td>751</td>\n",
       "      <td>1</td>\n",
       "      <td>[Breweries, Restaurants, Event Planning &amp; Serv...</td>\n",
       "    </tr>\n",
       "    <tr>\n",
       "      <th>1</th>\n",
       "      <td>fxGwEiSYDtAen8BNuVGGxg</td>\n",
       "      <td>8Az_JgEpXqAii_5EDkw2tw</td>\n",
       "      <td>meXjqyhTNLFmknY39y2sMg</td>\n",
       "      <td>3</td>\n",
       "      <td>2013-10-13</td>\n",
       "      <td>Meh.  It was OK.  A bartender the night before...</td>\n",
       "      <td>0</td>\n",
       "      <td>1</td>\n",
       "      <td>0</td>\n",
       "      <td>\"Great Lakes Brewing Company\"</td>\n",
       "      <td>Cleveland</td>\n",
       "      <td>OH</td>\n",
       "      <td>44113</td>\n",
       "      <td>751</td>\n",
       "      <td>1</td>\n",
       "      <td>[Breweries, Restaurants, Event Planning &amp; Serv...</td>\n",
       "    </tr>\n",
       "  </tbody>\n",
       "</table>\n",
       "</div>"
      ],
      "text/plain": [
       "                review_id                 user_id             business_id  \\\n",
       "0  OPZsR2jCG72uoDNjU71DQQ  qYbWTWH5leltA0bzWAOnmA  meXjqyhTNLFmknY39y2sMg   \n",
       "1  fxGwEiSYDtAen8BNuVGGxg  8Az_JgEpXqAii_5EDkw2tw  meXjqyhTNLFmknY39y2sMg   \n",
       "\n",
       "   stars        date                                               text  \\\n",
       "0      5  2014-09-11  Solid beers -- Christmas Ale defines my holida...   \n",
       "1      3  2013-10-13  Meh.  It was OK.  A bartender the night before...   \n",
       "\n",
       "   useful  funny  cool                           name       city state  \\\n",
       "0       1      1     1  \"Great Lakes Brewing Company\"  Cleveland    OH   \n",
       "1       0      1     0  \"Great Lakes Brewing Company\"  Cleveland    OH   \n",
       "\n",
       "  postal_code  review_count  is_open  \\\n",
       "0       44113           751        1   \n",
       "1       44113           751        1   \n",
       "\n",
       "                                          categories  \n",
       "0  [Breweries, Restaurants, Event Planning & Serv...  \n",
       "1  [Breweries, Restaurants, Event Planning & Serv...  "
      ]
     },
     "execution_count": 6,
     "metadata": {},
     "output_type": "execute_result"
    }
   ],
   "source": [
    "df.head(2)"
   ]
  },
  {
   "cell_type": "code",
   "execution_count": 15,
   "metadata": {},
   "outputs": [
    {
     "data": {
      "text/html": [
       "<div>\n",
       "<style scoped>\n",
       "    .dataframe tbody tr th:only-of-type {\n",
       "        vertical-align: middle;\n",
       "    }\n",
       "\n",
       "    .dataframe tbody tr th {\n",
       "        vertical-align: top;\n",
       "    }\n",
       "\n",
       "    .dataframe thead th {\n",
       "        text-align: right;\n",
       "    }\n",
       "</style>\n",
       "<table border=\"1\" class=\"dataframe\">\n",
       "  <thead>\n",
       "    <tr style=\"text-align: right;\">\n",
       "      <th></th>\n",
       "      <th>review_id</th>\n",
       "      <th>user_id</th>\n",
       "      <th>business_id</th>\n",
       "      <th>stars</th>\n",
       "      <th>date</th>\n",
       "      <th>text</th>\n",
       "      <th>useful</th>\n",
       "      <th>funny</th>\n",
       "      <th>cool</th>\n",
       "      <th>name</th>\n",
       "      <th>city</th>\n",
       "      <th>state</th>\n",
       "      <th>postal_code</th>\n",
       "      <th>review_count</th>\n",
       "      <th>is_open</th>\n",
       "      <th>categories</th>\n",
       "      <th>target</th>\n",
       "    </tr>\n",
       "  </thead>\n",
       "  <tbody>\n",
       "    <tr>\n",
       "      <th>0</th>\n",
       "      <td>OPZsR2jCG72uoDNjU71DQQ</td>\n",
       "      <td>qYbWTWH5leltA0bzWAOnmA</td>\n",
       "      <td>meXjqyhTNLFmknY39y2sMg</td>\n",
       "      <td>5</td>\n",
       "      <td>2014-09-11</td>\n",
       "      <td>Solid beers -- Christmas Ale defines my holida...</td>\n",
       "      <td>1</td>\n",
       "      <td>1</td>\n",
       "      <td>1</td>\n",
       "      <td>\"Great Lakes Brewing Company\"</td>\n",
       "      <td>Cleveland</td>\n",
       "      <td>OH</td>\n",
       "      <td>44113</td>\n",
       "      <td>751</td>\n",
       "      <td>1</td>\n",
       "      <td>[Breweries, Restaurants, Event Planning &amp; Serv...</td>\n",
       "      <td>1</td>\n",
       "    </tr>\n",
       "    <tr>\n",
       "      <th>1</th>\n",
       "      <td>fxGwEiSYDtAen8BNuVGGxg</td>\n",
       "      <td>8Az_JgEpXqAii_5EDkw2tw</td>\n",
       "      <td>meXjqyhTNLFmknY39y2sMg</td>\n",
       "      <td>3</td>\n",
       "      <td>2013-10-13</td>\n",
       "      <td>Meh.  It was OK.  A bartender the night before...</td>\n",
       "      <td>0</td>\n",
       "      <td>1</td>\n",
       "      <td>0</td>\n",
       "      <td>\"Great Lakes Brewing Company\"</td>\n",
       "      <td>Cleveland</td>\n",
       "      <td>OH</td>\n",
       "      <td>44113</td>\n",
       "      <td>751</td>\n",
       "      <td>1</td>\n",
       "      <td>[Breweries, Restaurants, Event Planning &amp; Serv...</td>\n",
       "      <td>0</td>\n",
       "    </tr>\n",
       "    <tr>\n",
       "      <th>2</th>\n",
       "      <td>Gweb4pADeQ26WnaiKEZ7GQ</td>\n",
       "      <td>T9tEic49JZjN4nCUcDvrRQ</td>\n",
       "      <td>meXjqyhTNLFmknY39y2sMg</td>\n",
       "      <td>4</td>\n",
       "      <td>2014-01-15</td>\n",
       "      <td>Oh Christmas Ale, oh Christmas Ale, how lovely...</td>\n",
       "      <td>1</td>\n",
       "      <td>1</td>\n",
       "      <td>1</td>\n",
       "      <td>\"Great Lakes Brewing Company\"</td>\n",
       "      <td>Cleveland</td>\n",
       "      <td>OH</td>\n",
       "      <td>44113</td>\n",
       "      <td>751</td>\n",
       "      <td>1</td>\n",
       "      <td>[Breweries, Restaurants, Event Planning &amp; Serv...</td>\n",
       "      <td>1</td>\n",
       "    </tr>\n",
       "    <tr>\n",
       "      <th>3</th>\n",
       "      <td>P1vhwPI56SeZEz10ywaS7w</td>\n",
       "      <td>W1p8_CFW5FISSihmQo5Qzw</td>\n",
       "      <td>meXjqyhTNLFmknY39y2sMg</td>\n",
       "      <td>3</td>\n",
       "      <td>2012-02-09</td>\n",
       "      <td>What is the big deal about this place? The foo...</td>\n",
       "      <td>2</td>\n",
       "      <td>1</td>\n",
       "      <td>1</td>\n",
       "      <td>\"Great Lakes Brewing Company\"</td>\n",
       "      <td>Cleveland</td>\n",
       "      <td>OH</td>\n",
       "      <td>44113</td>\n",
       "      <td>751</td>\n",
       "      <td>1</td>\n",
       "      <td>[Breweries, Restaurants, Event Planning &amp; Serv...</td>\n",
       "      <td>0</td>\n",
       "    </tr>\n",
       "    <tr>\n",
       "      <th>4</th>\n",
       "      <td>1kQvQlBX0V5_rGddBh9-rQ</td>\n",
       "      <td>Y_PP05RRdzbKRYfDCCfh8w</td>\n",
       "      <td>meXjqyhTNLFmknY39y2sMg</td>\n",
       "      <td>5</td>\n",
       "      <td>2017-04-30</td>\n",
       "      <td>Great Lakes Brewing Company is one of my favor...</td>\n",
       "      <td>0</td>\n",
       "      <td>0</td>\n",
       "      <td>0</td>\n",
       "      <td>\"Great Lakes Brewing Company\"</td>\n",
       "      <td>Cleveland</td>\n",
       "      <td>OH</td>\n",
       "      <td>44113</td>\n",
       "      <td>751</td>\n",
       "      <td>1</td>\n",
       "      <td>[Breweries, Restaurants, Event Planning &amp; Serv...</td>\n",
       "      <td>1</td>\n",
       "    </tr>\n",
       "  </tbody>\n",
       "</table>\n",
       "</div>"
      ],
      "text/plain": [
       "                review_id                 user_id             business_id  \\\n",
       "0  OPZsR2jCG72uoDNjU71DQQ  qYbWTWH5leltA0bzWAOnmA  meXjqyhTNLFmknY39y2sMg   \n",
       "1  fxGwEiSYDtAen8BNuVGGxg  8Az_JgEpXqAii_5EDkw2tw  meXjqyhTNLFmknY39y2sMg   \n",
       "2  Gweb4pADeQ26WnaiKEZ7GQ  T9tEic49JZjN4nCUcDvrRQ  meXjqyhTNLFmknY39y2sMg   \n",
       "3  P1vhwPI56SeZEz10ywaS7w  W1p8_CFW5FISSihmQo5Qzw  meXjqyhTNLFmknY39y2sMg   \n",
       "4  1kQvQlBX0V5_rGddBh9-rQ  Y_PP05RRdzbKRYfDCCfh8w  meXjqyhTNLFmknY39y2sMg   \n",
       "\n",
       "   stars        date                                               text  \\\n",
       "0      5  2014-09-11  Solid beers -- Christmas Ale defines my holida...   \n",
       "1      3  2013-10-13  Meh.  It was OK.  A bartender the night before...   \n",
       "2      4  2014-01-15  Oh Christmas Ale, oh Christmas Ale, how lovely...   \n",
       "3      3  2012-02-09  What is the big deal about this place? The foo...   \n",
       "4      5  2017-04-30  Great Lakes Brewing Company is one of my favor...   \n",
       "\n",
       "   useful  funny  cool                           name       city state  \\\n",
       "0       1      1     1  \"Great Lakes Brewing Company\"  Cleveland    OH   \n",
       "1       0      1     0  \"Great Lakes Brewing Company\"  Cleveland    OH   \n",
       "2       1      1     1  \"Great Lakes Brewing Company\"  Cleveland    OH   \n",
       "3       2      1     1  \"Great Lakes Brewing Company\"  Cleveland    OH   \n",
       "4       0      0     0  \"Great Lakes Brewing Company\"  Cleveland    OH   \n",
       "\n",
       "  postal_code  review_count  is_open  \\\n",
       "0       44113           751        1   \n",
       "1       44113           751        1   \n",
       "2       44113           751        1   \n",
       "3       44113           751        1   \n",
       "4       44113           751        1   \n",
       "\n",
       "                                          categories  target  \n",
       "0  [Breweries, Restaurants, Event Planning & Serv...       1  \n",
       "1  [Breweries, Restaurants, Event Planning & Serv...       0  \n",
       "2  [Breweries, Restaurants, Event Planning & Serv...       1  \n",
       "3  [Breweries, Restaurants, Event Planning & Serv...       0  \n",
       "4  [Breweries, Restaurants, Event Planning & Serv...       1  "
      ]
     },
     "execution_count": 15,
     "metadata": {},
     "output_type": "execute_result"
    }
   ],
   "source": [
    "df = df.assign(\n",
    "    target= (df.stars >= 4).astype(int)\n",
    ")\n",
    "df.head()"
   ]
  },
  {
   "cell_type": "code",
   "execution_count": 18,
   "metadata": {},
   "outputs": [],
   "source": [
    "# Declare X & Y\n",
    "Y = df['target']\n",
    "X = df['text']\n",
    "\n",
    "# Let's stratify the data so we get a fair balance\n",
    "X_train, X_test, y_train, y_test = train_test_split(\n",
    "    X, Y, test_size=0.25, random_state=42, stratify=Y, shuffle=True\n",
    ")\n",
    "\n",
    "X_trn, X_val, y_trn, y_val = train_test_split(\n",
    "    X_train, y_train, test_size=0.1, random_state=2718, stratify=y_train, shuffle=True\n",
    ")"
   ]
  },
  {
   "cell_type": "code",
   "execution_count": 29,
   "metadata": {},
   "outputs": [],
   "source": [
    "trn_dataset = tf.data.Dataset.from_tensor_slices((X_trn.values, y_trn.values))\n",
    "val_dataset = tf.data.Dataset.from_tensor_slices((X_val.values, y_val.values))\n",
    "test_dataset = tf.data.Dataset.from_tensor_slices((X_test.values, y_test.values))\n",
    "full_trn_dataset = tf.data.Dataset.from_tensor_slices((X_train.values, y_train.values))\n",
    "\n"
   ]
  },
  {
   "cell_type": "code",
   "execution_count": 30,
   "metadata": {},
   "outputs": [
    {
     "data": {
      "text/plain": [
       "(<tf.Tensor: shape=(), dtype=string, numpy=b\"Had breakfast here this morning with my husband, my 1.5 year old daughter, my sister-in-law, and brother-in-law who were visiting from Atlanta.  The food was great, the servers were very friendly and attentive, and we loved the art on the walls.  I particularly loved the random collection of coffee mugs they use.  Makes you feel like you are sipping coffee at your kitchen table at home!  There is also outdoor patio seating and they have a very good sized parking lot so you don't have to struggle to find street parking.  A great experience, and we will definitely be back!\">,\n",
       " <tf.Tensor: shape=(), dtype=int32, numpy=1>)"
      ]
     },
     "execution_count": 30,
     "metadata": {},
     "output_type": "execute_result"
    }
   ],
   "source": [
    "next(iter(trn_dataset))"
   ]
  },
  {
   "cell_type": "code",
   "execution_count": 55,
   "metadata": {},
   "outputs": [
    {
     "data": {
      "text/plain": [
       "<tf.Tensor: shape=(3, 20), dtype=float32, numpy=\n",
       "array([[ 3.1346078e+00, -1.4341266e+00,  4.3682310e-01,  6.8576205e-01,\n",
       "        -3.0143085e+00, -2.3653281e+00, -1.7773513e+00,  1.7121491e+00,\n",
       "         1.2667683e+00,  7.2778749e-01, -4.2402697e+00,  2.9655933e+00,\n",
       "        -2.2652957e+00, -1.2820994e-02, -6.4009433e+00,  1.8368458e-02,\n",
       "         3.6295979e+00, -3.4151301e-01, -2.3160038e+00, -8.6310530e-01],\n",
       "       [ 2.8281808e-01,  6.1656821e-01,  2.3511133e-01, -1.2997293e+00,\n",
       "        -1.0978019e+00, -5.0215811e-01, -5.8447570e-01, -7.9597253e-01,\n",
       "         4.9229687e-01,  9.0782791e-03,  1.3185677e-01,  3.3502468e-01,\n",
       "        -1.0797229e+00,  4.0779716e-01, -2.4878178e+00,  1.8422601e-01,\n",
       "         1.0713542e+00, -9.7727813e-02, -1.0575348e+00, -2.6321512e-01],\n",
       "       [ 4.1388006e+00, -3.6240318e+00,  3.4785690e+00,  4.2542901e+00,\n",
       "        -1.0087058e+01, -7.5313406e+00, -4.8082728e+00,  2.9591877e+00,\n",
       "         6.0119114e+00, -8.6026907e-01, -4.2112665e+00,  6.2156134e+00,\n",
       "        -2.9282076e+00,  1.0996730e+00, -1.1084502e+01,  1.8947603e+00,\n",
       "         1.0209510e+01, -2.9407372e+00, -6.7604580e+00, -3.8705478e+00]],\n",
       "      dtype=float32)>"
      ]
     },
     "execution_count": 55,
     "metadata": {},
     "output_type": "execute_result"
    }
   ],
   "source": [
    "#embedding = \"https://tfhub.dev/google/tf2-preview/gnews-swivel-20dim/1\"\n",
    "embeddingg = 'https://tfhub.dev/tensorflow/bert_multi_cased_L-12_H-768_A-12/2'\n",
    "hub_layer = hub.KerasLayer(embedding, input_shape=[], \n",
    "                           dtype=tf.string, trainable=True)\n",
    "hub_layer(next(iter(trn_dataset.batch(10)))[0][:3])\n"
   ]
  },
  {
   "cell_type": "code",
   "execution_count": 53,
   "metadata": {},
   "outputs": [
    {
     "data": {
      "text/plain": [
       "<tf.Tensor: shape=(10,), dtype=string, numpy=\n",
       "array([b\"Had breakfast here this morning with my husband, my 1.5 year old daughter, my sister-in-law, and brother-in-law who were visiting from Atlanta.  The food was great, the servers were very friendly and attentive, and we loved the art on the walls.  I particularly loved the random collection of coffee mugs they use.  Makes you feel like you are sipping coffee at your kitchen table at home!  There is also outdoor patio seating and they have a very good sized parking lot so you don't have to struggle to find street parking.  A great experience, and we will definitely be back!\",\n",
       "       b\"I was born in Korea and raised in LA and NYC. \\n\\nHa Ahn in Cleveland is one of the Top Five Korean restaurants I've ever been to.\\n\\nTruly authentic and every ingredient seems to be of the highest quality, and incredibly fresh.\",\n",
       "       b'This review is so difficult for me to write since I went there on my anniversary and I don\\'t want to make it sound like it wasn\\'t an awesome experience. \\n\\nIt was romantic, fancy, delicious, definitely memorable. If you haven\\'t dined on their whimsical patio, you\\'re surely missing out. We made reservations a day or two in advance and when we arrived, we asked to be seated on the patio. It was no problem and we were taken to a private table, which was really thoughtful. The scenery was beautiful and the only other guests was a large party under the awning. \\n\\nThe service was awesome. Our waiter looked like he\\'d been working there for quite some time and his knowledge of the menu was spot on. He took note that this was not only our first visit, but it was also our anniversary and made us feel really, really special. He added all the unique, fancy touches we needed to feel like we were having a proper night-on-the-town.\\n\\nThe menu was packed with items, all with pretty hefty price tags. I\\'d say unless you wanted just plain pasta with marinara, expect to spend over $30 or way more on any entree--meatless or not. For this price I expected the food to blow me away--and don\\'t get me wrong, it was delicious. The taste just did not match the price. In fact, I left feeling confused on how we spent about $200 on two pasta dinners, 2 appetizers and a couple drinks. \\n\\nI\\'m certainly the kind of gal who believes, \"you get what you pay for\" and doesn\\'t mind splurging on a great meal out for a special occasion. But when you leave a restaurant feeling like you could have had a better, fresher meal for less coin--it\\'s sort of disappointing. \\n\\nThe stuffed peppers were delicious, no complaints there. The caprese salad was just not great. The tomatoes were super-cold, a big sign that they were pre-cut and refrigerated. The mozzarella was chewy and also not fresh, but the worst part of the salad was the balsamic glaze. It was TOO sweet, almost like a balsamic caramel that overpowered what was supposed to be the delicious taste of fresh tomatoes and mozzarella. We both ordered different kinds of seafood pastas for our main courses and although my man scarfed his down, I had a hard time making a dent in my dish. It was good, but some of the shrimp and scallops were viciously over-cooked and chewy. But, I will say the pasta tasted freshly made and the tomato di olio sauce was tasty--just not over $30 tasty. Most of what I saw on the menu appeared to be too heavy and not focused on showcasing the fresh, beautiful and SIMPLE tastes of Italian cuisine and fresh ingredients.\\n\\nI truly believe in this business and wish nothing but the best for them, but they really need to think about updating certain aspects. The prices wouldn\\'t be so bad if the food was fresher and\\\\/or locally sourced. But it is not. The menu is stuck in 1970 and desperately needs a modern face-lift. Keep the items that work, but update what doesn\\'t for the love of our wallets. There is no way they\\'re pulling in the same profit that they were years ago and I guarantee that\\'s why the prices have inflated to these horrendous levels. \\n\\nI would definitely return to Johnny\\'s and probably stick with their traditional spaghetti, but I\\'d skip the other things which bump the price tag up x100. The atmosphere inside and out are totally unique to this Cleveland institution--an experience not to be missed.',\n",
       "       b'I love coming here! Such a awesome gem in the ohio city area. I used to work at chipotle and I feel this is much better. I love that they give the option of refried beans and free guac!',\n",
       "       b\"This place is a great addition to Ohio city. Unlike most places in this area, Boaz is not overpriced!! The falafel and wraps are amazing. They even have build your own bowl for just 7$ !! just opened and I've already been there 4 times.\",\n",
       "       b\"Going in, I'd never done Brazillian.  As a bonified carnivore, I personally enjoyed this place...the meat train in here veritably does not stop rolling! However, I made the unfortunate error of bringing someone there who I later found out was functionally vegetarian.  I felt pretty bad about that...as I consumed just about every meat option. \\n\\nWhile the buffet spread options are more than descent, the cost doesn't make Brasa a great choice if you're not a meat eater ($25-$35 per). Beyond that, the restaurant had good (prompt, although not the friendliest) service, and a nice ambiance.\",\n",
       "       b\"Those XXL oysters are serious bang for your buck! But as far as anything else being a good bang for your buck... I can't say there are many other great deals.\\n\\nPretty scenery, knowledgeable staff-- but slow service and too pricey in my opinion.\",\n",
       "       b\"Finally a good local breakfast spot downtown that's open on Saturday. And the food is good enough to make Saturday mornings in the office enjoyable.\",\n",
       "       b'Honestly? Not bad for gas station food. Had it delivered by UberEATS at about 2am. They ran out of jalape\\xc3\\xb1o poppers though. 4 stars.',\n",
       "       b'I heard that chipotle recently re-trained employees on how to not make customers sick. This location needs to re-train employees on how to properly wrap burritos. When I opened my burrito from this location, it looked like it had puked and crapped guacamole and sour cream everywhere.'],\n",
       "      dtype=object)>"
      ]
     },
     "execution_count": 53,
     "metadata": {},
     "output_type": "execute_result"
    }
   ],
   "source": [
    "next(iter(trn_dataset.batch(10)))[0]"
   ]
  },
  {
   "cell_type": "code",
   "execution_count": 56,
   "metadata": {},
   "outputs": [
    {
     "name": "stdout",
     "output_type": "stream",
     "text": [
      "Model: \"sequential_3\"\n",
      "_________________________________________________________________\n",
      "Layer (type)                 Output Shape              Param #   \n",
      "=================================================================\n",
      "keras_layer_7 (KerasLayer)   (None, 20)                400020    \n",
      "_________________________________________________________________\n",
      "dense_6 (Dense)              (None, 16)                336       \n",
      "_________________________________________________________________\n",
      "dense_7 (Dense)              (None, 1)                 17        \n",
      "=================================================================\n",
      "Total params: 400,373\n",
      "Trainable params: 400,373\n",
      "Non-trainable params: 0\n",
      "_________________________________________________________________\n"
     ]
    }
   ],
   "source": [
    "model = tf.keras.Sequential()\n",
    "model.add(hub_layer)\n",
    "model.add(tf.keras.layers.Dense(16, activation='relu'))\n",
    "model.add(tf.keras.layers.Dense(1))\n",
    "\n",
    "model.summary()\n"
   ]
  },
  {
   "cell_type": "code",
   "execution_count": 57,
   "metadata": {},
   "outputs": [],
   "source": [
    "model.compile(optimizer='adam',\n",
    "              loss=tf.keras.losses.BinaryCrossentropy(from_logits=True),\n",
    "              metrics=['accuracy'])\n"
   ]
  },
  {
   "cell_type": "code",
   "execution_count": 58,
   "metadata": {},
   "outputs": [
    {
     "name": "stdout",
     "output_type": "stream",
     "text": [
      "Train for 76 steps, validate for 9 steps\n",
      "Epoch 1/20\n",
      "76/76 [==============================] - 3s 37ms/step - loss: 0.6615 - accuracy: 0.5527 - val_loss: 0.5714 - val_accuracy: 0.6634\n",
      "Epoch 2/20\n",
      "76/76 [==============================] - 2s 27ms/step - loss: 0.5141 - accuracy: 0.7231 - val_loss: 0.4705 - val_accuracy: 0.7559\n",
      "Epoch 3/20\n",
      "76/76 [==============================] - 2s 28ms/step - loss: 0.4254 - accuracy: 0.8017 - val_loss: 0.4037 - val_accuracy: 0.8128\n",
      "Epoch 4/20\n",
      "76/76 [==============================] - 2s 29ms/step - loss: 0.3688 - accuracy: 0.8371 - val_loss: 0.3637 - val_accuracy: 0.8374\n",
      "Epoch 5/20\n",
      "76/76 [==============================] - 2s 29ms/step - loss: 0.3304 - accuracy: 0.8574 - val_loss: 0.3375 - val_accuracy: 0.8538\n",
      "Epoch 6/20\n",
      "76/76 [==============================] - 2s 28ms/step - loss: 0.3061 - accuracy: 0.8713 - val_loss: 0.3167 - val_accuracy: 0.8557\n",
      "Epoch 7/20\n",
      "76/76 [==============================] - 2s 28ms/step - loss: 0.2897 - accuracy: 0.8801 - val_loss: 0.3028 - val_accuracy: 0.8620\n",
      "Epoch 8/20\n",
      "76/76 [==============================] - 2s 29ms/step - loss: 0.2705 - accuracy: 0.8849 - val_loss: 0.2937 - val_accuracy: 0.8698\n",
      "Epoch 9/20\n",
      "76/76 [==============================] - 2s 28ms/step - loss: 0.2567 - accuracy: 0.8924 - val_loss: 0.2891 - val_accuracy: 0.8625\n",
      "Epoch 10/20\n",
      "76/76 [==============================] - 2s 28ms/step - loss: 0.2461 - accuracy: 0.8944 - val_loss: 0.2821 - val_accuracy: 0.8777\n",
      "Epoch 11/20\n",
      "76/76 [==============================] - 2s 31ms/step - loss: 0.2375 - accuracy: 0.9009 - val_loss: 0.2846 - val_accuracy: 0.8831\n",
      "Epoch 12/20\n",
      "76/76 [==============================] - 2s 31ms/step - loss: 0.2308 - accuracy: 0.9046 - val_loss: 0.2766 - val_accuracy: 0.8707\n",
      "Epoch 13/20\n",
      "76/76 [==============================] - 2s 28ms/step - loss: 0.2241 - accuracy: 0.9082 - val_loss: 0.2780 - val_accuracy: 0.8833\n",
      "Epoch 14/20\n",
      "76/76 [==============================] - 2s 30ms/step - loss: 0.2170 - accuracy: 0.9098 - val_loss: 0.2751 - val_accuracy: 0.8798\n",
      "Epoch 15/20\n",
      "76/76 [==============================] - 2s 28ms/step - loss: 0.2104 - accuracy: 0.9136 - val_loss: 0.2748 - val_accuracy: 0.8784\n",
      "Epoch 16/20\n",
      "76/76 [==============================] - 2s 28ms/step - loss: 0.2038 - accuracy: 0.9145 - val_loss: 0.2763 - val_accuracy: 0.8789\n",
      "Epoch 17/20\n",
      "76/76 [==============================] - 2s 28ms/step - loss: 0.2001 - accuracy: 0.9183 - val_loss: 0.2781 - val_accuracy: 0.8819\n",
      "Epoch 18/20\n",
      "76/76 [==============================] - 2s 28ms/step - loss: 0.1951 - accuracy: 0.9196 - val_loss: 0.2812 - val_accuracy: 0.8831\n",
      "Epoch 19/20\n",
      "76/76 [==============================] - 2s 28ms/step - loss: 0.1923 - accuracy: 0.9222 - val_loss: 0.2833 - val_accuracy: 0.8845\n",
      "Epoch 20/20\n",
      "76/76 [==============================] - 2s 28ms/step - loss: 0.1873 - accuracy: 0.9243 - val_loss: 0.2898 - val_accuracy: 0.8833\n"
     ]
    }
   ],
   "source": [
    "history = model.fit(trn_dataset.shuffle(10000).batch(512),\n",
    "                    epochs=20,\n",
    "                    validation_data=val_dataset.batch(512),\n",
    "                    verbose=1)\n"
   ]
  },
  {
   "cell_type": "code",
   "execution_count": 59,
   "metadata": {},
   "outputs": [
    {
     "name": "stdout",
     "output_type": "stream",
     "text": [
      "28/28 - 1s - loss: 0.2928 - accuracy: 0.8834\n",
      "loss: 0.293\n",
      "accuracy: 0.883\n"
     ]
    }
   ],
   "source": [
    "results = model.evaluate(test_dataset.batch(512), verbose=2)\n",
    "\n",
    "for name, value in zip(model.metrics_names, results):\n",
    "  print(\"%s: %.3f\" % (name, value))\n"
   ]
  },
  {
   "cell_type": "code",
   "execution_count": 61,
   "metadata": {},
   "outputs": [
    {
     "ename": "ValueError",
     "evalue": "Input 0 of layer bidirectional_2 is incompatible with the layer: expected ndim=3, found ndim=2. Full shape received: [None, 20]",
     "output_type": "error",
     "traceback": [
      "\u001b[1;31m---------------------------------------------------------------------------\u001b[0m",
      "\u001b[1;31mValueError\u001b[0m                                Traceback (most recent call last)",
      "\u001b[1;32m<ipython-input-61-2ddadf9300f7>\u001b[0m in \u001b[0;36m<module>\u001b[1;34m\u001b[0m\n\u001b[0;32m      3\u001b[0m     \u001b[0mtf\u001b[0m\u001b[1;33m.\u001b[0m\u001b[0mkeras\u001b[0m\u001b[1;33m.\u001b[0m\u001b[0mlayers\u001b[0m\u001b[1;33m.\u001b[0m\u001b[0mBidirectional\u001b[0m\u001b[1;33m(\u001b[0m\u001b[0mtf\u001b[0m\u001b[1;33m.\u001b[0m\u001b[0mkeras\u001b[0m\u001b[1;33m.\u001b[0m\u001b[0mlayers\u001b[0m\u001b[1;33m.\u001b[0m\u001b[0mLSTM\u001b[0m\u001b[1;33m(\u001b[0m\u001b[1;36m64\u001b[0m\u001b[1;33m)\u001b[0m\u001b[1;33m)\u001b[0m\u001b[1;33m,\u001b[0m\u001b[1;33m\u001b[0m\u001b[1;33m\u001b[0m\u001b[0m\n\u001b[0;32m      4\u001b[0m     \u001b[0mtf\u001b[0m\u001b[1;33m.\u001b[0m\u001b[0mkeras\u001b[0m\u001b[1;33m.\u001b[0m\u001b[0mlayers\u001b[0m\u001b[1;33m.\u001b[0m\u001b[0mDense\u001b[0m\u001b[1;33m(\u001b[0m\u001b[1;36m64\u001b[0m\u001b[1;33m,\u001b[0m \u001b[0mactivation\u001b[0m\u001b[1;33m=\u001b[0m\u001b[1;34m'relu'\u001b[0m\u001b[1;33m)\u001b[0m\u001b[1;33m,\u001b[0m\u001b[1;33m\u001b[0m\u001b[1;33m\u001b[0m\u001b[0m\n\u001b[1;32m----> 5\u001b[1;33m     \u001b[0mtf\u001b[0m\u001b[1;33m.\u001b[0m\u001b[0mkeras\u001b[0m\u001b[1;33m.\u001b[0m\u001b[0mlayers\u001b[0m\u001b[1;33m.\u001b[0m\u001b[0mDense\u001b[0m\u001b[1;33m(\u001b[0m\u001b[1;36m1\u001b[0m\u001b[1;33m)\u001b[0m\u001b[1;33m\u001b[0m\u001b[1;33m\u001b[0m\u001b[0m\n\u001b[0m\u001b[0;32m      6\u001b[0m ])\n",
      "\u001b[1;32mC:\\tools\\miniconda3\\envs\\yelp\\lib\\site-packages\\tensorflow_core\\python\\training\\tracking\\base.py\u001b[0m in \u001b[0;36m_method_wrapper\u001b[1;34m(self, *args, **kwargs)\u001b[0m\n\u001b[0;32m    455\u001b[0m     \u001b[0mself\u001b[0m\u001b[1;33m.\u001b[0m\u001b[0m_self_setattr_tracking\u001b[0m \u001b[1;33m=\u001b[0m \u001b[1;32mFalse\u001b[0m  \u001b[1;31m# pylint: disable=protected-access\u001b[0m\u001b[1;33m\u001b[0m\u001b[1;33m\u001b[0m\u001b[0m\n\u001b[0;32m    456\u001b[0m     \u001b[1;32mtry\u001b[0m\u001b[1;33m:\u001b[0m\u001b[1;33m\u001b[0m\u001b[1;33m\u001b[0m\u001b[0m\n\u001b[1;32m--> 457\u001b[1;33m       \u001b[0mresult\u001b[0m \u001b[1;33m=\u001b[0m \u001b[0mmethod\u001b[0m\u001b[1;33m(\u001b[0m\u001b[0mself\u001b[0m\u001b[1;33m,\u001b[0m \u001b[1;33m*\u001b[0m\u001b[0margs\u001b[0m\u001b[1;33m,\u001b[0m \u001b[1;33m**\u001b[0m\u001b[0mkwargs\u001b[0m\u001b[1;33m)\u001b[0m\u001b[1;33m\u001b[0m\u001b[1;33m\u001b[0m\u001b[0m\n\u001b[0m\u001b[0;32m    458\u001b[0m     \u001b[1;32mfinally\u001b[0m\u001b[1;33m:\u001b[0m\u001b[1;33m\u001b[0m\u001b[1;33m\u001b[0m\u001b[0m\n\u001b[0;32m    459\u001b[0m       \u001b[0mself\u001b[0m\u001b[1;33m.\u001b[0m\u001b[0m_self_setattr_tracking\u001b[0m \u001b[1;33m=\u001b[0m \u001b[0mprevious_value\u001b[0m  \u001b[1;31m# pylint: disable=protected-access\u001b[0m\u001b[1;33m\u001b[0m\u001b[1;33m\u001b[0m\u001b[0m\n",
      "\u001b[1;32mC:\\tools\\miniconda3\\envs\\yelp\\lib\\site-packages\\tensorflow_core\\python\\keras\\engine\\sequential.py\u001b[0m in \u001b[0;36m__init__\u001b[1;34m(self, layers, name)\u001b[0m\n\u001b[0;32m    114\u001b[0m       \u001b[0mtf_utils\u001b[0m\u001b[1;33m.\u001b[0m\u001b[0massert_no_legacy_layers\u001b[0m\u001b[1;33m(\u001b[0m\u001b[0mlayers\u001b[0m\u001b[1;33m)\u001b[0m\u001b[1;33m\u001b[0m\u001b[1;33m\u001b[0m\u001b[0m\n\u001b[0;32m    115\u001b[0m       \u001b[1;32mfor\u001b[0m \u001b[0mlayer\u001b[0m \u001b[1;32min\u001b[0m \u001b[0mlayers\u001b[0m\u001b[1;33m:\u001b[0m\u001b[1;33m\u001b[0m\u001b[1;33m\u001b[0m\u001b[0m\n\u001b[1;32m--> 116\u001b[1;33m         \u001b[0mself\u001b[0m\u001b[1;33m.\u001b[0m\u001b[0madd\u001b[0m\u001b[1;33m(\u001b[0m\u001b[0mlayer\u001b[0m\u001b[1;33m)\u001b[0m\u001b[1;33m\u001b[0m\u001b[1;33m\u001b[0m\u001b[0m\n\u001b[0m\u001b[0;32m    117\u001b[0m \u001b[1;33m\u001b[0m\u001b[0m\n\u001b[0;32m    118\u001b[0m   \u001b[1;33m@\u001b[0m\u001b[0mproperty\u001b[0m\u001b[1;33m\u001b[0m\u001b[1;33m\u001b[0m\u001b[0m\n",
      "\u001b[1;32mC:\\tools\\miniconda3\\envs\\yelp\\lib\\site-packages\\tensorflow_core\\python\\training\\tracking\\base.py\u001b[0m in \u001b[0;36m_method_wrapper\u001b[1;34m(self, *args, **kwargs)\u001b[0m\n\u001b[0;32m    455\u001b[0m     \u001b[0mself\u001b[0m\u001b[1;33m.\u001b[0m\u001b[0m_self_setattr_tracking\u001b[0m \u001b[1;33m=\u001b[0m \u001b[1;32mFalse\u001b[0m  \u001b[1;31m# pylint: disable=protected-access\u001b[0m\u001b[1;33m\u001b[0m\u001b[1;33m\u001b[0m\u001b[0m\n\u001b[0;32m    456\u001b[0m     \u001b[1;32mtry\u001b[0m\u001b[1;33m:\u001b[0m\u001b[1;33m\u001b[0m\u001b[1;33m\u001b[0m\u001b[0m\n\u001b[1;32m--> 457\u001b[1;33m       \u001b[0mresult\u001b[0m \u001b[1;33m=\u001b[0m \u001b[0mmethod\u001b[0m\u001b[1;33m(\u001b[0m\u001b[0mself\u001b[0m\u001b[1;33m,\u001b[0m \u001b[1;33m*\u001b[0m\u001b[0margs\u001b[0m\u001b[1;33m,\u001b[0m \u001b[1;33m**\u001b[0m\u001b[0mkwargs\u001b[0m\u001b[1;33m)\u001b[0m\u001b[1;33m\u001b[0m\u001b[1;33m\u001b[0m\u001b[0m\n\u001b[0m\u001b[0;32m    458\u001b[0m     \u001b[1;32mfinally\u001b[0m\u001b[1;33m:\u001b[0m\u001b[1;33m\u001b[0m\u001b[1;33m\u001b[0m\u001b[0m\n\u001b[0;32m    459\u001b[0m       \u001b[0mself\u001b[0m\u001b[1;33m.\u001b[0m\u001b[0m_self_setattr_tracking\u001b[0m \u001b[1;33m=\u001b[0m \u001b[0mprevious_value\u001b[0m  \u001b[1;31m# pylint: disable=protected-access\u001b[0m\u001b[1;33m\u001b[0m\u001b[1;33m\u001b[0m\u001b[0m\n",
      "\u001b[1;32mC:\\tools\\miniconda3\\envs\\yelp\\lib\\site-packages\\tensorflow_core\\python\\keras\\engine\\sequential.py\u001b[0m in \u001b[0;36madd\u001b[1;34m(self, layer)\u001b[0m\n\u001b[0;32m    201\u001b[0m       \u001b[1;31m# If the model is being built continuously on top of an input layer:\u001b[0m\u001b[1;33m\u001b[0m\u001b[1;33m\u001b[0m\u001b[1;33m\u001b[0m\u001b[0m\n\u001b[0;32m    202\u001b[0m       \u001b[1;31m# refresh its output.\u001b[0m\u001b[1;33m\u001b[0m\u001b[1;33m\u001b[0m\u001b[1;33m\u001b[0m\u001b[0m\n\u001b[1;32m--> 203\u001b[1;33m       \u001b[0moutput_tensor\u001b[0m \u001b[1;33m=\u001b[0m \u001b[0mlayer\u001b[0m\u001b[1;33m(\u001b[0m\u001b[0mself\u001b[0m\u001b[1;33m.\u001b[0m\u001b[0moutputs\u001b[0m\u001b[1;33m[\u001b[0m\u001b[1;36m0\u001b[0m\u001b[1;33m]\u001b[0m\u001b[1;33m)\u001b[0m\u001b[1;33m\u001b[0m\u001b[1;33m\u001b[0m\u001b[0m\n\u001b[0m\u001b[0;32m    204\u001b[0m       \u001b[1;32mif\u001b[0m \u001b[0mlen\u001b[0m\u001b[1;33m(\u001b[0m\u001b[0mnest\u001b[0m\u001b[1;33m.\u001b[0m\u001b[0mflatten\u001b[0m\u001b[1;33m(\u001b[0m\u001b[0moutput_tensor\u001b[0m\u001b[1;33m)\u001b[0m\u001b[1;33m)\u001b[0m \u001b[1;33m!=\u001b[0m \u001b[1;36m1\u001b[0m\u001b[1;33m:\u001b[0m\u001b[1;33m\u001b[0m\u001b[1;33m\u001b[0m\u001b[0m\n\u001b[0;32m    205\u001b[0m         raise TypeError('All layers in a Sequential model '\n",
      "\u001b[1;32mC:\\tools\\miniconda3\\envs\\yelp\\lib\\site-packages\\tensorflow_core\\python\\keras\\layers\\wrappers.py\u001b[0m in \u001b[0;36m__call__\u001b[1;34m(self, inputs, initial_state, constants, **kwargs)\u001b[0m\n\u001b[0;32m    541\u001b[0m \u001b[1;33m\u001b[0m\u001b[0m\n\u001b[0;32m    542\u001b[0m     \u001b[1;32mif\u001b[0m \u001b[0minitial_state\u001b[0m \u001b[1;32mis\u001b[0m \u001b[1;32mNone\u001b[0m \u001b[1;32mand\u001b[0m \u001b[0mconstants\u001b[0m \u001b[1;32mis\u001b[0m \u001b[1;32mNone\u001b[0m\u001b[1;33m:\u001b[0m\u001b[1;33m\u001b[0m\u001b[1;33m\u001b[0m\u001b[0m\n\u001b[1;32m--> 543\u001b[1;33m       \u001b[1;32mreturn\u001b[0m \u001b[0msuper\u001b[0m\u001b[1;33m(\u001b[0m\u001b[0mBidirectional\u001b[0m\u001b[1;33m,\u001b[0m \u001b[0mself\u001b[0m\u001b[1;33m)\u001b[0m\u001b[1;33m.\u001b[0m\u001b[0m__call__\u001b[0m\u001b[1;33m(\u001b[0m\u001b[0minputs\u001b[0m\u001b[1;33m,\u001b[0m \u001b[1;33m**\u001b[0m\u001b[0mkwargs\u001b[0m\u001b[1;33m)\u001b[0m\u001b[1;33m\u001b[0m\u001b[1;33m\u001b[0m\u001b[0m\n\u001b[0m\u001b[0;32m    544\u001b[0m \u001b[1;33m\u001b[0m\u001b[0m\n\u001b[0;32m    545\u001b[0m     \u001b[1;31m# Applies the same workaround as in `RNN.__call__`\u001b[0m\u001b[1;33m\u001b[0m\u001b[1;33m\u001b[0m\u001b[1;33m\u001b[0m\u001b[0m\n",
      "\u001b[1;32mC:\\tools\\miniconda3\\envs\\yelp\\lib\\site-packages\\tensorflow_core\\python\\keras\\engine\\base_layer.py\u001b[0m in \u001b[0;36m__call__\u001b[1;34m(self, inputs, *args, **kwargs)\u001b[0m\n\u001b[0;32m    735\u001b[0m         \u001b[1;31m# are casted, not before.\u001b[0m\u001b[1;33m\u001b[0m\u001b[1;33m\u001b[0m\u001b[1;33m\u001b[0m\u001b[0m\n\u001b[0;32m    736\u001b[0m         input_spec.assert_input_compatibility(self.input_spec, inputs,\n\u001b[1;32m--> 737\u001b[1;33m                                               self.name)\n\u001b[0m\u001b[0;32m    738\u001b[0m         if (any(isinstance(x, ragged_tensor.RaggedTensor) for x in input_list)\n\u001b[0;32m    739\u001b[0m             and self._supports_ragged_inputs is False):  # pylint: disable=g-bool-id-comparison\n",
      "\u001b[1;32mC:\\tools\\miniconda3\\envs\\yelp\\lib\\site-packages\\tensorflow_core\\python\\keras\\engine\\input_spec.py\u001b[0m in \u001b[0;36massert_input_compatibility\u001b[1;34m(input_spec, inputs, layer_name)\u001b[0m\n\u001b[0;32m    175\u001b[0m                          \u001b[1;34m'expected ndim='\u001b[0m \u001b[1;33m+\u001b[0m \u001b[0mstr\u001b[0m\u001b[1;33m(\u001b[0m\u001b[0mspec\u001b[0m\u001b[1;33m.\u001b[0m\u001b[0mndim\u001b[0m\u001b[1;33m)\u001b[0m \u001b[1;33m+\u001b[0m \u001b[1;34m', found ndim='\u001b[0m \u001b[1;33m+\u001b[0m\u001b[1;33m\u001b[0m\u001b[1;33m\u001b[0m\u001b[0m\n\u001b[0;32m    176\u001b[0m                          \u001b[0mstr\u001b[0m\u001b[1;33m(\u001b[0m\u001b[0mndim\u001b[0m\u001b[1;33m)\u001b[0m \u001b[1;33m+\u001b[0m \u001b[1;34m'. Full shape received: '\u001b[0m \u001b[1;33m+\u001b[0m\u001b[1;33m\u001b[0m\u001b[1;33m\u001b[0m\u001b[0m\n\u001b[1;32m--> 177\u001b[1;33m                          str(x.shape.as_list()))\n\u001b[0m\u001b[0;32m    178\u001b[0m     \u001b[1;32mif\u001b[0m \u001b[0mspec\u001b[0m\u001b[1;33m.\u001b[0m\u001b[0mmax_ndim\u001b[0m \u001b[1;32mis\u001b[0m \u001b[1;32mnot\u001b[0m \u001b[1;32mNone\u001b[0m\u001b[1;33m:\u001b[0m\u001b[1;33m\u001b[0m\u001b[1;33m\u001b[0m\u001b[0m\n\u001b[0;32m    179\u001b[0m       \u001b[0mndim\u001b[0m \u001b[1;33m=\u001b[0m \u001b[0mx\u001b[0m\u001b[1;33m.\u001b[0m\u001b[0mshape\u001b[0m\u001b[1;33m.\u001b[0m\u001b[0mndims\u001b[0m\u001b[1;33m\u001b[0m\u001b[1;33m\u001b[0m\u001b[0m\n",
      "\u001b[1;31mValueError\u001b[0m: Input 0 of layer bidirectional_2 is incompatible with the layer: expected ndim=3, found ndim=2. Full shape received: [None, 20]"
     ]
    }
   ],
   "source": [
    "model2 = tf.keras.Sequential([\n",
    "    hub_layer,\n",
    "    tf.keras.layers.Bidirectional(tf.keras.layers.LSTM(64)),\n",
    "    tf.keras.layers.Dense(64, activation='relu'),\n",
    "    tf.keras.layers.Dense(1)\n",
    "])\n"
   ]
  },
  {
   "cell_type": "code",
   "execution_count": null,
   "metadata": {},
   "outputs": [],
   "source": []
  }
 ],
 "metadata": {
  "kernelspec": {
   "display_name": "Python 3",
   "language": "python",
   "name": "python3"
  },
  "language_info": {
   "codemirror_mode": {
    "name": "ipython",
    "version": 3
   },
   "file_extension": ".py",
   "mimetype": "text/x-python",
   "name": "python",
   "nbconvert_exporter": "python",
   "pygments_lexer": "ipython3",
   "version": "3.7.7"
  }
 },
 "nbformat": 4,
 "nbformat_minor": 4
}
